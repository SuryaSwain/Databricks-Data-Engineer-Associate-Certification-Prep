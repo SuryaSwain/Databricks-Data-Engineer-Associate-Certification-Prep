{
 "cells": [
  {
   "cell_type": "markdown",
   "metadata": {
    "application/vnd.databricks.v1+cell": {
     "cellMetadata": {},
     "inputWidgets": {},
     "nuid": "63dc0c04-a6fd-4998-b0b4-45e58307aee6",
     "showTitle": false,
     "title": ""
    }
   },
   "source": [
    "# Lecture 32. Processing CDC Feed with DLT (Hands On) - Part 1"
   ]
  },
  {
   "cell_type": "markdown",
   "metadata": {
    "application/vnd.databricks.v1+cell": {
     "cellMetadata": {},
     "inputWidgets": {},
     "nuid": "ed373698-c3f5-4778-b501-27ca6246eef2",
     "showTitle": false,
     "title": ""
    }
   },
   "source": [
    "In this demo, we are going to process **change data capture (CDC)** feed with **Delta Live Tables (DLT)**.\n",
    "\n",
    "Before we see our **DLT pipeline**, let us take a look at the CDC data we will process during this demo.\n"
   ]
  },
  {
   "cell_type": "code",
   "execution_count": 0,
   "metadata": {
    "application/vnd.databricks.v1+cell": {
     "cellMetadata": {
      "byteLimit": 2048000,
      "rowLimit": 10000
     },
     "inputWidgets": {},
     "nuid": "cdeef0e0-e827-456a-be14-730c975df001",
     "showTitle": false,
     "title": ""
    }
   },
   "outputs": [],
   "source": [
    "%run ../Includes/Copy-Datasets"
   ]
  },
  {
   "cell_type": "markdown",
   "metadata": {
    "application/vnd.databricks.v1+cell": {
     "cellMetadata": {},
     "inputWidgets": {},
     "nuid": "0f13f60b-c965-49e2-a70a-1d98f6af7e13",
     "showTitle": false,
     "title": ""
    }
   },
   "source": [
    "## CDC Data Source\n",
    "\n",
    "Our CDC data is delivered in **JSON files**. Here, we have a simple notebook to land new data files in our source directory.\n",
    "\n",
    "Let us run this function to load a new file of the CDC feed.\n"
   ]
  },
  {
   "cell_type": "code",
   "execution_count": 0,
   "metadata": {
    "application/vnd.databricks.v1+cell": {
     "cellMetadata": {
      "byteLimit": 2048000,
      "rowLimit": 10000
     },
     "inputWidgets": {},
     "nuid": "3c023e74-0c78-4f42-bd5e-cbde123e97a5",
     "showTitle": false,
     "title": ""
    }
   },
   "outputs": [
    {
     "output_type": "stream",
     "name": "stdout",
     "output_type": "stream",
     "text": [
      "Loading 02.json orders file to the bookstore dataset\nLoading 02.json books file to the bookstore dataset\n"
     ]
    }
   ],
   "source": [
    "%python\n",
    "load_new_json_data()"
   ]
  },
  {
   "cell_type": "markdown",
   "metadata": {
    "application/vnd.databricks.v1+cell": {
     "cellMetadata": {},
     "inputWidgets": {},
     "nuid": "6c7f64f4-f04f-42c5-820e-316687deebee",
     "showTitle": false,
     "title": ""
    }
   },
   "source": [
    "\n",
    "We now have a new JSON file, number 2.\n",
    "\n",
    "Let us take a look at the content of this file.\n"
   ]
  },
  {
   "cell_type": "code",
   "execution_count": 0,
   "metadata": {
    "application/vnd.databricks.v1+cell": {
     "cellMetadata": {
      "byteLimit": 2048000,
      "implicitDf": true,
      "rowLimit": 10000
     },
     "inputWidgets": {},
     "nuid": "4fa77333-1437-4e16-8a5b-92d8b1ff6df8",
     "showTitle": false,
     "title": ""
    },
    "vscode": {
     "languageId": "sql"
    }
   },
   "outputs": [
    {
     "output_type": "display_data",
     "data": {
      "text/html": [
       "<style scoped>\n",
       "  .table-result-container {\n",
       "    max-height: 300px;\n",
       "    overflow: auto;\n",
       "  }\n",
       "  table, th, td {\n",
       "    border: 1px solid black;\n",
       "    border-collapse: collapse;\n",
       "  }\n",
       "  th, td {\n",
       "    padding: 5px;\n",
       "  }\n",
       "  th {\n",
       "    text-align: left;\n",
       "  }\n",
       "</style><div class='table-result-container'><table class='table-result'><thead style='background-color: white'><tr><th>author</th><th>book_id</th><th>category</th><th>price</th><th>row_status</th><th>row_time</th><th>title</th></tr></thead><tbody><tr><td>Addy Osmani</td><td>B02</td><td>Computer Science</td><td>40</td><td>UPDATE</td><td>2022-11-05T18:17:50.236+01:00</td><td>Learning JavaScript Design Patterns</td></tr><tr><td>Tariq Rashid</td><td>B03</td><td>Computer Science</td><td>30</td><td>UPDATE</td><td>2022-11-05T18:11:33.507+01:00</td><td>Make Your Own Neural Network</td></tr><tr><td>null</td><td>B01</td><td>null</td><td>null</td><td>DELETE</td><td>2022-11-05T18:17:50.236+01:00</td><td>null</td></tr><tr><td>Mark W. Spong</td><td>B04</td><td>Computer Science</td><td>20</td><td>INSERT</td><td>2022-11-05T18:12:05.419+01:00</td><td>Robot Dynamics and Control</td></tr><tr><td>Luciano Ramalho</td><td>B05</td><td>Computer Science</td><td>47</td><td>INSERT</td><td>2022-11-05T18:12:05.419+01:00</td><td>Fluent Python</td></tr><tr><td>François Chollet</td><td>B06</td><td>Computer Science</td><td>22</td><td>INSERT</td><td>2022-11-05T18:12:05.419+01:00</td><td>Deep Learning with Python</td></tr></tbody></table></div>"
      ]
     },
     "metadata": {
      "application/vnd.databricks.v1+output": {
       "addedWidgets": {},
       "aggData": [],
       "aggError": "",
       "aggOverflow": false,
       "aggSchema": [],
       "aggSeriesLimitReached": false,
       "aggType": "",
       "arguments": {},
       "columnCustomDisplayInfos": {},
       "data": [
        [
         "Addy Osmani",
         "B02",
         "Computer Science",
         "40",
         "UPDATE",
         "2022-11-05T18:17:50.236+01:00",
         "Learning JavaScript Design Patterns"
        ],
        [
         "Tariq Rashid",
         "B03",
         "Computer Science",
         "30",
         "UPDATE",
         "2022-11-05T18:11:33.507+01:00",
         "Make Your Own Neural Network"
        ],
        [
         null,
         "B01",
         null,
         null,
         "DELETE",
         "2022-11-05T18:17:50.236+01:00",
         null
        ],
        [
         "Mark W. Spong",
         "B04",
         "Computer Science",
         "20",
         "INSERT",
         "2022-11-05T18:12:05.419+01:00",
         "Robot Dynamics and Control"
        ],
        [
         "Luciano Ramalho",
         "B05",
         "Computer Science",
         "47",
         "INSERT",
         "2022-11-05T18:12:05.419+01:00",
         "Fluent Python"
        ],
        [
         "François Chollet",
         "B06",
         "Computer Science",
         "22",
         "INSERT",
         "2022-11-05T18:12:05.419+01:00",
         "Deep Learning with Python"
        ]
       ],
       "datasetInfos": [],
       "dbfsResultPath": null,
       "isJsonSchema": true,
       "metadata": {
        "dataframeName": "_sqldf",
        "executionCount": 11
       },
       "overflow": false,
       "plotOptions": {
        "customPlotOptions": {},
        "displayType": "table",
        "pivotAggregation": null,
        "pivotColumns": null,
        "xColumns": null,
        "yColumns": null
       },
       "removedWidgets": [],
       "schema": [
        {
         "metadata": "{}",
         "name": "author",
         "type": "\"string\""
        },
        {
         "metadata": "{}",
         "name": "book_id",
         "type": "\"string\""
        },
        {
         "metadata": "{}",
         "name": "category",
         "type": "\"string\""
        },
        {
         "metadata": "{}",
         "name": "price",
         "type": "\"string\""
        },
        {
         "metadata": "{}",
         "name": "row_status",
         "type": "\"string\""
        },
        {
         "metadata": "{}",
         "name": "row_time",
         "type": "\"string\""
        },
        {
         "metadata": "{}",
         "name": "title",
         "type": "\"string\""
        }
       ],
       "type": "table"
      }
     },
     "output_type": "display_data"
    }
   ],
   "source": [
    "%sql\n",
    "SELECT * from json.`${dataset.bookstore}/books-cdc/02.json`"
   ]
  },
  {
   "cell_type": "markdown",
   "metadata": {
    "application/vnd.databricks.v1+cell": {
     "cellMetadata": {},
     "inputWidgets": {},
     "nuid": "82267789-cb7c-4414-beff-b79bf1432b1f",
     "showTitle": false,
     "title": ""
    }
   },
   "source": [
    "\n",
    "Here is the CDC data of our **books** table. As you can see, in addition to the **books data**, we have two operational columns: `row_status` and `row_time`.\n",
    "\n",
    "- `row_status` contains **Insert**, **Update**, **Delete** operations, indicating whether the specified record was inserted, updated, or deleted.\n",
    "  - **Update** and **Insert** operations contain valid entries for all fields.\n",
    "  - **Delete** operations contain null values for all fields except the `book_id`.\n",
    "\n",
    "- The second column, `row_time`, indicates **when** this change happened.  \n",
    "  This `row_time` will be used as the **sequence key** in our CDC data processing.\n",
    "\n",
    "## Switching to the DLT Pipeline\n",
    "\n",
    "Let us now switch to our **DLT pipeline**.  \n",
    "\n",
    "\n",
    "\n",
    "Here, in addition to the previous notebook we saw in the earlier demo, we are adding a new notebook to this DLT pipeline.\n",
    "\n",
    "We will see later how we can edit an existing pipeline to add an additional notebook.\n",
    "\n",
    "For now, let us take a look at our new notebook.\n",
    "\n"
   ]
  },
  {
   "cell_type": "markdown",
   "metadata": {
    "application/vnd.databricks.v1+cell": {
     "cellMetadata": {},
     "inputWidgets": {},
     "nuid": "d25baf60-cddb-4dd2-b2cf-b7d44ade9cd8",
     "showTitle": false,
     "title": ""
    }
   },
   "source": [
    "## [New Notebook to Be Added to the Pipeline](./Lecture-32__Processing-CDC-Feed-with-DLT-(Hands-On)-2.ipynb)\n"
   ]
  }
 ],
 "metadata": {
  "application/vnd.databricks.v1+notebook": {
   "dashboards": [],
   "environmentMetadata": null,
   "language": "python",
   "notebookMetadata": {
    "mostRecentlyExecutedCommandWithImplicitDF": {
     "commandId": 2556528225056393,
     "dataframes": [
      "_sqldf"
     ]
    },
    "pythonIndentUnit": 4
   },
   "notebookName": "Lecture-32__Processing-CDC-Feed-with-DLT-(Hands-On)-1",
   "widgets": {}
  },
  "language_info": {
   "name": "python"
  }
 },
 "nbformat": 4,
 "nbformat_minor": 0
}
