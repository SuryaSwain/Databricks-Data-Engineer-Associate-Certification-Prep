{
 "cells": [
  {
   "cell_type": "markdown",
   "metadata": {},
   "source": [
    "# Lecture 30. Delta Live Tables (Hands On) (Continued)"
   ]
  },
  {
   "cell_type": "markdown",
   "metadata": {},
   "source": [
    "## Exploring Pipeline Logs and Data\n",
    "\n",
    "It is time now to check what happened under the hood in **Delta Live Tables**.\n",
    "\n",
    "As we said, the events and information we see in this UI are stored in the **storage configuration** we provided during the configuration of our pipeline.\n",
    "\n",
    "---\n",
    "\n"
   ]
  },
  {
   "cell_type": "markdown",
   "metadata": {},
   "source": [
    "### Exploring Pipeline Storage\n",
    "\n",
    "Let us explore this directory.\n",
    "\n",
    "- Create a Python notebook and copy the storage location.\n",
    "- Let us see the content of our **pipeline storage location**.\n"
   ]
  },
  {
   "cell_type": "code",
   "execution_count": null,
   "metadata": {
    "vscode": {
     "languageId": "sql"
    }
   },
   "outputs": [],
   "source": [
    "files = dbutils.fs.ls(\"dbfs:/mnt/demo/dlt/demo_bookstore\")\n",
    "display(files)"
   ]
  },
  {
   "cell_type": "markdown",
   "metadata": {},
   "source": [
    "\n",
    "As you can see, there are four directories: `auto loader`, `checkpoints`, `system`, and `tables`.\n",
    "\n",
    "The **system directory** captures all the events associated with the pipeline.  \n",
    "Let us explore the events file in the system directory.\n"
   ]
  },
  {
   "cell_type": "code",
   "execution_count": null,
   "metadata": {
    "vscode": {
     "languageId": "sql"
    }
   },
   "outputs": [],
   "source": [
    "files = dbutils.fs.ls(\"dbfs:/mnt/demo/dlt/demo_bookstore/system/events\")\n",
    "display(files)"
   ]
  },
  {
   "cell_type": "markdown",
   "metadata": {},
   "source": [
    "\n",
    "Interesting! These event logs are stored as a **delta table**.  \n",
    "Let us query this table.\n"
   ]
  },
  {
   "cell_type": "code",
   "execution_count": null,
   "metadata": {
    "vscode": {
     "languageId": "sql"
    }
   },
   "outputs": [],
   "source": [
    "%sql\n",
    "SELECT * FROM delta.`dbfs:/mnt/demo/dlt/demo_bookstore/system/events`"
   ]
  },
  {
   "cell_type": "markdown",
   "metadata": {},
   "source": [
    "\n",
    "So all the events we see in the UI are stored in this **data table**.\n",
    "\n",
    "Let us also see what we have in the **tables directory** in the storage location.\n"
   ]
  },
  {
   "cell_type": "code",
   "execution_count": null,
   "metadata": {
    "vscode": {
     "languageId": "sql"
    }
   },
   "outputs": [],
   "source": [
    "files = dbutils.fs.ls(\"dbfs:/mnt/demo/dlt/demo_bookstore/tables\")\n",
    "display(files)"
   ]
  },
  {
   "cell_type": "markdown",
   "metadata": {},
   "source": [
    "\n",
    "Interesting! Here we see our five **DLT tables**.\n",
    "\n",
    "---\n",
    "\n"
   ]
  },
  {
   "cell_type": "markdown",
   "metadata": {},
   "source": [
    "### Querying DLT Tables\n",
    "\n",
    "Let us come back to our pipeline to grab the database name to query these tables.  \n",
    "If you click on any table, you can see the **metastore information**.  \n",
    "Let us copy this information to query this table.\n",
    "\n",
    "<div  style=\"text-align: center; line-height: 0; padding-top: 9px;\">\n",
    "  <img src=\"../../assets/images\" alt=\"Databricks Learning\" style=\"width: 1024\">\n",
    "</div>\n",
    "\n",
    "Let us write a `SELECT` query on our table using the metadata store information.\n"
   ]
  },
  {
   "cell_type": "code",
   "execution_count": null,
   "metadata": {
    "vscode": {
     "languageId": "sql"
    }
   },
   "outputs": [],
   "source": [
    "%sql\n",
    "SELECT * FROM hive_metastore.demo_bookstore_dlt_db.cn_daily_customer_books"
   ]
  },
  {
   "cell_type": "code",
   "execution_count": null,
   "metadata": {
    "vscode": {
     "languageId": "sql"
    }
   },
   "outputs": [],
   "source": [
    "%sql\n",
    "SELECT * FROM hive_metastore.demo_bookstore_dlt_db.fr_daily_customer_books"
   ]
  },
  {
   "cell_type": "markdown",
   "metadata": {},
   "source": [
    "\n",
    "Yes, indeed. The table exists in the metastore, and we can see here the `123` records exist in this **gold table**.\n",
    "\n",
    "---\n",
    "\n"
   ]
  },
  {
   "cell_type": "markdown",
   "metadata": {},
   "source": [
    "## Shutting Down the Cluster\n",
    "\n",
    "Great! Let us end up by turning off our pipeline.\n",
    "\n",
    "To stop the pipeline, simply click Stop.\n",
    "\n",
    "---\n",
    "\n",
    "This is how we can use Delta Live Tables to build scalable ETL pipelines!"
   ]
  }
 ],
 "metadata": {
  "language_info": {
   "name": "python"
  }
 },
 "nbformat": 4,
 "nbformat_minor": 2
}
