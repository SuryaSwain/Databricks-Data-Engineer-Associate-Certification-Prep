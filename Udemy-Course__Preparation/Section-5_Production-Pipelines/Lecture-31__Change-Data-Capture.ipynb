{
 "cells": [
  {
   "cell_type": "markdown",
   "metadata": {},
   "source": [
    "# Lecture 31. Change Data Capture"
   ]
  },
  {
   "cell_type": "markdown",
   "metadata": {},
   "source": [
    "In this lecture, we will talk about **change data capture (CDC)**.\n",
    "\n",
    "- You will understand what **change data capture** is, and \n",
    "- you will learn how this can be processed in **Delta Live Tables**.\n"
   ]
  },
  {
   "cell_type": "markdown",
   "metadata": {},
   "source": [
    "## What is Change Data Capture (CDC)\n",
    "\n",
    "**Change Data Capture** or **CDC** refers to the process of identifying and capturing changes made to data in the data source, and then delivering those changes to the target.\n",
    "\n",
    "<div  style=\"text-align: center; line-height: 0; padding-top: 9px;\">\n",
    "  <img src=\"../../assets/images/Presentation-Images/Change Data Capture (CDC).jpg\" alt=\"Workflows - Delta Live Tables - Pipeline details.jpg\" style=\"width: 320px\">\n",
    "</div>\n",
    "\n",
    "Those changes could obviously be \n",
    "  - new records to be inserted from the source to the target, \n",
    "  - updated records in the source that need to be reflected in the target, and lastly, \n",
    "  - deleted records in the source that must be deleted in the target.\n"
   ]
  },
  {
   "cell_type": "markdown",
   "metadata": {},
   "source": [
    "### CDC Feed \n",
    "\n",
    "Changes are logged at the source as events that contain both the data of the records along with metadata information. This metadata indicates whether the specified record was inserted, updated, or deleted, in addition to a version number or timestamp indicating the order in which changes happened.\n",
    "\n",
    "Here's an example of CDC events that need to be applied to our target table.\n",
    "\n",
    "<div  style=\"text-align: center; line-height: 0; padding-top: 9px;\">\n",
    "  <img src=\"../../assets/images/Presentation-Images/CDC Feed 1.jpg\" alt=\"Workflows - Delta Live Tables - Pipeline details.jpg\" style=\"width: 800px\">\n",
    "</div>\n",
    "\n",
    "Notice here:\n",
    "\n",
    "  - **France**, for example, has two records, so we need to apply the most recent change.\n",
    "  - **Canada** needs to be deleted, so we don't need to send all the data of the record.\n",
    "  - Lastly, **USA** and **India** are new records that need to be inserted.\n",
    "\n",
    "Here we see the changes applied to our target table. And of course, we don't see the record of **Canada** as it has been deleted.\n",
    "\n",
    "<div  style=\"text-align: center; line-height: 0; padding-top: 9px;\">\n",
    "  <img src=\"../../assets/images/Presentation-Images/CDC Feed 2.jpg\" alt=\"Workflows - Delta Live Tables - Pipeline details.jpg\" style=\"width: 800px\">\n",
    "</div>\n",
    "\n",
    "Such a CDC feed could be received from the source as a data stream or simply in **JSON** files, for example.\n",
    "\n",
    "**Delta Live Tables** supports CDC feed processing using the `Apply Changes Into` command.\n",
    "\n"
   ]
  },
  {
   "cell_type": "markdown",
   "metadata": {},
   "source": [
    "## The `Apply Changes Into` Command\n",
    "\n",
    "The command is pretty simple:\n",
    "\n",
    "```sql\n",
    "APPLY CHANGES INTO LIVE.target_table\n",
    "FROM STREAM(LIVE.cdc_feed_table)\n",
    "KEYS (key_field)\n",
    "APPLY AS DELETE WHEN operation_field = \"DELETE\"\n",
    "SEQUENCE BY sequence_field\n",
    "COLUMNS *\n",
    "```\n",
    "\n",
    "- **Apply Changes Into**: The target table into which the changes need to be applied.\n",
    "- **From**: A CDC feed table specified as a streaming source.\n",
    "- **Keys**: Where you identify the primary key fields. If the key exists in the target table, the record will be updated. If not, it will be inserted.\n",
    "- **Apply As Delete When**: Here, you specify that records where the operation field is \"Delete\" should be deleted.\n",
    "- **Sequence By**: Specifies the sequence field for ordering how operations should be applied.\n",
    "- Lastly, you indicate the list of fields that should be added to the target table.\n",
    "\n",
    "Note here: The target **Delta Live Table** needs to be already created before executing the `Apply Changes Into` command.\n",
    "\n"
   ]
  },
  {
   "cell_type": "markdown",
   "metadata": {},
   "source": [
    "### Features of the `Apply Changes Into` Command\n",
    "\n",
    "- It automatically orders late-arriving records using the user-provided sequencing key. \n",
    "\n",
    "  - This pattern ensures that if any records arrive out of order, downstream results can be properly re-computed to reflect the updates.\n",
    "\n",
    "  - It also ensures that when records are deleted from a source table, these values are no longer reflected in tables later in the pipeline.\n",
    "\n",
    "- The default behavior for insert and update operations is to upsert the CDC events into the target table. \n",
    "  \n",
    "  That means it updates any rows in the target table that match the specified key, or inserts new records when a matching record does not exist in the target table.\n",
    "\n",
    "- Optional handling for delete events can be specified with the `APPLY AS DELETE WHEN` condition.\n",
    "\n",
    "- You can specify one or many fields as the primary key for a table.\n",
    "\n",
    "- The `Except` keyword can be added to specify columns to ignore.\n",
    "\n",
    "- Lastly, you can choose whether to store records as **Slowly Changing Dimension (SCD)**, **Type 1** or **Type 2**. \n",
    "\n",
    "  `Apply Changes Into` defaults to creating a **Type 1** slowly changing dimension table, meaning that each unique key will have at most one record, and that the updates would overwrite the original information.\n",
    "\n"
   ]
  },
  {
   "cell_type": "markdown",
   "metadata": {},
   "source": [
    "### Disadvantage of the `Apply Changes Into` Command\n",
    "\n",
    "On the other hand, `Apply Changes Into` has one disadvantage. \n",
    "\n",
    "Since data is being updated and deleted in the target table, this breaks the append-only requirements for streaming table sources. That means we will no longer be able to use this updated table as a streaming source later in the next layer.\n",
    "\n",
    "---\n",
    "\n",
    "**Great! That's all for this lecture.**\n",
    "\n",
    "Let us now switch to the **Databricks** platform in order to see `Apply Changes Into` in action.\n"
   ]
  }
 ],
 "metadata": {
  "language_info": {
   "name": "python"
  }
 },
 "nbformat": 4,
 "nbformat_minor": 2
}
