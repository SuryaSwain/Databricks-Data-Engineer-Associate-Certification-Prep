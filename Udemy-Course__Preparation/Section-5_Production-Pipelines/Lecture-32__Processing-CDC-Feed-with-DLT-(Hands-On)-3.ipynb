{
 "cells": [
  {
   "cell_type": "markdown",
   "metadata": {},
   "source": [
    "# Lecture 32. Processing CDC Feed with DLT (Hands On) - Part 3"
   ]
  },
  {
   "cell_type": "markdown",
   "metadata": {},
   "source": [
    "### Adding a New Notebook to the Existing DLT Pipeline\n",
    "\n",
    "Let us now go to the **DLT pipeline** we created in the last lecture to add this new notebook.\n",
    "\n",
    "Here's our **demo_bookstore DLT pipeline** we created in the last lecture.\n",
    "\n",
    "<div  style=\"text-align: center; line-height: 0; padding-top: 9px;\">\n",
    "  <img src=\"../../assets/images/Screen-Captures/Workflows - Delta Live Tables - demo_bookstore (2 gold layer tables).jpg\" alt=\"\" style=\"width: 1280px\">\n",
    "</div>\n",
    "\n",
    "- Click on the **Settings** button.  \n",
    "- From here, click **Add Source Code**.  \n",
    "- Click **Browse (Folder) icon** and choose the notebook.\n",
    "- Now click **Save**.\n",
    "\n",
    "As you can see in the **Pipeline details**, this pipeline is now referencing **two notebooks** instead of one.\n",
    "\n",
    "<div  style=\"text-align: center; line-height: 0; padding-top: 9px;\">\n",
    "  <img src=\"../../assets/images/Screen-Captures/Workflows - Delta Live Tables - demo_bookstore (new notebook added).jpg\" alt=\"\" style=\"width: 1280px\">\n",
    "</div>\n",
    "\n",
    "Let us now click **Start** to run our updated pipeline.\n",
    "\n",
    "If you have any issue running this pipeline, try to do a **full refresh** in order to run your pipeline from scratch.  \n",
    "It means clearing all data from each table and loading all data from the streaming sources again.\n",
    "\n",
    "<div  style=\"text-align: center; line-height: 0; padding-top: 9px;\">\n",
    "  <img src=\"../../assets/images/Screen-Captures/Workflows - Delta Live Tables - demo_bookstore (new notebook added) full refresh all.jpg\" alt=\"\" style=\"width: 1280px\">\n",
    "</div>\n",
    "\n",
    "So now, let us click **Start**.\n",
    "\n",
    "<div  style=\"text-align: center; line-height: 0; padding-top: 9px;\">\n",
    "  <img src=\"../../assets/images/Screen-Captures/Workflows - Delta Live Tables - demo_bookstore (new notebook added) completed.jpg\" alt=\"\" style=\"width: 1280px\">\n",
    "</div>\n",
    "\n",
    "Great! As you can see, in addition to the tables created in the last lecture, we see our new **books tables** and the view `book_sales`, which joins the two pipelines' tables together.\n",
    "\n",
    "---\n",
    "\n",
    "Great! That's all for this demo. See you in the next video."
   ]
  }
 ],
 "metadata": {
  "language_info": {
   "name": "python"
  }
 },
 "nbformat": 4,
 "nbformat_minor": 2
}
