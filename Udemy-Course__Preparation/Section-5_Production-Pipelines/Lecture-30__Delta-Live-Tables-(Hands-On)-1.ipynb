{
 "cells": [
  {
   "cell_type": "markdown",
   "metadata": {
    "application/vnd.databricks.v1+cell": {
     "cellMetadata": {},
     "inputWidgets": {},
     "nuid": "5eeae31a-41b0-42c7-9324-60b489169b0c",
     "showTitle": false,
     "title": ""
    }
   },
   "source": [
    "# Lecture 30. Delta Live Tables (Hands On)"
   ]
  },
  {
   "cell_type": "markdown",
   "metadata": {},
   "source": [
    "### Reference\n",
    "  - [Microsoft Learn / Azure Databricks documentation / Delta Live Tables / Manage data quality with Delta Live Tables](https://learn.microsoft.com/en-us/azure/databricks/delta-live-tables/expectations)  \n",
    "\n",
    "  - [Documentation > Databricks data engineering > What is Delta Live Tables?](https://docs.databricks.com/delta-live-tables/index.html)  \n",
    "\n"
   ]
  },
  {
   "cell_type": "markdown",
   "metadata": {
    "application/vnd.databricks.v1+cell": {
     "cellMetadata": {},
     "inputWidgets": {},
     "nuid": "c517ada8-2fd3-48ab-82f5-83e2f8c4d81b",
     "showTitle": false,
     "title": ""
    },
    "vscode": {
     "languageId": "sql"
    }
   },
   "source": [
    "## Requirements\n",
    "\n",
    "- Azure Subscription, remaining quota should be 4+ cores.\n",
    "  * Go to [Azure Quotas](https://portal.azure.com/#view/Microsoft_Azure_Capacity/QuotaMenuBlade/~/myQuotas).\n",
    "\n",
    "  <div  style=\"text-align: center; line-height: 0; padding-top: 9px;\">\n",
    "  <img src=\"../../assets/images/Screen-Captures/Azure Portal Quotas.jpg\" alt=\"Workflows - Delta Live Tables - Pipeline details.jpg\" style=\"width: 1280px\">\n",
    "  </div>\n"
   ]
  },
  {
   "cell_type": "markdown",
   "metadata": {
    "application/vnd.databricks.v1+cell": {
     "cellMetadata": {},
     "inputWidgets": {},
     "nuid": "2003340f-4bcf-4893-a589-e78239631df6",
     "showTitle": false,
     "title": ""
    },
    "vscode": {
     "languageId": "plaintext"
    }
   },
   "source": [
    "## Delta Live Tables Overview\n",
    "\n",
    "Delta Live Tables or **DLT** is a framework for building reliable and maintainable data processing pipelines.  \n",
    "DLT simplifies the hard work of building large-scale ETL while maintaining table dependencies and data quality.\n",
    "\n",
    "---\n",
    "\n",
    "<div  style=\"text-align: center; line-height: 0; padding-top: 9px;\">\n",
    "  <img src=\"../../assets/images/Screen-Captures/Workflows - Delta Live Tables - demo_bookstore (completed).jpg\" alt=\"Workflows - Delta Live Tables - Pipeline details.jpg\" style=\"width: 1280px\">\n",
    "</div>\n",
    "\n",
    "Here, our **DLT** multi-hop pipeline is well visualized, and we can see our two bronze tables, `customers` and `orders_raw`.  \n",
    "They are joined together into the silver table `orders_cleaned`, from which we calculate our gold table `daily_customer_books`.\n",
    "\n",
    "DLT pipelines are implemented using Databricks notebooks. On the pipeline details on the right, we can see the path to the notebook containing the DLT table definitions.  \n",
    "We can simply click here to navigate to the source code.\n",
    "\n",
    "---\n"
   ]
  },
  {
   "cell_type": "markdown",
   "metadata": {
    "application/vnd.databricks.v1+cell": {
     "cellMetadata": {},
     "inputWidgets": {},
     "nuid": "af65c913-d01b-4a41-952c-ca302484b969",
     "showTitle": false,
     "title": ""
    },
    "vscode": {
     "languageId": "sql"
    }
   },
   "source": [
    "## Raw Data\n",
    "\n",
    "<div  style=\"text-align: center; \">\n",
    "  <img src=\"../../assets/images/Presentation-Images/bookstore_schema.png\" alt=\"Raw Data Schema\" style=\"width: 480px;\">\n",
    "</div>"
   ]
  },
  {
   "cell_type": "code",
   "execution_count": 0,
   "metadata": {
    "application/vnd.databricks.v1+cell": {
     "cellMetadata": {
      "byteLimit": 2048000,
      "rowLimit": 10000
     },
     "inputWidgets": {},
     "nuid": "910054f2-3aee-4e7d-9829-016d032689c5",
     "showTitle": false,
     "title": ""
    }
   },
   "outputs": [],
   "source": [
    "%run ../Includes/Copy-Datasets"
   ]
  },
  {
   "cell_type": "code",
   "execution_count": 0,
   "metadata": {
    "application/vnd.databricks.v1+cell": {
     "cellMetadata": {
      "byteLimit": 2048000,
      "rowLimit": 10000
     },
     "inputWidgets": {},
     "nuid": "9160fe01-57f0-4a59-83f0-23820fd76b09",
     "showTitle": false,
     "title": ""
    }
   },
   "outputs": [
    {
     "data": {
      "text/html": [
       "<style scoped>\n",
       "  .table-result-container {\n",
       "    max-height: 300px;\n",
       "    overflow: auto;\n",
       "  }\n",
       "  table, th, td {\n",
       "    border: 1px solid black;\n",
       "    border-collapse: collapse;\n",
       "  }\n",
       "  th, td {\n",
       "    padding: 5px;\n",
       "  }\n",
       "  th {\n",
       "    text-align: left;\n",
       "  }\n",
       "</style><div class='table-result-container'><table class='table-result'><thead style='background-color: white'><tr><th>path</th><th>name</th><th>size</th><th>modificationTime</th></tr></thead><tbody><tr><td>dbfs:/mnt/demo-datasets/bookstore/orders-json-raw/01.json</td><td>01.json</td><td>162000</td><td>1729074200000</td></tr></tbody></table></div>"
      ]
     },
     "metadata": {
      "application/vnd.databricks.v1+output": {
       "addedWidgets": {},
       "aggData": [],
       "aggError": "",
       "aggOverflow": false,
       "aggSchema": [],
       "aggSeriesLimitReached": false,
       "aggType": "",
       "arguments": {},
       "columnCustomDisplayInfos": {},
       "data": [
        [
         "dbfs:/mnt/demo-datasets/bookstore/orders-json-raw/01.json",
         "01.json",
         162000,
         1729074200000
        ]
       ],
       "datasetInfos": [],
       "dbfsResultPath": null,
       "isJsonSchema": true,
       "metadata": {},
       "overflow": false,
       "plotOptions": {
        "customPlotOptions": {},
        "displayType": "table",
        "pivotAggregation": null,
        "pivotColumns": null,
        "xColumns": null,
        "yColumns": null
       },
       "removedWidgets": [],
       "schema": [
        {
         "metadata": "{}",
         "name": "path",
         "type": "\"string\""
        },
        {
         "metadata": "{}",
         "name": "name",
         "type": "\"string\""
        },
        {
         "metadata": "{}",
         "name": "size",
         "type": "\"long\""
        },
        {
         "metadata": "{}",
         "name": "modificationTime",
         "type": "\"long\""
        }
       ],
       "type": "table"
      }
     },
     "output_type": "display_data"
    }
   ],
   "source": [
    "%python\n",
    "files = dbutils.fs.ls(f\"{dataset_bookstore}/orders-json-raw\")  # dataset_bookstore = \"dbfs:/mnt/demo-datasets/bookstore\"\n",
    "display(files)"
   ]
  },
  {
   "cell_type": "code",
   "execution_count": 0,
   "metadata": {
    "application/vnd.databricks.v1+cell": {
     "cellMetadata": {
      "byteLimit": 2048000,
      "rowLimit": 10000
     },
     "inputWidgets": {},
     "nuid": "cf93bd84-6425-432f-b253-b617b33038a6",
     "showTitle": false,
     "title": ""
    }
   },
   "outputs": [
    {
     "data": {
      "text/html": [
       "<style scoped>\n",
       "  .table-result-container {\n",
       "    max-height: 300px;\n",
       "    overflow: auto;\n",
       "  }\n",
       "  table, th, td {\n",
       "    border: 1px solid black;\n",
       "    border-collapse: collapse;\n",
       "  }\n",
       "  th, td {\n",
       "    padding: 5px;\n",
       "  }\n",
       "  th {\n",
       "    text-align: left;\n",
       "  }\n",
       "</style><div class='table-result-container'><table class='table-result'><thead style='background-color: white'><tr><th>path</th><th>name</th><th>size</th><th>modificationTime</th></tr></thead><tbody><tr><td>dbfs:/mnt/demo-datasets/bookstore/customers-json/export_001.json</td><td>export_001.json</td><td>79378</td><td>1729074196000</td></tr><tr><td>dbfs:/mnt/demo-datasets/bookstore/customers-json/export_002.json</td><td>export_002.json</td><td>80001</td><td>1729074197000</td></tr><tr><td>dbfs:/mnt/demo-datasets/bookstore/customers-json/export_003.json</td><td>export_003.json</td><td>79781</td><td>1729074197000</td></tr><tr><td>dbfs:/mnt/demo-datasets/bookstore/customers-json/export_004.json</td><td>export_004.json</td><td>79976</td><td>1729074197000</td></tr><tr><td>dbfs:/mnt/demo-datasets/bookstore/customers-json/export_005.json</td><td>export_005.json</td><td>79727</td><td>1729074197000</td></tr><tr><td>dbfs:/mnt/demo-datasets/bookstore/customers-json/export_006.json</td><td>export_006.json</td><td>53243</td><td>1729074197000</td></tr></tbody></table></div>"
      ]
     },
     "metadata": {
      "application/vnd.databricks.v1+output": {
       "addedWidgets": {},
       "aggData": [],
       "aggError": "",
       "aggOverflow": false,
       "aggSchema": [],
       "aggSeriesLimitReached": false,
       "aggType": "",
       "arguments": {},
       "columnCustomDisplayInfos": {},
       "data": [
        [
         "dbfs:/mnt/demo-datasets/bookstore/customers-json/export_001.json",
         "export_001.json",
         79378,
         1729074196000
        ],
        [
         "dbfs:/mnt/demo-datasets/bookstore/customers-json/export_002.json",
         "export_002.json",
         80001,
         1729074197000
        ],
        [
         "dbfs:/mnt/demo-datasets/bookstore/customers-json/export_003.json",
         "export_003.json",
         79781,
         1729074197000
        ],
        [
         "dbfs:/mnt/demo-datasets/bookstore/customers-json/export_004.json",
         "export_004.json",
         79976,
         1729074197000
        ],
        [
         "dbfs:/mnt/demo-datasets/bookstore/customers-json/export_005.json",
         "export_005.json",
         79727,
         1729074197000
        ],
        [
         "dbfs:/mnt/demo-datasets/bookstore/customers-json/export_006.json",
         "export_006.json",
         53243,
         1729074197000
        ]
       ],
       "datasetInfos": [],
       "dbfsResultPath": null,
       "isJsonSchema": true,
       "metadata": {},
       "overflow": false,
       "plotOptions": {
        "customPlotOptions": {},
        "displayType": "table",
        "pivotAggregation": null,
        "pivotColumns": null,
        "xColumns": null,
        "yColumns": null
       },
       "removedWidgets": [],
       "schema": [
        {
         "metadata": "{}",
         "name": "path",
         "type": "\"string\""
        },
        {
         "metadata": "{}",
         "name": "name",
         "type": "\"string\""
        },
        {
         "metadata": "{}",
         "name": "size",
         "type": "\"long\""
        },
        {
         "metadata": "{}",
         "name": "modificationTime",
         "type": "\"long\""
        }
       ],
       "type": "table"
      }
     },
     "output_type": "display_data"
    }
   ],
   "source": [
    "%python\n",
    "files = dbutils.fs.ls(f\"{dataset_bookstore}/customers-json\")  # dataset_bookstore = \"dbfs:/mnt/demo-datasets/bookstore\"\n",
    "display(files)"
   ]
  },
  {
   "cell_type": "markdown",
   "metadata": {
    "application/vnd.databricks.v1+cell": {
     "cellMetadata": {},
     "inputWidgets": {},
     "nuid": "5014c8bf-4fcd-417b-ab76-86cc89359cc3",
     "showTitle": false,
     "title": ""
    }
   },
   "source": [
    "## [Delta Live Tables Syntax and Table Declaration](./Lecture-30__Delta-Live-Tables-(Hands-On)-2.ipynb)\n"
   ]
  }
 ],
 "metadata": {
  "application/vnd.databricks.v1+notebook": {
   "dashboards": [],
   "environmentMetadata": null,
   "language": "python",
   "notebookMetadata": {
    "pythonIndentUnit": 4
   },
   "notebookName": "Lecture-30__Delta-Live-Tables-(Hands-On)-1",
   "widgets": {}
  },
  "language_info": {
   "name": "python"
  }
 },
 "nbformat": 4,
 "nbformat_minor": 0
}
