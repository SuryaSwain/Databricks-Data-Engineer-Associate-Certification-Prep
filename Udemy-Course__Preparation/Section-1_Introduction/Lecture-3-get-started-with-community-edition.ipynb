{
 "cells": [
  {
   "cell_type": "markdown",
   "metadata": {},
   "source": [
    "# Lecture 3. Get started with Community Edition\n",
    "\n"
   ]
  },
  {
   "cell_type": "markdown",
   "metadata": {},
   "source": [
    "### References\n",
    "\n",
    "  - "
   ]
  },
  {
   "cell_type": "markdown",
   "metadata": {},
   "source": [
    "## What to note\n",
    "\n",
    "  Community edition is a lightweight Databricks environment for personal use and training.\n",
    "\n"
   ]
  },
  {
   "cell_type": "markdown",
   "metadata": {},
   "source": [
    "## How to get started with community edition\n",
    "  - First go to [databricks.com](https://www.databricks.com/) and click \"Try Databricks\"\n",
    "\n",
    "    <div style=\"text-align: center;\">\n",
    "      <img src=\"../../assets/images/Screen-Captures/databricks-com.jpg\" style=\"width:960px\" >\n",
    "    </div>\n",
    "\n",
    "  - Fill the registration form and click \"Continue\":\n",
    "\n",
    "    <div style=\"text-align: center;\">\n",
    "      <img src=\"../../assets/images/Screen-Captures/databricks registration form.jpg\" style=\"width:960px\" >\n",
    "    </div>\n",
    "\n",
    "  - You can sign up for the community edition by clicking \"Get started with Community Edition\"\n",
    "\n",
    "    <div style=\"text-align: center;\">\n",
    "      <img src=\"../../assets/images/Screen-Captures/How will you be using Databricks.jpg\" style=\"width:960px\" >\n",
    "    </div>\n",
    "\n",
    "    Here there is a verification step. \n",
    "    You need to quickly solve the puzzle in order to prove that you are not a robot.\n",
    "\n",
    "  - Now go to your email and click on the received link in order to validate your email address.\n",
    "\n",
    "  - Once verified, you are asked to set the password of your new Databricks account. \n",
    "    \n",
    "    Confirm your new password and click reset password.\n",
    "\n",
    "    <div style=\"text-align: center;\">\n",
    "      <img src=\"../../assets/images/Screen-Captures/First Login -- Setup password.jpg\" style=\"width:300px\" >\n",
    "    </div>\n",
    "\n",
    "  - Here is your Databricks workspace.\n",
    "\n",
    "    <div style=\"text-align: center;\">\n",
    "      <img src=\"../../assets/images/Screen-Captures/databricks workspace.jpg\" style=\"width:960px\" >\n",
    "    </div>\n",
    "\n",
    "    * Now bookmark this page in order to access your workspace later.\n",
    "    * However, you can always get to this page by going to the website https://community.cloud.databricks.com\n",
    "    * Or simply search Google for Databricks community edition.\n",
    "\n",
    "  - From here, you can log in with your email address you used during the registration process and your \n",
    "  password that you set after the email confirmation step.\n",
    "\n"
   ]
  }
 ],
 "metadata": {
  "language_info": {
   "name": "python"
  }
 },
 "nbformat": 4,
 "nbformat_minor": 2
}
