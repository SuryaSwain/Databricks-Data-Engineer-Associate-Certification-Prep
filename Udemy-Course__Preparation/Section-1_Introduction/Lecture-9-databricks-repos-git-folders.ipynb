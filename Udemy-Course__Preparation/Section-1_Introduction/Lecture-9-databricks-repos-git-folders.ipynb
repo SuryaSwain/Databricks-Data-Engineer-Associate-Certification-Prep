{
 "cells": [
  {
   "cell_type": "markdown",
   "metadata": {},
   "source": [
    "# Lecture 9. Databricks Repos (Git folders)\n",
    "\n",
    "  - Databricks Repos provides source control for your data projects by integrating with GitHub providers.\n",
    "\n",
    "  - In order to work with Databricks Repos, we must first configure git integration in your workspace.\n"
   ]
  },
  {
   "cell_type": "markdown",
   "metadata": {},
   "source": [
    "## Link Github Account to Databricks Account\n",
    "\n",
    "### Databricks platform - User Settings link btn\n",
    "\n",
    "<div style=\"text-align: center;\">\n",
    "<img src=\"../../assets/images/Screen-Captures/Databricks platform - User Settings link btn.jpg\" style=\"width:1024px\" >\n",
    "</div>\n"
   ]
  },
  {
   "cell_type": "markdown",
   "metadata": {},
   "source": [
    "### Databricks platform - User Settings - Linked accounts - Github\n",
    "  \n",
    "<div style=\"text-align: center;\">\n",
    "<img src=\"../../assets/images/Screen-Captures/Databricks platform - User Settings - Linked accounts - Github.jpg\" style=\"width:1024px\" >\n",
    "</div>\n"
   ]
  },
  {
   "cell_type": "markdown",
   "metadata": {},
   "source": [
    "### Databricks permission to Github\n",
    "\n",
    "<div style=\"text-align: center;\">\n",
    "<img src=\"../../assets/images/Screen-Captures/Databricks permission to Github.jpg\" style=\"width:1024px\" >\n",
    "</div>\n"
   ]
  },
  {
   "cell_type": "markdown",
   "metadata": {},
   "source": [
    "### Databricks platform - User Settings - Linked accounts - Github linked\n",
    "\n",
    "<div style=\"text-align: center;\">\n",
    "<img src=\"../../assets/images/Screen-Captures/Databricks platform - User Settings - Linked accounts - Github linked.jpg\" style=\"width:1024px\" >\n",
    "</div>\n"
   ]
  },
  {
   "cell_type": "markdown",
   "metadata": {},
   "source": [
    "## Create Git folder for the linked Github account"
   ]
  },
  {
   "cell_type": "markdown",
   "metadata": {},
   "source": [
    "### Github repo url copy\n",
    "\n",
    "<div style=\"text-align: center;\">\n",
    "<img src=\"../../assets/images/Screen-Captures/Github repo url copy.jpg\" style=\"width:1024px\" >\n",
    "</div>\n"
   ]
  },
  {
   "cell_type": "markdown",
   "metadata": {},
   "source": [
    "### Create Git folder for the linked Github account repo copied\n",
    "\n",
    "<div style=\"text-align: center;\">\n",
    "<img src=\"../../assets/images/Screen-Captures/Create Git folder for the linked Github account repo copied.jpg\" style=\"width:1024px\" >\n",
    "</div>\n"
   ]
  },
  {
   "cell_type": "markdown",
   "metadata": {},
   "source": [
    "### Linked Github account repo Git folder created  \n",
    "\n",
    "<div style=\"text-align: center;\">\n",
    "<img src=\"../../assets/images/Screen-Captures/Linked Github account repo Git folder created.jpg\" style=\"width:1024px\" >\n",
    "</div>\n"
   ]
  },
  {
   "cell_type": "markdown",
   "metadata": {
    "vscode": {
     "languageId": "plaintext"
    }
   },
   "source": [
    "## Git Folder Git Action"
   ]
  },
  {
   "cell_type": "markdown",
   "metadata": {},
   "source": [
    "### Linked Github account repo Git folder Git..\n",
    "\n",
    "<div style=\"text-align: center;\">\n",
    "<img src=\"../../assets/images/Screen-Captures/Linked Github account repo Git folder Git...jpg\" style=\"width:1024px\" >\n",
    "</div>\n"
   ]
  },
  {
   "cell_type": "markdown",
   "metadata": {},
   "source": [
    "### Linked Github account repo Git folder Git action modal\n",
    "  \n",
    "<div style=\"text-align: center;\">\n",
    "<img src=\"../../assets/images/Screen-Captures/Linked Github account repo Git folder Git action modal.jpg\" style=\"width:1024px\" >\n",
    "</div>\n",
    "  \n"
   ]
  },
  {
   "cell_type": "markdown",
   "metadata": {},
   "source": [
    "### Reference  \n",
    "- [Git integration for Databricks Git folders](https://docs.databricks.com/repos/index.html)  \n",
    "- [Git Guides - Git Pull](https://github.com/git-guides/git-pull)"
   ]
  }
 ],
 "metadata": {
  "language_info": {
   "name": "python"
  }
 },
 "nbformat": 4,
 "nbformat_minor": 2
}
