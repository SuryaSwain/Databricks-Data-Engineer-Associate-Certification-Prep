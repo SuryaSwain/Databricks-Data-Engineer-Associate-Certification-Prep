{
 "cells": [
  {
   "cell_type": "markdown",
   "metadata": {},
   "source": [
    "# Lesson 9. Databricks Repos (Git folders)\n",
    "\n",
    "  - Databricks Repos provides source control for your data projects by integrating with GitHub providers.\n",
    "\n",
    "  - In order to work with Databricks Repos, we must first configure git integration in your workspace.\n",
    "\n",
    "\n",
    "\n",
    "<div style=\"text-align: center;\">\n",
    "<img src=\"../../assets/images/Databricks platform - User Settings link btn.jpg\" style=\"width:1024px\" >\n",
    "</div>\n",
    "  \n",
    "<div style=\"text-align: center;\">\n",
    "<img src=\"../../assets/images/Databricks platform - User Settings - Linked accounts - Github.jpg\" style=\"width:1024px\" >\n",
    "</div>\n",
    "  \n",
    "<div style=\"text-align: center;\">\n",
    "<img src=\"../../assets/images/Databricks permission to Github.jpg\" style=\"width:1024px\" >\n",
    "</div>\n",
    "  \n",
    "<div style=\"text-align: center;\">\n",
    "<img src=\"../../assets/images/Databricks platform - User Settings - Linked accounts - Github linked.jpg\" style=\"width:1024px\" >\n",
    "</div>\n",
    "  \n",
    "<div style=\"text-align: center;\">\n",
    "<img src=\"../../assets/images/Github repo url copy.jpg\" style=\"width:1024px\" >\n",
    "</div>\n",
    "  \n",
    "<div style=\"text-align: center;\">\n",
    "<img src=\"../../assets/images/Create Git folder for the linked Github account repo copied.jpg\" style=\"width:1024px\" >\n",
    "</div>\n",
    "  \n",
    "<div style=\"text-align: center;\">\n",
    "<img src=\"../../assets/images/Linked Github account repo Git folder created.jpg\" style=\"width:1024px\" >\n",
    "</div>\n",
    "  \n",
    "<div style=\"text-align: center;\">\n",
    "<img src=\"../../assets/images/Linked Github account repo Git folder Git...jpg\" style=\"width:1024px\" >\n",
    "</div>\n",
    "  \n",
    "<div style=\"text-align: center;\">\n",
    "<img src=\"../../assets/images/Linked Github account repo Git folder Git action modal.jpg\" style=\"width:1024px\" >\n",
    "</div>\n",
    "  \n"
   ]
  }
 ],
 "metadata": {
  "language_info": {
   "name": "python"
  }
 },
 "nbformat": 4,
 "nbformat_minor": 2
}
