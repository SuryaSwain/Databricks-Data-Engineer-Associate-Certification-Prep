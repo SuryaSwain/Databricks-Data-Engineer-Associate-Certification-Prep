{
 "cells": [
  {
   "cell_type": "markdown",
   "metadata": {},
   "source": [
    "# Lecture 1. Course Overview\n",
    "\n",
    "## Instructor\n",
    "  * Name: **Derar Alhussein**, \n",
    "  * Persona: *Senior Big Data Engineer*, \n",
    "  * Experience: 10+ years of experience working on software and data science projects including large data projects on Databricks\n",
    "  * Based: France\n",
    "  * Holds: 5+ certifications from Databricks\n",
    "  * Linkedin: https://www.linkedin.com/in/DerarAlhussein\n",
    "\n",
    "## Course outline\n",
    "  * Databricks Lakehouse Platform\n",
    "  * ELT with Spark SQL and Python\n",
    "  * Incremental Data Processing\n",
    "  * Production Pipelines\n",
    "  * Data Governance\n",
    "\n",
    "## Prerequisities\n",
    "  * SQL language\n",
    "  * basic Python"
   ]
  }
 ],
 "metadata": {
  "language_info": {
   "name": "python"
  }
 },
 "nbformat": 4,
 "nbformat_minor": 2
}
