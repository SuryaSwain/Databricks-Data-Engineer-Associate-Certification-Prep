{
 "cells": [
  {
   "cell_type": "markdown",
   "metadata": {},
   "source": [
    "# Lecture 5. Exploring Workspace\n",
    "\n"
   ]
  },
  {
   "cell_type": "markdown",
   "metadata": {},
   "source": [
    "## Azure Databricks platform home (dashboard)\n",
    "<div style=\"text-align: center;\">\n",
    "<img src=\"../../assets/images/Screen-Captures/Azure Databricks platform - full sidebar.jpg\" style=\"width:960px\" >\n",
    "</div>\n",
    "\n"
   ]
  },
  {
   "cell_type": "markdown",
   "metadata": {},
   "source": [
    "## Azure Databricks platform:  Workspace/ Home vs Users\n",
    "\n",
    "<div style=\"text-align: center;\">\n",
    "<img src=\"../../assets/images/Screen-Captures/Azure Databricks platform - Workspace Home&Users.jpg\" style=\"width:960px\" >\n",
    "</div>\n",
    "\n"
   ]
  },
  {
   "cell_type": "markdown",
   "metadata": {},
   "source": [
    "## Azure Databricks platform:  Workspace/ Repos\n",
    "\n",
    "<div style=\"text-align: center;\">\n",
    "<img src=\"../../assets/images/Screen-Captures/Azure Databricks platform - Workspace - Repos.jpg\" style=\"width:960px\" >\n",
    "</div>\n"
   ]
  },
  {
   "cell_type": "markdown",
   "metadata": {},
   "source": [
    "## Databricks Official Documentation References\n",
    "\n",
    "  - [Navigate the workspace](https://docs.databricks.com/en/workspace/index.html)\n",
    "  - [Workspace browser](https://docs.databricks.com/en/workspace/workspace-browser/index.html)\n"
   ]
  }
 ],
 "metadata": {
  "language_info": {
   "name": "python"
  }
 },
 "nbformat": 4,
 "nbformat_minor": 2
}
