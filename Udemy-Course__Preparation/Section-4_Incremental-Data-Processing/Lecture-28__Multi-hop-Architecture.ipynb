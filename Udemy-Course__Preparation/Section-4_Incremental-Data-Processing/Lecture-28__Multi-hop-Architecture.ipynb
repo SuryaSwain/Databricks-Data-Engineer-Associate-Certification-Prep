{
 "cells": [
  {
   "cell_type": "markdown",
   "metadata": {},
   "source": [
    "# Lecture 28. Multi-hop Architecture"
   ]
  },
  {
   "cell_type": "markdown",
   "metadata": {},
   "source": [
    "In this video, we will talk about **multi-hop architecture** in the *Lakehouse*.\n",
    "\n",
    "You will \n",
    "- learn what the *incremental multi-hop pipeline* is and \n",
    "- understand its different layers, represented by *bronze*, *silver*, and *gold* tables."
   ]
  },
  {
   "cell_type": "markdown",
   "metadata": {},
   "source": [
    "## Introduction to Multi-Hop Architecture\n",
    "\n",
    "A **multi-hop architecture**, also known as **Medallion architecture**, is a data design pattern used to logically organize data in a multilayered approach. \n",
    "\n",
    "Its goal is to **incrementally improve the structure and the quality of the data as it flows through each layer** of the architecture."
   ]
  },
  {
   "cell_type": "markdown",
   "metadata": {},
   "source": [
    "### Layers of Multi-Hop Architecture\n",
    "\n",
    "The **multi-hop architecture** usually consists of three layers: *bronze*, *silver*, and *gold*.\n",
    "\n",
    "<div style=\"text-align: center;\">\n",
    "<img src=\"../../assets/images/Multi-Hop Architecture.jpg\" style=\"width:640px\" >\n",
    "</div> \n",
    "\n",
    "- The **bronze table** contains raw data ingested from various sources, such as *JSON files*, *operational databases*, or *Kafka Stream*, for example.\n",
    "  \n",
    "- Then, the **silver table** provides a more refined view of the data. For example, data can be cleaned and filtered at this level. We can also join fields from various *bronze tables* to enrich our *silver records*.\n",
    "  \n",
    "- Lastly, the **gold table** provides business-level aggregations, often used for *reporting*, *dashboarding*, or even for *machine learning*."
   ]
  },
  {
   "cell_type": "markdown",
   "metadata": {},
   "source": [
    "### Incremental Improvement of Data\n",
    "\n",
    "So, as you can see, with this architecture, we incrementally improve the structure and the quality of data as it flows through each layer."
   ]
  },
  {
   "cell_type": "markdown",
   "metadata": {},
   "source": [
    "## Benefits of Multi-Hop Architecture\n",
    "\n",
    "There are many benefits to using **multi-hop architecture**:\n",
    "\n",
    "- Clearly, it is a **simple data model** that is easy to understand and implement.\n",
    "  \n",
    "- It enables **incremental ETL** (Extract, Transform, Load) by allowing data to be processed incrementally.\n",
    "  \n",
    "- It can **combine *streaming* and *batch* workloads in the same pipeline**, allowing each stage to be configured as a *batch* or *streaming* job.\n",
    "  \n",
    "- Additionally, it can **recreate your tables from *raw data* at any time**."
   ]
  }
 ],
 "metadata": {
  "language_info": {
   "name": "python"
  }
 },
 "nbformat": 4,
 "nbformat_minor": 2
}
