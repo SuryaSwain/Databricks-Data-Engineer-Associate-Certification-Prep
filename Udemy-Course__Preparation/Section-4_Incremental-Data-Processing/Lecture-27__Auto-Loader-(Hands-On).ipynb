{
 "cells": [
  {
   "cell_type": "markdown",
   "metadata": {},
   "source": [
    "# Lecture 27. Auto Loader (Hands On)"
   ]
  },
  {
   "cell_type": "markdown",
   "metadata": {},
   "source": []
  }
 ],
 "metadata": {
  "language_info": {
   "name": "python"
  }
 },
 "nbformat": 4,
 "nbformat_minor": 2
}
