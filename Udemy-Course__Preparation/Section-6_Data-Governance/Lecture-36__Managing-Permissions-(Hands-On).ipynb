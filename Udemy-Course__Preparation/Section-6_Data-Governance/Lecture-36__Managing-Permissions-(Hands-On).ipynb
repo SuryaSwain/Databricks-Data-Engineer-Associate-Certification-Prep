{
 "cells": [
  {
   "cell_type": "markdown",
   "metadata": {},
   "source": [
    "# Lecture 36. Managing Permissions (Hands On)"
   ]
  },
  {
   "cell_type": "markdown",
   "metadata": {},
   "source": [
    "In this demo, we will explore how to manage permissions for **databases**, **tables**, and **views** in **Databricks SQL**.\n"
   ]
  },
  {
   "cell_type": "markdown",
   "metadata": {},
   "source": [
    "### Reference\n",
    "  - [Documentation > Data governance with Unity Catalog > What is Catalog Explorer?](https://docs.databricks.com/en/catalog-explorer/index.html)  "
   ]
  },
  {
   "cell_type": "markdown",
   "metadata": {},
   "source": [
    "## Make sure that your **SQL warehouse** is running\n",
    "\n",
    "Navigate to the **Databricks SQL Workspace**.  \n",
    "Make sure that your **SQL warehouse** is running.  \n",
    "\n",
    "<div  style=\"text-align: center; line-height: 0; padding-top: 9px;\">\n",
    "<img src=\"../../assets/images/Screen-Captures/SQL Warehouses - list Demo Warehouse running.jpg\" style=\"width: 1280px\">\n",
    "</div>\n",
    "\n",
    "Now, navigate to the **SQL editor** in the left sidebar.\n"
   ]
  },
  {
   "cell_type": "markdown",
   "metadata": {},
   "source": [
    "## Creating a Database and Table\n",
    "\n",
    "In this demo, we will create a database called `hr_db`.  \n",
    "\n",
    "Within this database, we will create a table called `employees` with `id`, `name`, `salary`, and `city` columns.  \n",
    "\n",
    "Then, we will insert some data into this table. \n",
    "\n",
    "Lastly, we will create a view for `employees` in **Paris** city.\n",
    "\n",
    "```sql\n",
    "USE CATALOG hive_metastore;\n",
    "CREATE DATABASE IF NOT EXISTS hr_db;\n",
    "\n",
    "USE hr_db;\n",
    "CREATE TABLE employees (id INT, name STRING, salary DOUBLE, city STRING);\n",
    "\n",
    "INSERT INTO employees \n",
    "VALUES (1, 'Anna', 2500, 'Paris'),\n",
    "       (2, 'Thomas', 3000, 'London'),\n",
    "       (3, 'Bilal', 3500, 'Paris'),\n",
    "       (4, 'Maya', 2000, 'Paris'),\n",
    "       (5, 'Sophie', 2500, 'London'),\n",
    "       (6, 'Adam', 3500, 'London'),\n",
    "       (7, 'Ali', 3000, 'Paris');\n",
    "\n",
    "CREATE VIEW paris_employees_vw\n",
    "AS SELECT * FROM employees WHERE city = 'Paris';\n",
    "```\n",
    "\n",
    "Let us run these commands.\n",
    "\n",
    "<div  style=\"text-align: center; line-height: 0; padding-top: 9px;\">\n",
    "<img src=\"../../assets/images/Screen-Captures/SQL Editor - New Query - hr_db.jpg\" style=\"width: 1280px\">\n",
    "</div>\n"
   ]
  },
  {
   "cell_type": "markdown",
   "metadata": {},
   "source": [
    "## Configuring Permissions in SQL Editor\n",
    "\n",
    "### Assigning Privileges to Group Members\n",
    "\n",
    "Now, in order to allow other users to access this new database and table, let us configure their permissions.  \n",
    "\n",
    "<div  style=\"text-align: center; line-height: 0; padding-top: 9px;\">\n",
    "<img src=\"../../assets/images/Screen-Captures/Settings - Identity and access - Groups.jpg\" style=\"width: 1280px\">\n",
    "</div>\n",
    "\n",
    "We create a new query.\n",
    "\n",
    "Let us start by granting several privileges on the whole `hr_db` database to a group of users called **HR Team**.  \n",
    "\n",
    "```sql\n",
    "USE CATALOG hive_metastore;\n",
    "GRANT SELECT, MODIFY, READ_METADATA, CREATE ON SCHEMA hr_db TO admins;\n",
    "```\n",
    "\n",
    "So, all the members in this group will have the ability to:\n",
    "\n",
    "- **Read** and **modify** the data.\n",
    "- Access **metadata information**.\n",
    "- Create a new object like tables and views in this database.\n",
    "\n",
    "Let us run this command.  \n",
    "\n",
    "<div  style=\"text-align: center; line-height: 0; padding-top: 9px;\">\n",
    "<img src=\"../../assets/images/Screen-Captures/SQL Editor - New Query - hr_db GRANT TO hr_team.jpg\" style=\"width: 1280px\">\n",
    "</div>\n",
    "\n",
    "Great. Now, the **hr_team** has the necessary privileges.\n",
    "\n",
    "However, for users to perform any action on a database object, they must have an additional privilege, which is the **USAGE** privilege.  \n",
    "Without this privilege, the objects in the database cannot be used.\n",
    "\n",
    "```sql\n",
    "GRANT USAGE ON SCHEMA hr_db TO hr_team;\n",
    "```\n",
    "\n",
    "We can run a specific SQL command simply by selecting it and clicking **Run Selected**.  \n",
    "\n",
    "<div  style=\"text-align: center; line-height: 0; padding-top: 9px;\">\n",
    "<img src=\"../../assets/images/Screen-Captures/SQL Editor - New Query - hr_db GRANT USAGE TO hr_team.jpg\" style=\"width: 1280px\">\n",
    "</div>\n",
    "\n"
   ]
  },
  {
   "cell_type": "markdown",
   "metadata": {},
   "source": [
    "### Assigning Privileges to Individual Users\n",
    "\n",
    "We can also assign privileges to individual users.\n",
    "\n",
    "<div  style=\"text-align: center; line-height: 0; padding-top: 9px;\">\n",
    "<img src=\"../../assets/images/Screen-Captures/Settings - Identity and access - Users.jpg\" style=\"width: 1280px\">\n",
    "</div>\n",
    "\n",
    "Here, for example, we are granting **read access** on our view object to a user from outside of the **HR team**.  \n",
    "\n",
    "```sql\n",
    "GRANT SELECT ON VIEW hr_db.paris_employees_vw TO `dlexpertman@gmail.com`;\n",
    "```\n",
    "\n",
    "Let us select this query and click **Run Selected**.  \n",
    "\n",
    "<div  style=\"text-align: center; line-height: 0; padding-top: 9px;\">\n",
    "<img src=\"../../assets/images/Screen-Captures/SQL Editor - New Query - hr_db view GRANT TO a user.jpg\" style=\"width: 1280px\">\n",
    "</div>\n",
    "\n"
   ]
  },
  {
   "cell_type": "markdown",
   "metadata": {},
   "source": [
    "### Reviewing Assigned Permissions\n",
    "\n",
    "Lastly, let us review the assigned permissions using the `SHOW GRANTS` command.  \n",
    "```sql\n",
    "SHOW GRANTS ON SCHEMA hr_db;\n",
    "```\n",
    "\n",
    "<div  style=\"text-align: center; line-height: 0; padding-top: 9px;\">\n",
    "<img src=\"../../assets/images/Screen-Captures/SQL Editor - New Query - hr_db SHOW GRANTS.jpg\" style=\"width: 1280px\">\n",
    "</div>\n",
    "\n",
    "Yes, indeed, the **HR team** has all the granted privileges.  \n",
    "And I am the **owner** of this database as I was the one who created it.\n",
    "\n",
    "We can also show the granted privileges on our view.  \n",
    "\n",
    "<div  style=\"text-align: center; line-height: 0; padding-top: 9px;\">\n",
    "<img src=\"../../assets/images/Screen-Captures/SQL Editor - New Query - hr_db view SHOW GRANTS.jpg\" style=\"width: 1280px\">\n",
    "</div>\n",
    "\n",
    "Here, we can see the user **dlexpertman@gmail.com** indeed has the **SELECT** privilege on this view.\n",
    "And the **HR team** inherited the database privileges.\n",
    "\n"
   ]
  },
  {
   "cell_type": "markdown",
   "metadata": {},
   "source": [
    "## Using Catalog Explorer for Permissions Management\n",
    "\n",
    "In addition to the **SQL editor**, we can also use the **Catalog Explorer** to manage permissions.  \n",
    "From the left-side navigator, select the **Catalog** tab to access the **Catalog Explorer**.\n",
    "\n",
    "The **Catalog Explorer** allows users and admins to:\n",
    "\n",
    "- Navigate different data objects like **databases**, **tables**, and **views**.\n",
    "- Explore data schema, metadata, and history.\n",
    "- Set and modify permissions.\n",
    "\n",
    "<div  style=\"text-align: center; line-height: 0; padding-top: 9px;\">\n",
    "<img src=\"../../assets/images/Screen-Captures/Catalog - hive_metastore - hr_db.jpg\" style=\"width: 1280px\">\n",
    "</div>\n",
    "\n",
    "From here, we can find the database we created previously.  \n",
    "By clicking on the database name, it displays a list of the containing tables and views on the left-hand side.  \n",
    "On the right, you will see some details about the database, like the **owner information**.\n",
    "\n",
    "Use the **Permissions** tab to review who currently has permissions on this database.  \n",
    "\n",
    "<div  style=\"text-align: center; line-height: 0; padding-top: 9px;\">\n",
    "<img src=\"../../assets/images/Screen-Captures/Catalog - hive_metastore - hr_db Permissions.jpg\" style=\"width: 1280px\">\n",
    "</div>\n",
    "\n",
    "As expected, we see here the granted privileges for the **HR team** group.  \n",
    "\n"
   ]
  },
  {
   "cell_type": "markdown",
   "metadata": {},
   "source": [
    "### Revoking Privileges\n",
    "\n",
    "You can select a privilege here and click on **Revoke** to remove this privilege.  \n",
    "The privilege has been successfully revoked.\n",
    "\n"
   ]
  },
  {
   "cell_type": "markdown",
   "metadata": {},
   "source": [
    "### Changing the Owner\n",
    "\n",
    "We can also change the owner.  \n",
    "If you click there, you have the option to **edit the owner**.  \n",
    "An owner can be set as an individual or a group.\n",
    "\n",
    "Let us set the owner to **Admins**, which is the default group containing all workspace administrators.  \n",
    "As you can see, the **Admins** group now is the owner of this database.\n",
    "\n"
   ]
  },
  {
   "cell_type": "markdown",
   "metadata": {},
   "source": [
    "### Granting Permissions to Users\n",
    "\n",
    "Of course, from this window, you can also grant permissions.  \n",
    "Let's say we would like to allow all users to review **metadata** about this database.  \n",
    "  - We click the **Grant** button.  \n",
    "  - We select **All workspace users** group.  \n",
    "  - And we choose both **READ_METADATA** and **USAGE** privileges.  \n",
    "  - Click on **Grant**.\n",
    "\n",
    "Now, we see here the granted privileges to the **All workspace users** group.\n",
    "\n"
   ]
  },
  {
   "cell_type": "markdown",
   "metadata": {},
   "source": [
    "### Managing Permissions for Tables and Views\n",
    "\n",
    "Similarly, we can manage permissions for tables and views.  \n",
    "Simply, we click on the table name.  \n",
    "Then, you click on the **Permissions** tab.  \n",
    "From here, let us, for example, give all users the ability to query this table.\n",
    "\n",
    "- We click first on the **Grant** button.  \n",
    "- We select the **All Users** group.  \n",
    "- And we choose the **SELECT** privilege.  \n",
    "- Lastly, we click **Grant**.  \n",
    "\n",
    "Now, all users can query this table.\n",
    "\n"
   ]
  },
  {
   "cell_type": "markdown",
   "metadata": {},
   "source": [
    "### Catalog Explorer Limitations\n",
    "\n",
    "As you can see, the **Catalog Explorer** is a really useful and powerful tool to manage your data objects.  \n",
    "However, at present, only the **ANY FILE** object cannot be set from the **Catalog Explorer**.  \n",
    "You need to use the **SQL editor** instead.\n",
    "\n"
   ]
  },
  {
   "cell_type": "markdown",
   "metadata": {},
   "source": [
    "## SQL Query History\n",
    "\n",
    "What’s interesting about **Databricks SQL** is that you can see all the SQL queries run behind the **Catalog Explorer**.  \n",
    "Simply, navigate to the **Query History** in the left sidebar.  \n",
    "\n",
    "<div  style=\"text-align: center; line-height: 0; padding-top: 9px;\">\n",
    "<img src=\"../../assets/images/Screen-Captures/SQL Query History.jpg\" style=\"width: 1280px\">\n",
    "</div>\n",
    "\n",
    "As you can see, **query history** shows all the queries run in the **Databricks SQL**, including the **Catalog Explorer**."
   ]
  }
 ],
 "metadata": {
  "language_info": {
   "name": "python"
  }
 },
 "nbformat": 4,
 "nbformat_minor": 2
}
