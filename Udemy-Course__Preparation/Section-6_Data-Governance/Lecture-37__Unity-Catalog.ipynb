{
 "cells": [
  {
   "cell_type": "markdown",
   "metadata": {},
   "source": [
    "# Lecture 37. Unity Catalog"
   ]
  },
  {
   "cell_type": "markdown",
   "metadata": {},
   "source": [
    "In the previous lectures, we discussed the data governance model of **Databricks Hive metastore**.\n",
    "\n",
    "In this lecture, we will see an overview of **Unity Catalog**, which is the new governance solution of the Databricks platform.\n",
    "\n",
    "  - You will understand **Unity Catalog** and its architecture.\n",
    "  - And we will see the **3-level namespace** introduced by **Unity Catalog**.\n",
    "  - Lastly, we will describe the **security model** of **Unity Catalog**.\n",
    "\n"
   ]
  },
  {
   "cell_type": "markdown",
   "metadata": {},
   "source": [
    "## What is Unity Catalog\n",
    "\n",
    "***Unity Catalog*** is a centralized governance solution across all your workspaces on any cloud. \n",
    "It unifies governance for all data and AI assets in your **Lakehouse**, including files, tables, machine learning models, and dashboards. \n",
    "And these can be simply achieved using **SQL language**.\n",
    "\n",
    "So, with **Unity Catalog**, you define your **data access rules** once across multiple workspaces and clouds.\n",
    "\n"
   ]
  },
  {
   "cell_type": "markdown",
   "metadata": {},
   "source": [
    "## Unity Catalog Architecture\n",
    "\n",
    "<div  style=\"text-align: center; line-height: 0; padding-top: 9px;\">\n",
    "<img src=\"../../assets/images/Screen-Captures/Unity Catalog Architecture.jpg\" style=\"width: 600px\">\n",
    "</div>\n",
    "\n",
    "Before **Unity Catalog**, users and groups were defined per workspace. Also, access control was managed via the **Hive metastore** within the workspace.\n",
    "\n",
    "By contrast, **Unity Catalog** sits outside of the workspace and is accessed via a user interface called the **Account Console**.\n",
    "\n",
    "Users and groups for **Unity Catalog** are managed through this **Account Console** and assigned to one or more workspaces.\n",
    "\n",
    "Metastores are likewise separated out of the workspace and managed through the **Account Console**, where they can be assigned to the workspaces.\n",
    "\n",
    "A **Unity Catalog metastore** can be assigned to more than one workspace, enabling multiple workspaces to share the same **DBFS storage** and the same **access control lists**.\n",
    "\n"
   ]
  },
  {
   "cell_type": "markdown",
   "metadata": {},
   "source": [
    "## Unity Catalog Three-Level Namespace\n",
    "\n",
    "We saw previously the traditional two-level namespaces used to address tables within the schemas.\n",
    "\n",
    "**Unity Catalog** introduces a **third level**, which is **catalogs**.\n",
    "\n",
    "<div  style=\"text-align: center; line-height: 0; padding-top: 9px;\">\n",
    "<img src=\"../../assets/images/Screen-Captures/UC 3-level namespace.jpg\" style=\"width: 600px\">\n",
    "</div>\n",
    "\n"
   ]
  },
  {
   "cell_type": "markdown",
   "metadata": {},
   "source": [
    "## UC hierarchy\n",
    "\n",
    "Let us understand better the hierarchy of **Unity Catalog**:\n",
    "\n",
    "### UC metastore\n",
    "\n",
    "The **metastore** is the top-level logical container in **Unity Catalog**. It represents **metadata**, that is, information about the objects being managed by the metastore, as well as the **access control list** that governs access to those objects.\n",
    "\n",
    "In a **metastore**, you have **catalogs**, which is the top-level container for data objects in **Unity Catalog** and forms the first part of the **three-level namespace** we just saw.\n",
    "\n",
    "- UC metastore vs Hive metastore\n",
    "\n",
    "  Don't confuse **Unity Catalog metastore** with the **Hive metastore**.\n",
    "\n",
    "  * The **Hive metastore** is the default metastore linked to each Databricks workspace.\n",
    "\n",
    "  * And while it may seem functionally similar to a **Unity Catalog metastore**, **Unity Catalog metastores** offer improved security and advanced features."
   ]
  },
  {
   "cell_type": "markdown",
   "metadata": {},
   "source": [
    "### Catalogs\n",
    "\n",
    "  <div  style=\"text-align: center; line-height: 0; padding-top: 9px;\">\n",
    "  <img src=\"../../assets/images/Screen-Captures/UC hierarchy.jpg\" style=\"width: 600px\">\n",
    "  </div>\n",
    "\n",
    "  - A **Unity Catalog metastore** can have as many catalogs as desired.\n",
    "\n",
    "  - **Catalogs** contain **schemas**.\n",
    "\n",
    "    A **schema**, also known as a **database**, is the second part of the **three-level namespace**.\n",
    "\n",
    "  - Schemas usually contain **data assets** like tables, views, and functions, forming the third part of the **three-level namespace**.\n",
    "\n"
   ]
  },
  {
   "cell_type": "markdown",
   "metadata": {},
   "source": [
    "### Authentication and Storage Integration\n",
    "\n",
    "<div  style=\"text-align: center; line-height: 0; padding-top: 9px;\">\n",
    "<img src=\"../../assets/images/Screen-Captures/UC hierarchy 2.jpg\" style=\"width: 600px\">\n",
    "</div>\n",
    "\n",
    "- **Unity Catalog** also supports authentication to the underlying cloud storage through **Storage Credentials**.\n",
    "\n",
    "  **Storage Credentials** apply to an entire storage container.\n",
    "\n",
    "- On the other hand, **External Locations** represent the storage directories within a cloud storage container.\n",
    "\n"
   ]
  },
  {
   "cell_type": "markdown",
   "metadata": {},
   "source": [
    "### Shares and Recipients\n",
    "\n",
    "<div  style=\"text-align: center; line-height: 0; padding-top: 9px;\">\n",
    "<img src=\"../../assets/images/Screen-Captures/UC hierarchy 3.jpg\" style=\"width: 600px\">\n",
    "</div>\n",
    "\n",
    "In addition, **Unity Catalog** adds **Shares** and **Recipients** related to **Delta Sharing**.\n",
    "\n",
    "**Shares** are collections of tables shared with one or more **Recipients**. **Delta sharing** is out of scope for this course.\n",
    "\n"
   ]
  },
  {
   "cell_type": "markdown",
   "metadata": {},
   "source": [
    "## Identity Management in Unity Catalog\n",
    "\n",
    "### Types of Identities\n",
    "\n",
    "In **Unity Catalog**, we have three types of **identities** or **principals**, which are **users**, **service principals**, and **groups**.\n",
    "\n",
    "- ***Users*** are individual physical users uniquely identified by their email addresses. \n",
    "\n",
    "  A user can have an **admin role** to perform several administrative tasks important to **Unity Catalog**, such as managing and assigning metastores to workspaces and managing other users.\n",
    "\n",
    "- A ***Service Principal*** is an individual identity for use with automated tools and applications. \n",
    "\n",
    "  **Service Principals** are uniquely identified by **Application ID**. Like users, **Service Principals** can have admin roles which allow them to programmatically carry out administrative tasks.\n",
    "\n",
    "- Lastly, we have **groups** that collect users and **Service Principals** into a single entity. \n",
    "\n",
    "  **Groups** can be nested with other groups. For example, a parent group called **Employees** can contain two inner groups: **HR** and **Finance** groups.\n",
    "\n"
   ]
  },
  {
   "cell_type": "markdown",
   "metadata": {},
   "source": [
    "### Identity Federation\n",
    "\n",
    "Databricks identities exist at two levels: at **account-level** and at **workspace-level**.\n",
    "\n",
    "<div  style=\"text-align: center; line-height: 0; padding-top: 9px;\">\n",
    "<img src=\"../../assets/images/Screen-Captures/Identity Federation.jpg\" style=\"width: 600px\">\n",
    "</div>\n",
    "\n",
    "**Unity Catalog** supports a feature called **Identity Federation**, where identities are simply created once in the **Account Console**. Then, they can be assigned to one or more workspaces as needed.\n",
    "\n",
    "So, **Identity Federation** eliminates the need to manually create and maintain copies of identities at the workspace level.\n",
    "\n"
   ]
  },
  {
   "cell_type": "markdown",
   "metadata": {},
   "source": [
    "### Privileges\n",
    "\n",
    "- **Unity Catalog** has **CREATE**, **USAGE**, **SELECT**, and **MODIFY** privileges.\n",
    "\n",
    "- In addition, we also have privileges related to the underlying storage, which are **READ FILES** and **WRITE FILES**, replacing the **ANY FILE** privilege we saw previously with the **Hive metastore**.\n",
    "\n",
    "- Lastly, we have the **EXECUTE** privilege to allow executing **user-defined functions**.\n",
    "\n"
   ]
  },
  {
   "cell_type": "markdown",
   "metadata": {},
   "source": [
    "## Unity Catalog Security Model\n",
    "\n",
    "So, putting it all together, we can see here the **security model** of **Unity Catalog**.\n",
    "\n",
    "<div  style=\"text-align: center; line-height: 0; padding-top: 9px;\">\n",
    "<img src=\"../../assets/images/Screen-Captures/UC Security model.jpg\" style=\"width: 600px\">\n",
    "</div>\n",
    "\n",
    "As you can see, **Unity Catalog** uses a different security model than **Hive metastores** for granting privileges. There are different privilege types and extra securable objects and principals.\n",
    "\n",
    "Here, we continue to use the `GRANT` statement in order to give a privilege on a secure object to a principal.\n",
    "\n"
   ]
  },
  {
   "cell_type": "markdown",
   "metadata": {},
   "source": [
    "## Accessing legacy Hive metastore\n",
    "\n",
    "**Unity Catalog** is additive, which means that your legacy **Hive metastore** is still accessible once **Unity Catalog** is enabled.\n",
    "\n",
    "<div  style=\"text-align: center; line-height: 0; padding-top: 9px;\">\n",
    "<img src=\"../../assets/images/Screen-Captures/Accessing legacy Hive metastore.jpg\" style=\"width: 600px\">\n",
    "</div>\n",
    "\n",
    "Regardless of the **Unity Catalog metastore** assigned to the workspace, the catalog named `hive_metastore` always provides access to the **Hive metastore** local to that workspace.\n"
   ]
  },
  {
   "cell_type": "markdown",
   "metadata": {},
   "source": [
    "## UC Features\n",
    "\n",
    "- In addition to its **centralized governance model**, Unity Catalog also has a **built-in data search and discovery** feature.\n",
    "\n",
    "- It also provides **automated lineage**, where you can identify the origin of your data and where it is used across all data types, like tables, notebooks, workflows, and dashboards.\n",
    "\n",
    "- Lastly, as we saw, Unity Catalog unifies existing legacy catalogs. So, there is **no hard migration needed** when enabling Unity Catalog.\n"
   ]
  },
  {
   "cell_type": "markdown",
   "metadata": {},
   "source": [
    "## Account Console\n",
    "\n",
    "At the end, in order to access the **Account Console**, you can log in as an **Account Administrator** via this link: https://accounts.cloud.databricks.com"
   ]
  }
 ],
 "metadata": {
  "language_info": {
   "name": "python"
  }
 },
 "nbformat": 4,
 "nbformat_minor": 2
}
