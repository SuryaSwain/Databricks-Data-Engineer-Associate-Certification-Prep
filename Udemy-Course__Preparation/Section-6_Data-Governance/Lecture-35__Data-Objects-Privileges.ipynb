{
 "cells": [
  {
   "cell_type": "markdown",
   "metadata": {},
   "source": [
    "# Lecture 35. Data Objects Privileges"
   ]
  },
  {
   "cell_type": "markdown",
   "metadata": {},
   "source": [
    "In this video, we will talk about **data object privileges** in **Databricks**.\n",
    "\n",
    "  - You will understand the **Databricks data governance model**. \n",
    "  - And you will learn how to manage **permissions for different data objects** like databases, tables, and views.\n"
   ]
  },
  {
   "cell_type": "markdown",
   "metadata": {},
   "source": [
    "### Reference\n",
    "  - [Documentation > Data governance with Unity Catalog > Hive metastore table access control (legacy) > Hive metastore privileges and securable objects (legacy)](https://docs.databricks.com/en/data-governance/table-acls/object-privileges.html)  \n",
    "\n"
   ]
  },
  {
   "cell_type": "markdown",
   "metadata": {},
   "source": [
    "## Databricks data governance model\n",
    "\n",
    "The data governance model in **Databricks** lets you **programmatically grant, deny, and revoke access to your data** from Spark SQL.\n",
    "\n",
    "Here is a general command that allows you to give an access privilege on a specific data object to a user or group of users.\n",
    "\n",
    "```sql\n",
    "GRANT <Privilege> ON <Object Type> <object-name> TO <user or group>\n",
    "```\n",
    "\n",
    "For example, we can give `read` access, translated by the ability to do a `SELECT` operation, on a table called `my_table`. This permission is assigned to **User 1**.\n",
    "\n",
    "```sql\n",
    "GRANT SELECT ON TABLE my_table TO user_1@company.com\n",
    "```\n",
    "\n",
    "So this table here is a data object on which we set permissions.\n",
    "\n"
   ]
  },
  {
   "cell_type": "markdown",
   "metadata": {},
   "source": [
    "### Data Object Types in Databricks\n",
    "\n",
    "Let us see what other object types we have in **Databricks**.\n",
    "\n",
    "<div  style=\"text-align: center; line-height: 0; padding-top: 9px;\">\n",
    "<img src=\"../../assets/images/Presentation-Images/Data Object Types in Databricks.jpg\" style=\"width: 640px\">\n",
    "</div>\n",
    "\n",
    "**Databricks** allows you to configure permissions for the following object types:\n",
    "\n",
    "- **`CATALOG`**: To control access to the entire data catalog.\n",
    "- **`SCHEMA`**: To control access to a database.\n",
    "- **`TABLE`**: You can control access to a table, whether it's a managed or external table.\n",
    "- **`VIEW`**: To control access to a SQL view.\n",
    "- **`FUNCTION`**: To control access to a named function.\n",
    "- Additionally, with the **`ANY FILE`** keyword, we can control access to the underlying file system.\n",
    "\n"
   ]
  },
  {
   "cell_type": "markdown",
   "metadata": {},
   "source": [
    "### Privileges in Databricks\n",
    "\n",
    "Okay, now that we know the data objects on which we can configure privileges, let us see what are those privileges.\n",
    "\n",
    "<div  style=\"text-align: center; line-height: 0; padding-top: 9px;\">\n",
    "<img src=\"../../assets/images/Presentation-Images/Privileges in Databricks.jpg\" style=\"width: 640px\">\n",
    "</div>\n",
    "\n",
    "The following privileges can be configured on the data objects:\n",
    "\n",
    "- **`SELECT`**: Gives `read` access to an object.\n",
    "- **`MODIFY`**: Gives the ability to add, delete, and modify data to and from an object.\n",
    "- **`CREATE`**: Gives the ability to create an object (for example, a table in a database).\n",
    "- **`READ_METADATA`**: Gives the ability to view an object and its metadata.\n",
    "- **`USAGE`**: Does not give any specific ability; however, it is an additional requirement to perform any action on a database object.\n",
    "- **`ALL PRIVILEGES`**: Grants all the above privileges at the same time.\n",
    "\n"
   ]
  },
  {
   "cell_type": "markdown",
   "metadata": {},
   "source": [
    "## Managing Permissions for Data objects\n",
    "\n",
    "### Granting Privileges in Databricks\n",
    "\n",
    "In order to be able to grant privileges on an object, you need to be either a **Databricks Administrator** or the **Object Owner**.\n",
    "\n",
    "<div  style=\"text-align: center; line-height: 0; padding-top: 9px;\">\n",
    "<img src=\"../../assets/images/Presentation-Images/Granting Privileges by Role.jpg\" style=\"width: 640px\">\n",
    "</div>\n",
    "\n",
    "- If you are a **Database Administrator**, you can grant access privileges for all objects in the catalog and in the underlying file system.\n",
    "- A **Catalog Owner** can grant a privilege for all objects in the catalog.\n",
    "- A **Database Owner** can grant privileges for all objects only in that database.\n",
    "- A **Table Owner** can grant privileges only for the table itself.\n",
    "- Of course, similar rules apply to views and functions.\n",
    "\n"
   ]
  },
  {
   "cell_type": "markdown",
   "metadata": {},
   "source": [
    "### Managing Privileges\n",
    "\n",
    "Finally, in addition to the grant operation, you have other useful operations to manage object privileges.\n",
    "\n",
    "- For example, you can **deny** and **revoke** privileges. \n",
    "- You are also able to show the granted permissions on objects using the `SHOW GRANTS` operation."
   ]
  }
 ],
 "metadata": {
  "language_info": {
   "name": "python"
  }
 },
 "nbformat": 4,
 "nbformat_minor": 2
}
