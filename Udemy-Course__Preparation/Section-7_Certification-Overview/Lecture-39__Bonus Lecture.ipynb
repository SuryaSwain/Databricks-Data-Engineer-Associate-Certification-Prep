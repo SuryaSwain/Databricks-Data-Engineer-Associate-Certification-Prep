{
 "cells": [
  {
   "cell_type": "markdown",
   "metadata": {},
   "source": [
    "# Lecture 39. Bonus Lecture"
   ]
  },
  {
   "cell_type": "markdown",
   "metadata": {},
   "source": [
    "Congrats on completing the course! You've done a great job! Keep it up!\n",
    "\n",
    "\n",
    "\n",
    "Wondering what to take next?\n",
    "\n",
    "**1- I suggest you practice more**\n",
    "\n",
    "My practice exams course is available to prepare you before appearing for the actual exam.\n",
    "\n",
    "Use the coupon `DEALOCT2024` for special discount (included in the following link)\n",
    "\n",
    "https://www.udemy.com/course/practice-exams-databricks-certified-data-engineer-associate/?couponCode=DEALOCT2024\n",
    "\n",
    "After passing these practice exams, you will be ready to take the certification exam.\n",
    "\n",
    "\n",
    "\n",
    "**2- Prepare for the Professional-level certification**\n",
    "\n",
    "Take your skills to the next level with the Professional-level of Databricks Data Engineer certification.\n",
    "\n",
    "My course will provide you with all the skills and knowledge needed for Databricks Certified Data Engineer Professional certification exam.\n",
    "\n",
    "Use the coupon `DEALOCT2024` for special discount (included in the following link)\n",
    "\n",
    "https://www.udemy.com/course/databricks-certified-data-engineer-professional/?couponCode=DEALOCT2024\n",
    "\n",
    "![Derar Alhussein photo](../../assets/images/Derar%20Alhussein%20photo.png)\n",
    "\n",
    "\n",
    "You enjoyed the course ? I invite you to **write a review** on Udemy to share your experience with other students. Your feedback is valuable and would be really appreciated.\n",
    "\n",
    "\n",
    "\n",
    "For more content & exam vouchers, let's [connect on LinkedIn](https://www.linkedin.com/in/deraralhussein)!\n",
    "\n",
    "\n",
    "\n",
    "I wish you all the best in your exam!\n",
    "\n",
    "Derar Alhussein"
   ]
  }
 ],
 "metadata": {
  "language_info": {
   "name": "python"
  }
 },
 "nbformat": 4,
 "nbformat_minor": 2
}
