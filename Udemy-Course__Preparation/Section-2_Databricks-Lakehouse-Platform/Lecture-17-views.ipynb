{
 "cells": [
  {
   "cell_type": "markdown",
   "metadata": {},
   "source": [
    "# Lesson 17. Views"
   ]
  },
  {
   "cell_type": "markdown",
   "metadata": {},
   "source": [
    "## Learning Objectives\n",
    "\n",
    "- You'll understand what is a view in Databricks and how to work with it.\n",
    "- In addition, we will explain the different types of views."
   ]
  },
  {
   "cell_type": "markdown",
   "metadata": {},
   "source": [
    "## View\n",
    "\n",
    "A *view* in Databricks is a virtual table that has no physical data.\n",
    "\n",
    "<div style=\"text-align: center;\">\n",
    "<img src=\"../../assets/images/what is view.jpg\" style=\"width:640px\" >\n",
    "</div> \n",
    "\n",
    "In fact, it is just a saved SQL query against actual tables.\n",
    "And this query is executed each time a view is queried."
   ]
  },
  {
   "cell_type": "markdown",
   "metadata": {},
   "source": [
    "## Types of views\n",
    "\n",
    "There are three types of views in Databricks: \n",
    "* the classical view, also known as stored view, \n",
    "* temporary views and \n",
    "* global temporary views."
   ]
  },
  {
   "cell_type": "markdown",
   "metadata": {},
   "source": [
    "### 1- (Stored) Views\n",
    "\n",
    "Like tables, *stored views* are persisted in the database.\n",
    "\n",
    "To define a view, we use the `CREATE VIEW` statement with the `AS` keyword followed by your SQL query.\n",
    "\n",
    "```sql\n",
    "CREATE VIEW view_name\n",
    "AS query\n",
    "```\n",
    "\n",
    "Once created, you can query your view with a standard `SELECT` statement, just as if it were a table."
   ]
  },
  {
   "cell_type": "markdown",
   "metadata": {},
   "source": [
    "### 2- Temporary view\n",
    "\n",
    "*Temporary view* is tied to Spark session, so it is dropped when the session ends.\n",
    "\n",
    "To create a temporary review, we simply add `TEMP` or `TEMPORARY` keyword to the Create view command.\n",
    "\n",
    "```sql\n",
    "CREATE TEMP VIEW view_name\n",
    "AS query\n",
    "```\n",
    "\n",
    "- When a Spark session is created in Databricks\n",
    "\n",
    "    In fact, there are several scenarios in which a new Spark session is created.\n",
    "\n",
    "    * when opening a new notebook\n",
    "\n",
    "    * when detaching and reattaching a notebook to a cluster.\n",
    "\n",
    "    * after installing a Python package (which leads to restarting the python interpreter)\n",
    "\n",
    "    * simply after restarting the cluster"
   ]
  },
  {
   "cell_type": "markdown",
   "metadata": {},
   "source": [
    "### 3- Global Temporary views\n",
    "\n",
    "The third type of views is a *Global Temporary view*.\n",
    "It behaves much like other views, but differs in one important way.\n",
    "It is tied to the cluster.\n",
    "As long as the cluster is running, any notebook attached to the cluster can access its global temporary views.\n",
    "\n",
    "To define a global temporary view, we simply add `GLOBAL TEMP` to the command.\n",
    "\n",
    "```sql\n",
    "CREATE GLOBAL TEMP VIEW view_name\n",
    "AS query\n",
    "```\n",
    "\n",
    "Global temporary views are added to a cluster's temporary database called `global_temp`.\n",
    "So when you query this view in a SELECT statement, you need to use the global_temp database qualifier.\n",
    "\n",
    "```sql\n",
    "SELECT * FROM global_temp.view_name\n",
    "```"
   ]
  },
  {
   "cell_type": "markdown",
   "metadata": {},
   "source": [
    "## Views comparison\n",
    "\n",
    "To summarize, let us do this comparison between views, temporary views, and global temporary views.\n",
    "\n",
    "<div style=\"text-align: center;\">\n",
    "<img src=\"../../assets/images/Views comparison.jpg\" style=\"width:640px\" >\n",
    "</div> \n",
    "\n",
    "- Stored views are like tables.\n",
    "    Their definition is stored in the database, but again, not the data itself. \n",
    "    Remember, a view is nothing but a SQL query.\n",
    "    As the views are stored in the database, they can be accessed across multiple sessions.\n",
    "\n",
    "    Temporary views, on the other hand, are only accessible in the current session.\n",
    "\n",
    "    While global temporary views can be accessed across multiple sessions but within the same cluster.\n",
    "\n",
    "- To drop a stored view, you should use the `DROP VIEW` command, \n",
    "    while Temp views are dropped automatically when the session ends.\n",
    "    Global temporary views automatically dropped as well but when the cluster restarted.\n",
    "\n",
    "- And of course, there is a small difference in the CREATE VIEW statements.\n",
    "\n",
    "    We add `TEMP` keywords for creating temporary views, while we add the `GLOBAL TEMP` keyword for creating global temporary views."
   ]
  }
 ],
 "metadata": {
  "language_info": {
   "name": "python"
  }
 },
 "nbformat": 4,
 "nbformat_minor": 2
}
