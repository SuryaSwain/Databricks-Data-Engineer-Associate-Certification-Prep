{
 "cells": [
  {
   "cell_type": "markdown",
   "metadata": {},
   "source": [
    "# Lecture 16. Set Up Delta Tables"
   ]
  },
  {
   "cell_type": "markdown",
   "metadata": {},
   "source": [
    "## Learning Objectives\n",
    "\n",
    "- You will understand how to use **CTAS statements** to create Delta tables.\n",
    "- And we will learn how to add **table constraints** to an existing table.\n",
    "- Lastly, we will see how to make a **copy of a Delta table**."
   ]
  },
  {
   "cell_type": "markdown",
   "metadata": {},
   "source": [
    "## CTAS\n",
    "\n",
    "- In addition to regular `CREATE TABLE` statements, \n",
    "  we can use CTAS statements to create Delta tables.\n",
    "\n",
    "  *CTAS statements* or *Create Table As Select statements* create and populate data tables using the output of a SELECT statement.\n",
    "\n",
    "- Here is an example. We are creating table number 1 and fill this table by data retrieved from table number 2.\n",
    "\n",
    "  ```SQL\n",
    "  CREATE TABLE table_1\n",
    "  AS SELECT * FROM table_2\n",
    "  ```\n",
    "  \n",
    "- CTAS statements automatically infer schema information from query results, and do not support manual schema declaration.\n",
    "\n",
    "- With CTAS statements, we can do simple transformations like changing column names or omitting columns from target tables during table creation.\n",
    "\n",
    "  * **[CTAS: Filtering and Renaming Columns]** \n",
    "    In this example, the statement creates a new table, `table_1` containing a subset of columns from `table_2`. And we are also renaming the column 3.\n",
    "\n",
    "    ```SQL\n",
    "    CREATE TABLE table_1\n",
    "    AS SELECT col_1, col_3 AS new_col_3 FROM table_2\n",
    "    ```\n",
    "\n",
    "  * **[CTAS: Additional Options]** \n",
    "    In addition, the `CREATE TABLE` clause contains several options.\n",
    "    You can provide a descriptive comment for the table. This allows for easier discovery of table contents.\n",
    "\n",
    "    ```SQL\n",
    "    CREATE TABLE new_table\n",
    "    COMMENT \"Contains PII\"\n",
    "    PARTITIONED BY (city, birth_date)\n",
    "    LOCATION '/some/path'\n",
    "    AS SELECT id, name, email, birth_date, city FROM users\n",
    "    ```\n",
    "\n",
    "    Here we are adding a comment indicating that the table contains Personal Identifiable Information like the name and the email of the user.\n",
    "\n",
    "    The underlying data of a data table can be partitioned in subfolders by the value of one or more columns.\n",
    "    Here we are partitioning by the city and birthdate.\n",
    "    Partitioning can improve the performance of huge delta tables.\n",
    "\n",
    "    On the other hand, small to medium sized tables will not benefit from partitioning, because partitioning physically separates data files which results in a small files problem.\n",
    "    This can prevent file compaction and efficient data skipping.\n",
    "\n",
    "    As a best practice, you should default to non partition tables for most use cases when working with Delta tables.\n",
    "\n",
    "    Lastly, the created table with CTAS statements can be an external table, so the data will be stored in an external location specified by the LOCATION keyword."
   ]
  },
  {
   "cell_type": "markdown",
   "metadata": {},
   "source": [
    "### CREATE TABLE vs. CTAS\n",
    "\n",
    "Let us see this comparison between regular `CREATE TABLE` statements and CTAS statements.\n",
    "\n",
    "<div style=\"text-align: center;\">\n",
    "<img src=\"../../assets/images/CREATE TABLE vs. CTAS.jpg\" style=\"width:640px\" >\n",
    "</div> \n",
    "\n",
    "- Regular CREATE TABLE statements need manual schema declaration.\n",
    "\n",
    "  * Here, for example, column 1 of type Integer, Column 2 of type String and column 3 of type Double.\n",
    "\n",
    "  * While CTAS statements do not support manual schema declaration. They automatically infer schema information from query results.\n",
    "\n",
    "- Regular CREATE TABLE statements create an empty table.\n",
    "\n",
    "  * So, you need an INSERT INTO statement to load data into the table.\n",
    "\n",
    "  * On the other hand, with CTAS statements, data will be inserted during table creation from the output of the SELECT statement."
   ]
  },
  {
   "cell_type": "markdown",
   "metadata": {},
   "source": [
    "## Table Constraints\n",
    "\n",
    "Now, once you create your Delta table, either with a regular create table or CTAS statements, you can add constraints to your table.\n",
    "\n",
    "```sql\n",
    "ALTER TABLE table_name ADD CONSTRAINT constraint_name constraint_details\n",
    "```\n",
    "\n",
    "Databricks currently supports two types of table constraints, \n",
    "  * NOT NULL constraints and \n",
    "  * CHECK constraints.\n",
    "\n",
    "In both cases, you must ensure that there is no data violating the constraint is already in the table prior to defining the constraint.\n",
    "\n",
    "Once a constraint has been added to a table, new data violating the constraint would result in write failure.\n",
    "\n",
    "In this example, we add a Check constraint to the date column of our table.\n",
    "\n",
    "```sql\n",
    "ALTER TABLE orders ADD CONSTRAINT valid_date CHECK (date > '2020-01-01');\n",
    "```\n",
    "\n",
    "Not that Check constraints look like standard WHERE clauses you might use to filter a dataset."
   ]
  },
  {
   "cell_type": "markdown",
   "metadata": {},
   "source": [
    "## Cloning Delta Lake Tables\n",
    "\n",
    "Lastly, what if you want to back up or make a copy of your delta table?\n",
    "\n",
    "For this data, Lake has two options for efficiently copying Delta Lake tables, either deep clone or shallow clone."
   ]
  },
  {
   "cell_type": "markdown",
   "metadata": {},
   "source": [
    "### Deep Cloning\n",
    "\n",
    "*Deep clone* fully copies both data and metadata from a source table to a target.\n",
    "\n",
    "The command is pretty simple.\n",
    "`CREATE TABLE` and you provide the name of the new target table,\n",
    "followed by `DEEP CLONE` keyboard and you indicate the name of the source table.\n",
    "\n",
    "```sql\n",
    "CREATE TABLE table_clone\n",
    "DEEP CLONE source_table\n",
    "```\n",
    "\n",
    "This copy can occur incrementally.\n",
    "\n",
    "So executing this command again can synchronize changes from the source to the target location.\n",
    "\n",
    "And because all the data must be copied over, this can take a while for large data sets.\n",
    "This is why you may need a shallow clone.\n",
    "\n"
   ]
  },
  {
   "cell_type": "markdown",
   "metadata": {},
   "source": [
    "### Shallow Cloning\n",
    "\n",
    "With *shallow clone*, you can quickly create a copy of a table \n",
    "since it just copies the Delta transaction logs.\n",
    "That means there is no data moving during shallow cloning.\n",
    "\n",
    "```sql\n",
    "CREATE TABLE table_clone\n",
    "SHALLOW CLONE source_table\n",
    "```\n",
    "\n",
    "Shallow clone is a good option, for example, to test out applying changes on a table without the risk of modifying the current table."
   ]
  },
  {
   "cell_type": "markdown",
   "metadata": {},
   "source": [
    "### Cloning Delta Lake Tables\n",
    "\n",
    "- Cloning is a great way to copy production tables for testing your code in development.\n",
    "\n",
    "- In either cases, deep or shallow, data modification applied to the cloned version of the table will be tracked and stored separately from the source, so it will not affect the source table."
   ]
  }
 ],
 "metadata": {
  "language_info": {
   "name": "python"
  }
 },
 "nbformat": 4,
 "nbformat_minor": 2
}
