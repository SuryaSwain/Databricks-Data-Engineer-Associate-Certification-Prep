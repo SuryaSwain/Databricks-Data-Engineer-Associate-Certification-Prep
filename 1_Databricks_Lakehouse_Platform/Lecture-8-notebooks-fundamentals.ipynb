{
 "cells": [
  {
   "cell_type": "markdown",
   "metadata": {},
   "source": [
    "# Udemy Course: Databricks Certified Data Engineer Associate - Preparation\n",
    "\n",
    "## Section 1: Introduction"
   ]
  },
  {
   "cell_type": "markdown",
   "metadata": {},
   "source": [
    "### Lesson 8. Notebooks Fundamentals\n",
    "\n",
    "  - Notebooks are coding environments allowing you \n",
    "  to interactively developing and executing code on databricks.\n",
    "  You can also collaborate between different team members by sharing the notebook.\n",
    "\n",
    "  - Before running any computation, we need \n",
    "  to attach your notebook to a cluster on which your code will be running.\n",
    "\n",
    "  - If you have previously used Jupyter Notebook, \n",
    "  you will notice that the basic functionality is the same, \n",
    "  but with additional features and capabilities that you might enjoy.\n",
    "\n",
    "  - Databricks notebooks support Python, SQL, Scala and R. \n",
    "    * A language is selected when a notebook is created, but this can be changed at any time.\n",
    "    * In a notebook, you can change the language of a specific cell.\n",
    "\n",
    "  - *Magic commands* are built in commands that provide the same output regardless of the notebook language. This is called *Language Magic Command* that allows the execution of code in a language other than the\n",
    "\n",
    "      - `%sql` to run SQL \n",
    "      - `%md` for markdown\n",
    "      - `%run` to run another notebook from the current notebook. For example, \n",
    "        ```\n",
    "        %run ./Includes/Setup\n",
    "        ```\n",
    "      - `%fs` to deal with file system operations like LS for listing files in a given directory. For example,\n",
    "        ```\n",
    "        %fs ls '/databricks-datasets'\n",
    "        ```\n",
    "  \n",
    "  - Another way to deal with filesystem operations is to use databricks utilities, also known as `dbutils`. `dbutils` provides a number of utility commands for configuring and interacting with the environment.\n",
    "    * `dbutils.help()` function to get some help for each utility.\n",
    "    * `dbutils.fs.help()`\n",
    "    * Databricks notebooks also support auto completion using the 'Tab' key.\n",
    "    * `dbutils.fs.ls('/databricks-datasets')`\n",
    "    * In fact, dbutils is more useful than the %fs magic command since you can use dbutils as part of python code.\n",
    "      ```python\n",
    "      files = dbutils.fs.ls('/databricks-datasets')\n",
    "      display(files)\n",
    "      ```\n",
    "\n",
    "  - The *DBC* or the *Databricks Cloud file* is a zip file that contains a collection of directories and notebooks. \n",
    "  This file can be uploaded into any databricks workspace to move or share notebooks.\n",
    "\n",
    "  - In Databricks notebooks, you can access the revision history of all the changes being made on a notebook.\n",
    "\n",
    "  - [Watch Video](https://external-teksystems.udemy.com/course/databricks-certified-data-engineer-associate/learn/lecture/34742270#overview)\n",
    "\n",
    "\n"
   ]
  }
 ],
 "metadata": {
  "language_info": {
   "name": "python"
  }
 },
 "nbformat": 4,
 "nbformat_minor": 2
}
