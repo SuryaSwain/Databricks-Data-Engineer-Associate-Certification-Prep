{
 "cells": [
  {
   "cell_type": "markdown",
   "metadata": {
    "application/vnd.databricks.v1+cell": {
     "cellMetadata": {},
     "inputWidgets": {},
     "nuid": "3b496165-30c2-455e-842e-f39c91ecc242",
     "showTitle": false,
     "title": ""
    }
   },
   "source": [
    "# Udemy Course: Databricks Certified Data Engineer Associate - Preparation\n",
    "\n",
    "## Section 2: Databricks Lakehouse Platform"
   ]
  },
  {
   "cell_type": "markdown",
   "metadata": {
    "application/vnd.databricks.v1+cell": {
     "cellMetadata": {},
     "inputWidgets": {},
     "nuid": "dda10767-6d19-4912-a92d-94f9968443c8",
     "showTitle": false,
     "title": ""
    }
   },
   "source": [
    "### Lesson 11. Understanding Delta Tables (Hands On)\n",
    "\n",
    "In this notebook, we will work with Delta Lake tables.\n",
    "\n"
   ]
  },
  {
   "cell_type": "markdown",
   "metadata": {
    "application/vnd.databricks.v1+cell": {
     "cellMetadata": {},
     "inputWidgets": {},
     "nuid": "aec8e717-5f32-43d8-9d64-20d55b9e71ad",
     "showTitle": false,
     "title": ""
    }
   },
   "source": [
    "#### Creating Delta Lake Tables\n",
    "\n",
    "Let us first create an empty Delta Lake table, like in SQL,\n",
    "\n",
    "You just need a CREAT TABLE statement, a table name, in our case, employees, and a table schema.\n",
    "\n",
    "```SQL\n",
    "CREATE TABLE employees\n",
    "-- USING DELTA\n",
    "    (id INT, name STRING, salery DOUBLE);\n",
    "```\n",
    "\n",
    "Here the `id` is of type `INT`, `name` `STRING`, `salary` `DOUBLE`\n",
    "\n",
    "Delta Lake is the default format and you don't need to specify the keyword USING DELTA, so we can simply remove it.\n",
    "\n",
    "Let us run our first command.\n"
   ]
  },
  {
   "cell_type": "code",
   "execution_count": 0,
   "metadata": {
    "application/vnd.databricks.v1+cell": {
     "cellMetadata": {
      "byteLimit": 2048000,
      "implicitDf": true,
      "rowLimit": 10000
     },
     "inputWidgets": {},
     "nuid": "2dc28ce1-c446-4084-a6e6-fae046efbca0",
     "showTitle": false,
     "title": ""
    },
    "vscode": {
     "languageId": "sql"
    }
   },
   "outputs": [
    {
     "data": {
      "text/html": [
       "<style scoped>\n",
       "  .table-result-container {\n",
       "    max-height: 300px;\n",
       "    overflow: auto;\n",
       "  }\n",
       "  table, th, td {\n",
       "    border: 1px solid black;\n",
       "    border-collapse: collapse;\n",
       "  }\n",
       "  th, td {\n",
       "    padding: 5px;\n",
       "  }\n",
       "  th {\n",
       "    text-align: left;\n",
       "  }\n",
       "</style><div class='table-result-container'><table class='table-result'><thead style='background-color: white'><tr></tr></thead><tbody></tbody></table></div>"
      ]
     },
     "metadata": {
      "application/vnd.databricks.v1+output": {
       "addedWidgets": {},
       "aggData": [],
       "aggError": "",
       "aggOverflow": false,
       "aggSchema": [],
       "aggSeriesLimitReached": false,
       "aggType": "",
       "arguments": {},
       "columnCustomDisplayInfos": {},
       "data": [],
       "datasetInfos": [],
       "dbfsResultPath": null,
       "isJsonSchema": true,
       "metadata": {
        "dataframeName": null
       },
       "overflow": false,
       "plotOptions": {
        "customPlotOptions": {},
        "displayType": "table",
        "pivotAggregation": null,
        "pivotColumns": null,
        "xColumns": null,
        "yColumns": null
       },
       "removedWidgets": [],
       "schema": [],
       "type": "table"
      }
     },
     "output_type": "display_data"
    }
   ],
   "source": [
    "%sql\n",
    "USE CATALOG hive_metastore"
   ]
  },
  {
   "cell_type": "code",
   "execution_count": 0,
   "metadata": {
    "application/vnd.databricks.v1+cell": {
     "cellMetadata": {
      "byteLimit": 2048000,
      "implicitDf": true,
      "rowLimit": 10000
     },
     "inputWidgets": {},
     "nuid": "f3c94a0e-9ef8-472e-9a5f-7f452a8ce3f1",
     "showTitle": false,
     "title": ""
    },
    "vscode": {
     "languageId": "sql"
    }
   },
   "outputs": [
    {
     "data": {
      "text/html": [
       "<style scoped>\n",
       "  .table-result-container {\n",
       "    max-height: 300px;\n",
       "    overflow: auto;\n",
       "  }\n",
       "  table, th, td {\n",
       "    border: 1px solid black;\n",
       "    border-collapse: collapse;\n",
       "  }\n",
       "  th, td {\n",
       "    padding: 5px;\n",
       "  }\n",
       "  th {\n",
       "    text-align: left;\n",
       "  }\n",
       "</style><div class='table-result-container'><table class='table-result'><thead style='background-color: white'><tr></tr></thead><tbody></tbody></table></div>"
      ]
     },
     "metadata": {
      "application/vnd.databricks.v1+output": {
       "addedWidgets": {},
       "aggData": [],
       "aggError": "",
       "aggOverflow": false,
       "aggSchema": [],
       "aggSeriesLimitReached": false,
       "aggType": "",
       "arguments": {},
       "columnCustomDisplayInfos": {},
       "data": [],
       "datasetInfos": [],
       "dbfsResultPath": null,
       "isJsonSchema": true,
       "metadata": {
        "dataframeName": null
       },
       "overflow": false,
       "plotOptions": {
        "customPlotOptions": {},
        "displayType": "table",
        "pivotAggregation": null,
        "pivotColumns": null,
        "xColumns": null,
        "yColumns": null
       },
       "removedWidgets": [],
       "schema": [],
       "type": "table"
      }
     },
     "output_type": "display_data"
    }
   ],
   "source": [
    "%sql\n",
    "CREATE TABLE employees\n",
    "    (id INT, name STRING, salary DOUBLE);"
   ]
  },
  {
   "cell_type": "markdown",
   "metadata": {},
   "source": [
    "#### Catalog Explorer\n",
    "\n",
    "Great. The table has been created.\n",
    "\n",
    "Let's confirm this. \n",
    "Let's go to the Catalog tab.\n",
    "\n",
    "<div style=\"text-align: center;\">\n",
    "<img src=\"../images/Catalog Explorer employee table.jpg\" style=\"width:1280px\" >\n",
    "</div> \n",
    "\n",
    "Here, in the default database, we can see that the table employees has been created.\n",
    "\n",
    "Here we can see the schema of the table, our three columns, id, name, salary and other metadata information.\n",
    "\n"
   ]
  },
  {
   "cell_type": "markdown",
   "metadata": {
    "application/vnd.databricks.v1+cell": {
     "cellMetadata": {},
     "inputWidgets": {},
     "nuid": "d7053c9a-dffb-4711-b166-e4e220891466",
     "showTitle": false,
     "title": ""
    }
   },
   "source": [
    "#### Inserting Data\n",
    "\n",
    "Now we will insert some records all in a single transaction.\n",
    "\n",
    "Again, like in SQL, we will use `INSERT INTO` statements.\n",
    "\n",
    "Let's run our second command.\n",
    "\n",
    "Here we can see that we have successfully inserted six records.\n"
   ]
  },
  {
   "cell_type": "code",
   "execution_count": 0,
   "metadata": {
    "application/vnd.databricks.v1+cell": {
     "cellMetadata": {
      "byteLimit": 2048000,
      "implicitDf": true,
      "rowLimit": 10000
     },
     "inputWidgets": {},
     "nuid": "fbd279e1-7785-4521-b923-cf025875fa25",
     "showTitle": false,
     "title": ""
    },
    "vscode": {
     "languageId": "sql"
    }
   },
   "outputs": [
    {
     "data": {
      "text/html": [
       "<style scoped>\n",
       "  .table-result-container {\n",
       "    max-height: 300px;\n",
       "    overflow: auto;\n",
       "  }\n",
       "  table, th, td {\n",
       "    border: 1px solid black;\n",
       "    border-collapse: collapse;\n",
       "  }\n",
       "  th, td {\n",
       "    padding: 5px;\n",
       "  }\n",
       "  th {\n",
       "    text-align: left;\n",
       "  }\n",
       "</style><div class='table-result-container'><table class='table-result'><thead style='background-color: white'><tr><th>num_affected_rows</th><th>num_inserted_rows</th></tr></thead><tbody><tr><td>1</td><td>1</td></tr></tbody></table></div>"
      ]
     },
     "metadata": {
      "application/vnd.databricks.v1+output": {
       "addedWidgets": {},
       "aggData": [],
       "aggError": "",
       "aggOverflow": false,
       "aggSchema": [],
       "aggSeriesLimitReached": false,
       "aggType": "",
       "arguments": {},
       "columnCustomDisplayInfos": {},
       "data": [
        [
         1,
         1
        ]
       ],
       "datasetInfos": [],
       "dbfsResultPath": null,
       "isJsonSchema": true,
       "metadata": {
        "dataframeName": "_sqldf",
        "executionCount": 7
       },
       "overflow": false,
       "plotOptions": {
        "customPlotOptions": {},
        "displayType": "table",
        "pivotAggregation": null,
        "pivotColumns": null,
        "xColumns": null,
        "yColumns": null
       },
       "removedWidgets": [],
       "schema": [
        {
         "metadata": "{}",
         "name": "num_affected_rows",
         "type": "\"long\""
        },
        {
         "metadata": "{}",
         "name": "num_inserted_rows",
         "type": "\"long\""
        }
       ],
       "type": "table"
      }
     },
     "output_type": "display_data"
    }
   ],
   "source": [
    "%sql\n",
    "-- NOTE: With latest Databricks Runtimes, inserting few records in single transaction is optimized into single data file.\n",
    "-- For this demo, we will insert the records in multiple transactions in order to create 4 data files.\n",
    "\n",
    "INSERT INTO employees\n",
    "VALUES \n",
    "  (1, \"Adam\", 3500.0),\n",
    "  (2, \"Sarah\", 4020.5);\n",
    "\n",
    "INSERT INTO employees\n",
    "VALUES\n",
    "  (3, \"John\", 2999.3),\n",
    "  (4, \"Thomas\", 4000.3);\n",
    "\n",
    "INSERT INTO employees\n",
    "VALUES\n",
    "  (5, \"Anna\", 2500.0);\n",
    "\n",
    "INSERT INTO employees\n",
    "VALUES\n",
    "  (6, \"Kim\", 6200.3)\n",
    "\n",
    "-- NOTE: When executing multiple SQL statements in the same cell, only the last statement's result will be displayed in the cell output."
   ]
  },
  {
   "cell_type": "markdown",
   "metadata": {
    "application/vnd.databricks.v1+cell": {
     "cellMetadata": {},
     "inputWidgets": {},
     "nuid": "9c43f201-8ccb-4e5a-aa71-f4332f0db828",
     "showTitle": false,
     "title": ""
    }
   },
   "source": [
    "Now we can simply query the table using a standard `SELECT` statement.\n"
   ]
  },
  {
   "cell_type": "code",
   "execution_count": 0,
   "metadata": {
    "application/vnd.databricks.v1+cell": {
     "cellMetadata": {
      "byteLimit": 2048000,
      "implicitDf": true,
      "rowLimit": 10000
     },
     "inputWidgets": {},
     "nuid": "35ba013c-bcc9-42f4-9585-422263465123",
     "showTitle": false,
     "title": ""
    },
    "vscode": {
     "languageId": "sql"
    }
   },
   "outputs": [
    {
     "data": {
      "text/html": [
       "<style scoped>\n",
       "  .table-result-container {\n",
       "    max-height: 300px;\n",
       "    overflow: auto;\n",
       "  }\n",
       "  table, th, td {\n",
       "    border: 1px solid black;\n",
       "    border-collapse: collapse;\n",
       "  }\n",
       "  th, td {\n",
       "    padding: 5px;\n",
       "  }\n",
       "  th {\n",
       "    text-align: left;\n",
       "  }\n",
       "</style><div class='table-result-container'><table class='table-result'><thead style='background-color: white'><tr><th>id</th><th>name</th><th>salary</th></tr></thead><tbody><tr><td>3</td><td>John</td><td>2999.3</td></tr><tr><td>4</td><td>Thomas</td><td>4000.3</td></tr><tr><td>1</td><td>Adam</td><td>3500.0</td></tr><tr><td>2</td><td>Sarah</td><td>4020.5</td></tr><tr><td>5</td><td>Anna</td><td>2500.0</td></tr><tr><td>6</td><td>Kim</td><td>6200.3</td></tr></tbody></table></div>"
      ]
     },
     "metadata": {
      "application/vnd.databricks.v1+output": {
       "addedWidgets": {},
       "aggData": [],
       "aggError": "",
       "aggOverflow": false,
       "aggSchema": [],
       "aggSeriesLimitReached": false,
       "aggType": "",
       "arguments": {},
       "columnCustomDisplayInfos": {},
       "data": [
        [
         3,
         "John",
         2999.3
        ],
        [
         4,
         "Thomas",
         4000.3
        ],
        [
         1,
         "Adam",
         3500
        ],
        [
         2,
         "Sarah",
         4020.5
        ],
        [
         5,
         "Anna",
         2500
        ],
        [
         6,
         "Kim",
         6200.3
        ]
       ],
       "datasetInfos": [],
       "dbfsResultPath": null,
       "isJsonSchema": true,
       "metadata": {
        "dataframeName": "_sqldf",
        "executionCount": 8
       },
       "overflow": false,
       "plotOptions": {
        "customPlotOptions": {},
        "displayType": "table",
        "pivotAggregation": null,
        "pivotColumns": null,
        "xColumns": null,
        "yColumns": null
       },
       "removedWidgets": [],
       "schema": [
        {
         "metadata": "{}",
         "name": "id",
         "type": "\"integer\""
        },
        {
         "metadata": "{}",
         "name": "name",
         "type": "\"string\""
        },
        {
         "metadata": "{}",
         "name": "salary",
         "type": "\"double\""
        }
       ],
       "type": "table"
      }
     },
     "output_type": "display_data"
    }
   ],
   "source": [
    "%sql\n",
    "SELECT * FROM employees"
   ]
  },
  {
   "cell_type": "markdown",
   "metadata": {
    "application/vnd.databricks.v1+cell": {
     "cellMetadata": {},
     "inputWidgets": {},
     "nuid": "44efca91-9fc6-4e18-be89-2fe5dc3102f6",
     "showTitle": false,
     "title": ""
    }
   },
   "source": [
    "#### Exploring Table Metadata\n",
    "\n",
    "Let us now see some metadata information about our table.\n",
    "\n",
    "Here we will use the `DESCRIBE DETAIL` command on our table.\n",
    "It is an important command that allows us to explore table metadata.\n",
    "\n"
   ]
  },
  {
   "cell_type": "code",
   "execution_count": 0,
   "metadata": {
    "application/vnd.databricks.v1+cell": {
     "cellMetadata": {
      "byteLimit": 2048000,
      "implicitDf": true,
      "rowLimit": 10000
     },
     "inputWidgets": {},
     "nuid": "92733113-372e-4e8c-80de-5209111b3a53",
     "showTitle": false,
     "title": ""
    },
    "vscode": {
     "languageId": "sql"
    }
   },
   "outputs": [
    {
     "data": {
      "text/html": [
       "<style scoped>\n",
       "  .table-result-container {\n",
       "    max-height: 300px;\n",
       "    overflow: auto;\n",
       "  }\n",
       "  table, th, td {\n",
       "    border: 1px solid black;\n",
       "    border-collapse: collapse;\n",
       "  }\n",
       "  th, td {\n",
       "    padding: 5px;\n",
       "  }\n",
       "  th {\n",
       "    text-align: left;\n",
       "  }\n",
       "</style><div class='table-result-container'><table class='table-result'><thead style='background-color: white'><tr><th>format</th><th>id</th><th>name</th><th>description</th><th>location</th><th>createdAt</th><th>lastModified</th><th>partitionColumns</th><th>clusteringColumns</th><th>numFiles</th><th>sizeInBytes</th><th>properties</th><th>minReaderVersion</th><th>minWriterVersion</th><th>tableFeatures</th><th>statistics</th></tr></thead><tbody><tr><td>delta</td><td>f417c9dd-30ac-49c7-b6ae-14e820c51596</td><td>hive_metastore.default.employees</td><td>null</td><td>dbfs:/user/hive/warehouse/employees</td><td>2024-10-12T04:52:39.544Z</td><td>2024-10-12T04:53:58Z</td><td>List()</td><td>List()</td><td>4</td><td>4281</td><td>Map()</td><td>1</td><td>2</td><td>List(appendOnly, invariants)</td><td>Map()</td></tr></tbody></table></div>"
      ]
     },
     "metadata": {
      "application/vnd.databricks.v1+output": {
       "addedWidgets": {},
       "aggData": [],
       "aggError": "",
       "aggOverflow": false,
       "aggSchema": [],
       "aggSeriesLimitReached": false,
       "aggType": "",
       "arguments": {},
       "columnCustomDisplayInfos": {},
       "data": [
        [
         "delta",
         "f417c9dd-30ac-49c7-b6ae-14e820c51596",
         "hive_metastore.default.employees",
         null,
         "dbfs:/user/hive/warehouse/employees",
         "2024-10-12T04:52:39.544Z",
         "2024-10-12T04:53:58Z",
         [],
         [],
         4,
         4281,
         {},
         1,
         2,
         [
          "appendOnly",
          "invariants"
         ],
         {}
        ]
       ],
       "datasetInfos": [],
       "dbfsResultPath": null,
       "isJsonSchema": true,
       "metadata": {
        "dataframeName": "_sqldf",
        "executionCount": 10
       },
       "overflow": false,
       "plotOptions": {
        "customPlotOptions": {},
        "displayType": "table",
        "pivotAggregation": null,
        "pivotColumns": null,
        "xColumns": null,
        "yColumns": null
       },
       "removedWidgets": [],
       "schema": [
        {
         "metadata": "{}",
         "name": "format",
         "type": "\"string\""
        },
        {
         "metadata": "{}",
         "name": "id",
         "type": "\"string\""
        },
        {
         "metadata": "{}",
         "name": "name",
         "type": "\"string\""
        },
        {
         "metadata": "{}",
         "name": "description",
         "type": "\"string\""
        },
        {
         "metadata": "{}",
         "name": "location",
         "type": "\"string\""
        },
        {
         "metadata": "{}",
         "name": "createdAt",
         "type": "\"timestamp\""
        },
        {
         "metadata": "{}",
         "name": "lastModified",
         "type": "\"timestamp\""
        },
        {
         "metadata": "{}",
         "name": "partitionColumns",
         "type": "{\"type\":\"array\",\"elementType\":\"string\",\"containsNull\":true}"
        },
        {
         "metadata": "{}",
         "name": "clusteringColumns",
         "type": "{\"type\":\"array\",\"elementType\":\"string\",\"containsNull\":true}"
        },
        {
         "metadata": "{}",
         "name": "numFiles",
         "type": "\"long\""
        },
        {
         "metadata": "{}",
         "name": "sizeInBytes",
         "type": "\"long\""
        },
        {
         "metadata": "{}",
         "name": "properties",
         "type": "{\"type\":\"map\",\"keyType\":\"string\",\"valueType\":\"string\",\"valueContainsNull\":true}"
        },
        {
         "metadata": "{}",
         "name": "minReaderVersion",
         "type": "\"integer\""
        },
        {
         "metadata": "{}",
         "name": "minWriterVersion",
         "type": "\"integer\""
        },
        {
         "metadata": "{}",
         "name": "tableFeatures",
         "type": "{\"type\":\"array\",\"elementType\":\"string\",\"containsNull\":true}"
        },
        {
         "metadata": "{}",
         "name": "statistics",
         "type": "{\"type\":\"map\",\"keyType\":\"string\",\"valueType\":\"long\",\"valueContainsNull\":true}"
        }
       ],
       "type": "table"
      }
     },
     "output_type": "display_data"
    }
   ],
   "source": [
    "%sql\n",
    "DESCRIBE DETAIL employees"
   ]
  },
  {
   "cell_type": "markdown",
   "metadata": {
    "application/vnd.databricks.v1+cell": {
     "cellMetadata": {},
     "inputWidgets": {},
     "nuid": "36a0b000-3d49-4a7f-9098-c7546bdedf04",
     "showTitle": false,
     "title": ""
    }
   },
   "source": [
    "As you can see, there are many important information regarding our table here.\n",
    "\n",
    "For example, we can see the location of the table.\n",
    "It is the location where the table files are really stored.\n",
    "\n",
    "In addition, we have also the number of file field, \n",
    "which indicates the number of data files in the current table version.\n",
    "\n"
   ]
  },
  {
   "cell_type": "markdown",
   "metadata": {
    "application/vnd.databricks.v1+cell": {
     "cellMetadata": {},
     "inputWidgets": {},
     "nuid": "c67fcca9-25d6-4621-89b3-549c1ba05a7f",
     "showTitle": false,
     "title": ""
    }
   },
   "source": [
    "#### Exploring Table Directory\n",
    "\n",
    "Let us copy the table location and explore the files using the `%fs` Magic Command.\n",
    "\n"
   ]
  },
  {
   "cell_type": "code",
   "execution_count": 0,
   "metadata": {
    "application/vnd.databricks.v1+cell": {
     "cellMetadata": {
      "byteLimit": 2048000,
      "rowLimit": 10000
     },
     "inputWidgets": {},
     "nuid": "37b843c9-1cbe-427e-b766-37f12533f1b2",
     "showTitle": false,
     "title": ""
    },
    "vscode": {
     "languageId": "sql"
    }
   },
   "outputs": [
    {
     "data": {
      "text/html": [
       "<style scoped>\n",
       "  .table-result-container {\n",
       "    max-height: 300px;\n",
       "    overflow: auto;\n",
       "  }\n",
       "  table, th, td {\n",
       "    border: 1px solid black;\n",
       "    border-collapse: collapse;\n",
       "  }\n",
       "  th, td {\n",
       "    padding: 5px;\n",
       "  }\n",
       "  th {\n",
       "    text-align: left;\n",
       "  }\n",
       "</style><div class='table-result-container'><table class='table-result'><thead style='background-color: white'><tr><th>path</th><th>name</th><th>size</th><th>modificationTime</th></tr></thead><tbody><tr><td>dbfs:/user/hive/warehouse/employees/_delta_log/</td><td>_delta_log/</td><td>0</td><td>1728708759000</td></tr><tr><td>dbfs:/user/hive/warehouse/employees/part-00000-1ce54e7c-9ef3-4343-b8ed-7787e775fe0b-c000.snappy.parquet</td><td>part-00000-1ce54e7c-9ef3-4343-b8ed-7787e775fe0b-c000.snappy.parquet</td><td>1076</td><td>1728708835000</td></tr><tr><td>dbfs:/user/hive/warehouse/employees/part-00000-5bb80f0a-fe61-493a-892c-7c5f4945e249-c000.snappy.parquet</td><td>part-00000-5bb80f0a-fe61-493a-892c-7c5f4945e249-c000.snappy.parquet</td><td>1080</td><td>1728708836000</td></tr><tr><td>dbfs:/user/hive/warehouse/employees/part-00000-65976bba-d807-4f83-9b35-bfa88b852228-c000.snappy.parquet</td><td>part-00000-65976bba-d807-4f83-9b35-bfa88b852228-c000.snappy.parquet</td><td>1066</td><td>1728708837000</td></tr><tr><td>dbfs:/user/hive/warehouse/employees/part-00000-b0d96a56-9d8f-4eba-93a0-481be949baac-c000.snappy.parquet</td><td>part-00000-b0d96a56-9d8f-4eba-93a0-481be949baac-c000.snappy.parquet</td><td>1059</td><td>1728708838000</td></tr></tbody></table></div>"
      ]
     },
     "metadata": {
      "application/vnd.databricks.v1+output": {
       "addedWidgets": {},
       "aggData": [],
       "aggError": "",
       "aggOverflow": false,
       "aggSchema": [],
       "aggSeriesLimitReached": false,
       "aggType": "",
       "arguments": {},
       "columnCustomDisplayInfos": {},
       "data": [
        [
         "dbfs:/user/hive/warehouse/employees/_delta_log/",
         "_delta_log/",
         0,
         1728708759000
        ],
        [
         "dbfs:/user/hive/warehouse/employees/part-00000-1ce54e7c-9ef3-4343-b8ed-7787e775fe0b-c000.snappy.parquet",
         "part-00000-1ce54e7c-9ef3-4343-b8ed-7787e775fe0b-c000.snappy.parquet",
         1076,
         1728708835000
        ],
        [
         "dbfs:/user/hive/warehouse/employees/part-00000-5bb80f0a-fe61-493a-892c-7c5f4945e249-c000.snappy.parquet",
         "part-00000-5bb80f0a-fe61-493a-892c-7c5f4945e249-c000.snappy.parquet",
         1080,
         1728708836000
        ],
        [
         "dbfs:/user/hive/warehouse/employees/part-00000-65976bba-d807-4f83-9b35-bfa88b852228-c000.snappy.parquet",
         "part-00000-65976bba-d807-4f83-9b35-bfa88b852228-c000.snappy.parquet",
         1066,
         1728708837000
        ],
        [
         "dbfs:/user/hive/warehouse/employees/part-00000-b0d96a56-9d8f-4eba-93a0-481be949baac-c000.snappy.parquet",
         "part-00000-b0d96a56-9d8f-4eba-93a0-481be949baac-c000.snappy.parquet",
         1059,
         1728708838000
        ]
       ],
       "datasetInfos": [],
       "dbfsResultPath": null,
       "isJsonSchema": true,
       "metadata": {
        "isDbfsCommandResult": false
       },
       "overflow": false,
       "plotOptions": {
        "customPlotOptions": {},
        "displayType": "table",
        "pivotAggregation": null,
        "pivotColumns": null,
        "xColumns": null,
        "yColumns": null
       },
       "removedWidgets": [],
       "schema": [
        {
         "metadata": "{}",
         "name": "path",
         "type": "\"string\""
        },
        {
         "metadata": "{}",
         "name": "name",
         "type": "\"string\""
        },
        {
         "metadata": "{}",
         "name": "size",
         "type": "\"long\""
        },
        {
         "metadata": "{}",
         "name": "modificationTime",
         "type": "\"long\""
        }
       ],
       "type": "table"
      }
     },
     "output_type": "display_data"
    }
   ],
   "source": [
    "%fs ls 'dbfs:/user/hive/warehouse/employees'"
   ]
  },
  {
   "cell_type": "markdown",
   "metadata": {
    "application/vnd.databricks.v1+cell": {
     "cellMetadata": {},
     "inputWidgets": {},
     "nuid": "bb31b6cc-3c0e-44f1-b31d-e88634702aef",
     "showTitle": false,
     "title": ""
    }
   },
   "source": [
    "#### Updating Table\n",
    "\n",
    "Let us see the scenario of update operations.\n",
    "\n",
    "In this scenario, we need to update the salary of all employees having a name starts with the letter A by adding 100 to their salary."
   ]
  },
  {
   "cell_type": "code",
   "execution_count": 0,
   "metadata": {
    "application/vnd.databricks.v1+cell": {
     "cellMetadata": {
      "byteLimit": 2048000,
      "implicitDf": true,
      "rowLimit": 10000
     },
     "inputWidgets": {},
     "nuid": "7a75b3cc-b209-4407-aae2-beb168823e6d",
     "showTitle": false,
     "title": ""
    },
    "vscode": {
     "languageId": "sql"
    }
   },
   "outputs": [
    {
     "data": {
      "text/html": [
       "<style scoped>\n",
       "  .table-result-container {\n",
       "    max-height: 300px;\n",
       "    overflow: auto;\n",
       "  }\n",
       "  table, th, td {\n",
       "    border: 1px solid black;\n",
       "    border-collapse: collapse;\n",
       "  }\n",
       "  th, td {\n",
       "    padding: 5px;\n",
       "  }\n",
       "  th {\n",
       "    text-align: left;\n",
       "  }\n",
       "</style><div class='table-result-container'><table class='table-result'><thead style='background-color: white'><tr><th>num_affected_rows</th></tr></thead><tbody><tr><td>2</td></tr></tbody></table></div>"
      ]
     },
     "metadata": {
      "application/vnd.databricks.v1+output": {
       "addedWidgets": {},
       "aggData": [],
       "aggError": "",
       "aggOverflow": false,
       "aggSchema": [],
       "aggSeriesLimitReached": false,
       "aggType": "",
       "arguments": {},
       "columnCustomDisplayInfos": {},
       "data": [
        [
         2
        ]
       ],
       "datasetInfos": [],
       "dbfsResultPath": null,
       "isJsonSchema": true,
       "metadata": {
        "dataframeName": "_sqldf",
        "executionCount": 11
       },
       "overflow": false,
       "plotOptions": {
        "customPlotOptions": {},
        "displayType": "table",
        "pivotAggregation": null,
        "pivotColumns": null,
        "xColumns": null,
        "yColumns": null
       },
       "removedWidgets": [],
       "schema": [
        {
         "metadata": "{}",
         "name": "num_affected_rows",
         "type": "\"long\""
        }
       ],
       "type": "table"
      }
     },
     "output_type": "display_data"
    }
   ],
   "source": [
    "%sql\n",
    "UPDATE employees \n",
    "SET salary = salary + 100\n",
    "WHERE name LIKE \"A%\""
   ]
  },
  {
   "cell_type": "markdown",
   "metadata": {
    "application/vnd.databricks.v1+cell": {
     "cellMetadata": {},
     "inputWidgets": {},
     "nuid": "7dbdf407-1daa-49d6-aca0-097ba9554873",
     "showTitle": false,
     "title": ""
    }
   },
   "source": [
    "Here we can see that there are two records affected by the update operation.\n",
    "\n",
    "Let us query the table again to see the updated data.\n"
   ]
  },
  {
   "cell_type": "code",
   "execution_count": 0,
   "metadata": {
    "application/vnd.databricks.v1+cell": {
     "cellMetadata": {
      "byteLimit": 2048000,
      "implicitDf": true,
      "rowLimit": 10000
     },
     "inputWidgets": {},
     "nuid": "17c09021-9329-425f-86d5-7334c4e85e31",
     "showTitle": false,
     "title": ""
    },
    "vscode": {
     "languageId": "sql"
    }
   },
   "outputs": [
    {
     "data": {
      "text/html": [
       "<style scoped>\n",
       "  .table-result-container {\n",
       "    max-height: 300px;\n",
       "    overflow: auto;\n",
       "  }\n",
       "  table, th, td {\n",
       "    border: 1px solid black;\n",
       "    border-collapse: collapse;\n",
       "  }\n",
       "  th, td {\n",
       "    padding: 5px;\n",
       "  }\n",
       "  th {\n",
       "    text-align: left;\n",
       "  }\n",
       "</style><div class='table-result-container'><table class='table-result'><thead style='background-color: white'><tr><th>id</th><th>name</th><th>salary</th></tr></thead><tbody><tr><td>3</td><td>John</td><td>2999.3</td></tr><tr><td>4</td><td>Thomas</td><td>4000.3</td></tr><tr><td>1</td><td>Adam</td><td>3600.0</td></tr><tr><td>2</td><td>Sarah</td><td>4020.5</td></tr><tr><td>5</td><td>Anna</td><td>2600.0</td></tr><tr><td>6</td><td>Kim</td><td>6200.3</td></tr></tbody></table></div>"
      ]
     },
     "metadata": {
      "application/vnd.databricks.v1+output": {
       "addedWidgets": {},
       "aggData": [],
       "aggError": "",
       "aggOverflow": false,
       "aggSchema": [],
       "aggSeriesLimitReached": false,
       "aggType": "",
       "arguments": {},
       "columnCustomDisplayInfos": {},
       "data": [
        [
         3,
         "John",
         2999.3
        ],
        [
         4,
         "Thomas",
         4000.3
        ],
        [
         1,
         "Adam",
         3600
        ],
        [
         2,
         "Sarah",
         4020.5
        ],
        [
         5,
         "Anna",
         2600
        ],
        [
         6,
         "Kim",
         6200.3
        ]
       ],
       "datasetInfos": [],
       "dbfsResultPath": null,
       "isJsonSchema": true,
       "metadata": {
        "dataframeName": "_sqldf",
        "executionCount": 12
       },
       "overflow": false,
       "plotOptions": {
        "customPlotOptions": {},
        "displayType": "table",
        "pivotAggregation": null,
        "pivotColumns": null,
        "xColumns": null,
        "yColumns": null
       },
       "removedWidgets": [],
       "schema": [
        {
         "metadata": "{}",
         "name": "id",
         "type": "\"integer\""
        },
        {
         "metadata": "{}",
         "name": "name",
         "type": "\"string\""
        },
        {
         "metadata": "{}",
         "name": "salary",
         "type": "\"double\""
        }
       ],
       "type": "table"
      }
     },
     "output_type": "display_data"
    }
   ],
   "source": [
    "%sql\n",
    "SELECT * FROM employees"
   ]
  },
  {
   "cell_type": "markdown",
   "metadata": {
    "application/vnd.databricks.v1+cell": {
     "cellMetadata": {},
     "inputWidgets": {},
     "nuid": "cdbe88d4-b235-4d43-970c-e2bc2313bcd9",
     "showTitle": false,
     "title": ""
    }
   },
   "source": [
    "Let us now see what happened in the table directory."
   ]
  },
  {
   "cell_type": "code",
   "execution_count": 0,
   "metadata": {
    "application/vnd.databricks.v1+cell": {
     "cellMetadata": {
      "byteLimit": 2048000,
      "rowLimit": 10000
     },
     "inputWidgets": {},
     "nuid": "1dce4bb6-960e-49d0-ad60-3a9120350a0b",
     "showTitle": false,
     "title": ""
    },
    "vscode": {
     "languageId": "sql"
    }
   },
   "outputs": [
    {
     "data": {
      "text/html": [
       "<style scoped>\n",
       "  .table-result-container {\n",
       "    max-height: 300px;\n",
       "    overflow: auto;\n",
       "  }\n",
       "  table, th, td {\n",
       "    border: 1px solid black;\n",
       "    border-collapse: collapse;\n",
       "  }\n",
       "  th, td {\n",
       "    padding: 5px;\n",
       "  }\n",
       "  th {\n",
       "    text-align: left;\n",
       "  }\n",
       "</style><div class='table-result-container'><table class='table-result'><thead style='background-color: white'><tr><th>path</th><th>name</th><th>size</th><th>modificationTime</th></tr></thead><tbody><tr><td>dbfs:/user/hive/warehouse/employees/_delta_log/</td><td>_delta_log/</td><td>0</td><td>1728708759000</td></tr><tr><td>dbfs:/user/hive/warehouse/employees/part-00000-1ce54e7c-9ef3-4343-b8ed-7787e775fe0b-c000.snappy.parquet</td><td>part-00000-1ce54e7c-9ef3-4343-b8ed-7787e775fe0b-c000.snappy.parquet</td><td>1076</td><td>1728708835000</td></tr><tr><td>dbfs:/user/hive/warehouse/employees/part-00000-5bb80f0a-fe61-493a-892c-7c5f4945e249-c000.snappy.parquet</td><td>part-00000-5bb80f0a-fe61-493a-892c-7c5f4945e249-c000.snappy.parquet</td><td>1080</td><td>1728708836000</td></tr><tr><td>dbfs:/user/hive/warehouse/employees/part-00000-65976bba-d807-4f83-9b35-bfa88b852228-c000.snappy.parquet</td><td>part-00000-65976bba-d807-4f83-9b35-bfa88b852228-c000.snappy.parquet</td><td>1066</td><td>1728708837000</td></tr><tr><td>dbfs:/user/hive/warehouse/employees/part-00000-7fec7995-32fc-4591-b2ce-c38399443529-c000.snappy.parquet</td><td>part-00000-7fec7995-32fc-4591-b2ce-c38399443529-c000.snappy.parquet</td><td>1076</td><td>1728708900000</td></tr><tr><td>dbfs:/user/hive/warehouse/employees/part-00000-b0d96a56-9d8f-4eba-93a0-481be949baac-c000.snappy.parquet</td><td>part-00000-b0d96a56-9d8f-4eba-93a0-481be949baac-c000.snappy.parquet</td><td>1059</td><td>1728708838000</td></tr><tr><td>dbfs:/user/hive/warehouse/employees/part-00001-f3a4dc82-ba54-4812-ab87-dfca50f7ba8f-c000.snappy.parquet</td><td>part-00001-f3a4dc82-ba54-4812-ab87-dfca50f7ba8f-c000.snappy.parquet</td><td>1066</td><td>1728708900000</td></tr></tbody></table></div>"
      ]
     },
     "metadata": {
      "application/vnd.databricks.v1+output": {
       "addedWidgets": {},
       "aggData": [],
       "aggError": "",
       "aggOverflow": false,
       "aggSchema": [],
       "aggSeriesLimitReached": false,
       "aggType": "",
       "arguments": {},
       "columnCustomDisplayInfos": {},
       "data": [
        [
         "dbfs:/user/hive/warehouse/employees/_delta_log/",
         "_delta_log/",
         0,
         1728708759000
        ],
        [
         "dbfs:/user/hive/warehouse/employees/part-00000-1ce54e7c-9ef3-4343-b8ed-7787e775fe0b-c000.snappy.parquet",
         "part-00000-1ce54e7c-9ef3-4343-b8ed-7787e775fe0b-c000.snappy.parquet",
         1076,
         1728708835000
        ],
        [
         "dbfs:/user/hive/warehouse/employees/part-00000-5bb80f0a-fe61-493a-892c-7c5f4945e249-c000.snappy.parquet",
         "part-00000-5bb80f0a-fe61-493a-892c-7c5f4945e249-c000.snappy.parquet",
         1080,
         1728708836000
        ],
        [
         "dbfs:/user/hive/warehouse/employees/part-00000-65976bba-d807-4f83-9b35-bfa88b852228-c000.snappy.parquet",
         "part-00000-65976bba-d807-4f83-9b35-bfa88b852228-c000.snappy.parquet",
         1066,
         1728708837000
        ],
        [
         "dbfs:/user/hive/warehouse/employees/part-00000-7fec7995-32fc-4591-b2ce-c38399443529-c000.snappy.parquet",
         "part-00000-7fec7995-32fc-4591-b2ce-c38399443529-c000.snappy.parquet",
         1076,
         1728708900000
        ],
        [
         "dbfs:/user/hive/warehouse/employees/part-00000-b0d96a56-9d8f-4eba-93a0-481be949baac-c000.snappy.parquet",
         "part-00000-b0d96a56-9d8f-4eba-93a0-481be949baac-c000.snappy.parquet",
         1059,
         1728708838000
        ],
        [
         "dbfs:/user/hive/warehouse/employees/part-00001-f3a4dc82-ba54-4812-ab87-dfca50f7ba8f-c000.snappy.parquet",
         "part-00001-f3a4dc82-ba54-4812-ab87-dfca50f7ba8f-c000.snappy.parquet",
         1066,
         1728708900000
        ]
       ],
       "datasetInfos": [],
       "dbfsResultPath": null,
       "isJsonSchema": true,
       "metadata": {
        "isDbfsCommandResult": false
       },
       "overflow": false,
       "plotOptions": {
        "customPlotOptions": {},
        "displayType": "table",
        "pivotAggregation": null,
        "pivotColumns": null,
        "xColumns": null,
        "yColumns": null
       },
       "removedWidgets": [],
       "schema": [
        {
         "metadata": "{}",
         "name": "path",
         "type": "\"string\""
        },
        {
         "metadata": "{}",
         "name": "name",
         "type": "\"string\""
        },
        {
         "metadata": "{}",
         "name": "size",
         "type": "\"long\""
        },
        {
         "metadata": "{}",
         "name": "modificationTime",
         "type": "\"long\""
        }
       ],
       "type": "table"
      }
     },
     "output_type": "display_data"
    }
   ],
   "source": [
    "%fs ls 'dbfs:/user/hive/warehouse/employees'"
   ]
  },
  {
   "cell_type": "markdown",
   "metadata": {
    "application/vnd.databricks.v1+cell": {
     "cellMetadata": {},
     "inputWidgets": {},
     "nuid": "34ffc99d-8b55-44ce-98f5-1c5ab9b373fa",
     "showTitle": false,
     "title": ""
    }
   },
   "source": [
    "We can see that there are two files have been added to the directory.\n",
    "\n",
    "As we said, rather than updating the records in the files themself, we make a copy of them.\n",
    "\n",
    "And later, Delta uses the transaction log to indicate which files are valid in the current version of the table.\n",
    "\n"
   ]
  },
  {
   "cell_type": "markdown",
   "metadata": {
    "application/vnd.databricks.v1+cell": {
     "cellMetadata": {},
     "inputWidgets": {},
     "nuid": "1aa938c6-5ad7-42c8-b736-a729718afa11",
     "showTitle": false,
     "title": ""
    }
   },
   "source": [
    "Let us confirm this by running the DESCRIBE DETAIL command.\n",
    "\n"
   ]
  },
  {
   "cell_type": "code",
   "execution_count": 0,
   "metadata": {
    "application/vnd.databricks.v1+cell": {
     "cellMetadata": {
      "byteLimit": 2048000,
      "implicitDf": true,
      "rowLimit": 10000
     },
     "inputWidgets": {},
     "nuid": "57ea4526-03e4-478c-b46c-67f0d1e36590",
     "showTitle": false,
     "title": ""
    },
    "vscode": {
     "languageId": "sql"
    }
   },
   "outputs": [
    {
     "data": {
      "text/html": [
       "<style scoped>\n",
       "  .table-result-container {\n",
       "    max-height: 300px;\n",
       "    overflow: auto;\n",
       "  }\n",
       "  table, th, td {\n",
       "    border: 1px solid black;\n",
       "    border-collapse: collapse;\n",
       "  }\n",
       "  th, td {\n",
       "    padding: 5px;\n",
       "  }\n",
       "  th {\n",
       "    text-align: left;\n",
       "  }\n",
       "</style><div class='table-result-container'><table class='table-result'><thead style='background-color: white'><tr><th>format</th><th>id</th><th>name</th><th>description</th><th>location</th><th>createdAt</th><th>lastModified</th><th>partitionColumns</th><th>clusteringColumns</th><th>numFiles</th><th>sizeInBytes</th><th>properties</th><th>minReaderVersion</th><th>minWriterVersion</th><th>tableFeatures</th><th>statistics</th></tr></thead><tbody><tr><td>delta</td><td>f417c9dd-30ac-49c7-b6ae-14e820c51596</td><td>hive_metastore.default.employees</td><td>null</td><td>dbfs:/user/hive/warehouse/employees</td><td>2024-10-12T04:52:39.544Z</td><td>2024-10-12T04:55:00Z</td><td>List()</td><td>List()</td><td>4</td><td>4281</td><td>Map()</td><td>1</td><td>2</td><td>List(appendOnly, invariants)</td><td>Map()</td></tr></tbody></table></div>"
      ]
     },
     "metadata": {
      "application/vnd.databricks.v1+output": {
       "addedWidgets": {},
       "aggData": [],
       "aggError": "",
       "aggOverflow": false,
       "aggSchema": [],
       "aggSeriesLimitReached": false,
       "aggType": "",
       "arguments": {},
       "columnCustomDisplayInfos": {},
       "data": [
        [
         "delta",
         "f417c9dd-30ac-49c7-b6ae-14e820c51596",
         "hive_metastore.default.employees",
         null,
         "dbfs:/user/hive/warehouse/employees",
         "2024-10-12T04:52:39.544Z",
         "2024-10-12T04:55:00Z",
         [],
         [],
         4,
         4281,
         {},
         1,
         2,
         [
          "appendOnly",
          "invariants"
         ],
         {}
        ]
       ],
       "datasetInfos": [],
       "dbfsResultPath": null,
       "isJsonSchema": true,
       "metadata": {
        "dataframeName": "_sqldf",
        "executionCount": 13
       },
       "overflow": false,
       "plotOptions": {
        "customPlotOptions": {},
        "displayType": "table",
        "pivotAggregation": null,
        "pivotColumns": null,
        "xColumns": null,
        "yColumns": null
       },
       "removedWidgets": [],
       "schema": [
        {
         "metadata": "{}",
         "name": "format",
         "type": "\"string\""
        },
        {
         "metadata": "{}",
         "name": "id",
         "type": "\"string\""
        },
        {
         "metadata": "{}",
         "name": "name",
         "type": "\"string\""
        },
        {
         "metadata": "{}",
         "name": "description",
         "type": "\"string\""
        },
        {
         "metadata": "{}",
         "name": "location",
         "type": "\"string\""
        },
        {
         "metadata": "{}",
         "name": "createdAt",
         "type": "\"timestamp\""
        },
        {
         "metadata": "{}",
         "name": "lastModified",
         "type": "\"timestamp\""
        },
        {
         "metadata": "{}",
         "name": "partitionColumns",
         "type": "{\"type\":\"array\",\"elementType\":\"string\",\"containsNull\":true}"
        },
        {
         "metadata": "{}",
         "name": "clusteringColumns",
         "type": "{\"type\":\"array\",\"elementType\":\"string\",\"containsNull\":true}"
        },
        {
         "metadata": "{}",
         "name": "numFiles",
         "type": "\"long\""
        },
        {
         "metadata": "{}",
         "name": "sizeInBytes",
         "type": "\"long\""
        },
        {
         "metadata": "{}",
         "name": "properties",
         "type": "{\"type\":\"map\",\"keyType\":\"string\",\"valueType\":\"string\",\"valueContainsNull\":true}"
        },
        {
         "metadata": "{}",
         "name": "minReaderVersion",
         "type": "\"integer\""
        },
        {
         "metadata": "{}",
         "name": "minWriterVersion",
         "type": "\"integer\""
        },
        {
         "metadata": "{}",
         "name": "tableFeatures",
         "type": "{\"type\":\"array\",\"elementType\":\"string\",\"containsNull\":true}"
        },
        {
         "metadata": "{}",
         "name": "statistics",
         "type": "{\"type\":\"map\",\"keyType\":\"string\",\"valueType\":\"long\",\"valueContainsNull\":true}"
        }
       ],
       "type": "table"
      }
     },
     "output_type": "display_data"
    }
   ],
   "source": [
    "%sql\n",
    "DESCRIBE DETAIL employees"
   ]
  },
  {
   "cell_type": "markdown",
   "metadata": {
    "application/vnd.databricks.v1+cell": {
     "cellMetadata": {},
     "inputWidgets": {},
     "nuid": "9eb86aea-cde3-46bb-bff1-83ac70c5b4fc",
     "showTitle": false,
     "title": ""
    }
   },
   "source": [
    "Here, as you can see, the number of files are four and not six, and they are the four files that represent the current version of the table.\n",
    "\n",
    "So it contains the new files updated after our update command.\n",
    "\n",
    "So if we query our delta table again, \n",
    "the query engine uses the transaction logs to \n",
    "  * resolve all the files that are valid in the current version and \n",
    "  * ignore all other data files.\n"
   ]
  },
  {
   "cell_type": "code",
   "execution_count": 0,
   "metadata": {
    "application/vnd.databricks.v1+cell": {
     "cellMetadata": {
      "byteLimit": 2048000,
      "implicitDf": true,
      "rowLimit": 10000
     },
     "inputWidgets": {},
     "nuid": "3b8d47ec-e289-4a04-89e8-975a71487386",
     "showTitle": false,
     "title": ""
    },
    "vscode": {
     "languageId": "sql"
    }
   },
   "outputs": [
    {
     "data": {
      "text/html": [
       "<style scoped>\n",
       "  .table-result-container {\n",
       "    max-height: 300px;\n",
       "    overflow: auto;\n",
       "  }\n",
       "  table, th, td {\n",
       "    border: 1px solid black;\n",
       "    border-collapse: collapse;\n",
       "  }\n",
       "  th, td {\n",
       "    padding: 5px;\n",
       "  }\n",
       "  th {\n",
       "    text-align: left;\n",
       "  }\n",
       "</style><div class='table-result-container'><table class='table-result'><thead style='background-color: white'><tr><th>id</th><th>name</th><th>salary</th></tr></thead><tbody><tr><td>3</td><td>John</td><td>2999.3</td></tr><tr><td>4</td><td>Thomas</td><td>4000.3</td></tr><tr><td>1</td><td>Adam</td><td>3600.0</td></tr><tr><td>2</td><td>Sarah</td><td>4020.5</td></tr><tr><td>5</td><td>Anna</td><td>2600.0</td></tr><tr><td>6</td><td>Kim</td><td>6200.3</td></tr></tbody></table></div>"
      ]
     },
     "metadata": {
      "application/vnd.databricks.v1+output": {
       "addedWidgets": {},
       "aggData": [],
       "aggError": "",
       "aggOverflow": false,
       "aggSchema": [],
       "aggSeriesLimitReached": false,
       "aggType": "",
       "arguments": {},
       "columnCustomDisplayInfos": {},
       "data": [
        [
         3,
         "John",
         2999.3
        ],
        [
         4,
         "Thomas",
         4000.3
        ],
        [
         1,
         "Adam",
         3600
        ],
        [
         2,
         "Sarah",
         4020.5
        ],
        [
         5,
         "Anna",
         2600
        ],
        [
         6,
         "Kim",
         6200.3
        ]
       ],
       "datasetInfos": [],
       "dbfsResultPath": null,
       "isJsonSchema": true,
       "metadata": {
        "dataframeName": "_sqldf",
        "executionCount": 14
       },
       "overflow": false,
       "plotOptions": {
        "customPlotOptions": {},
        "displayType": "table",
        "pivotAggregation": null,
        "pivotColumns": null,
        "xColumns": null,
        "yColumns": null
       },
       "removedWidgets": [],
       "schema": [
        {
         "metadata": "{}",
         "name": "id",
         "type": "\"integer\""
        },
        {
         "metadata": "{}",
         "name": "name",
         "type": "\"string\""
        },
        {
         "metadata": "{}",
         "name": "salary",
         "type": "\"double\""
        }
       ],
       "type": "table"
      }
     },
     "output_type": "display_data"
    }
   ],
   "source": [
    "%sql\n",
    "SELECT * FROM employees"
   ]
  },
  {
   "cell_type": "markdown",
   "metadata": {
    "application/vnd.databricks.v1+cell": {
     "cellMetadata": {},
     "inputWidgets": {},
     "nuid": "9d63459f-54ba-40da-9871-1c516c76d78d",
     "showTitle": false,
     "title": ""
    }
   },
   "source": [
    "#### Exploring Table History\n",
    "\n",
    "And since the transaction log also stores all the changes to the Delta Lake table, we can easily review the table history using the DESCRIBE HISTORY command.\n",
    "\n"
   ]
  },
  {
   "cell_type": "code",
   "execution_count": 0,
   "metadata": {
    "application/vnd.databricks.v1+cell": {
     "cellMetadata": {
      "byteLimit": 2048000,
      "implicitDf": true,
      "rowLimit": 10000
     },
     "inputWidgets": {},
     "nuid": "dc51a528-1bb9-479f-89dc-8381c8b41a80",
     "showTitle": false,
     "title": ""
    },
    "vscode": {
     "languageId": "sql"
    }
   },
   "outputs": [
    {
     "data": {
      "text/html": [
       "<style scoped>\n",
       "  .table-result-container {\n",
       "    max-height: 300px;\n",
       "    overflow: auto;\n",
       "  }\n",
       "  table, th, td {\n",
       "    border: 1px solid black;\n",
       "    border-collapse: collapse;\n",
       "  }\n",
       "  th, td {\n",
       "    padding: 5px;\n",
       "  }\n",
       "  th {\n",
       "    text-align: left;\n",
       "  }\n",
       "</style><div class='table-result-container'><table class='table-result'><thead style='background-color: white'><tr><th>version</th><th>timestamp</th><th>userId</th><th>userName</th><th>operation</th><th>operationParameters</th><th>job</th><th>notebook</th><th>clusterId</th><th>readVersion</th><th>isolationLevel</th><th>isBlindAppend</th><th>operationMetrics</th><th>userMetadata</th><th>engineInfo</th></tr></thead><tbody><tr><td>5</td><td>2024-10-12T04:55:00Z</td><td>2895352578531874</td><td>suryapulika38@gmail.com</td><td>UPDATE</td><td>Map(predicate -> [\"StartsWith(name#10523, A)\"])</td><td>null</td><td>List(4341422527294408)</td><td>1011-150700-u18wk0fi</td><td>4</td><td>WriteSerializable</td><td>false</td><td>Map(numRemovedFiles -> 2, numRemovedBytes -> 2142, numCopiedRows -> 1, numDeletionVectorsAdded -> 0, numDeletionVectorsRemoved -> 0, numAddedChangeFiles -> 0, executionTimeMs -> 1375, scanTimeMs -> 899, numAddedFiles -> 2, numUpdatedRows -> 2, numAddedBytes -> 2142, rewriteTimeMs -> 466)</td><td>null</td><td>Databricks-Runtime/13.3.x-scala2.12</td></tr><tr><td>4</td><td>2024-10-12T04:53:58Z</td><td>2895352578531874</td><td>suryapulika38@gmail.com</td><td>WRITE</td><td>Map(mode -> Append, statsOnLoad -> false, partitionBy -> [])</td><td>null</td><td>List(4341422527294408)</td><td>1011-150700-u18wk0fi</td><td>3</td><td>WriteSerializable</td><td>true</td><td>Map(numFiles -> 1, numOutputRows -> 1, numOutputBytes -> 1059)</td><td>null</td><td>Databricks-Runtime/13.3.x-scala2.12</td></tr><tr><td>3</td><td>2024-10-12T04:53:57Z</td><td>2895352578531874</td><td>suryapulika38@gmail.com</td><td>WRITE</td><td>Map(mode -> Append, statsOnLoad -> false, partitionBy -> [])</td><td>null</td><td>List(4341422527294408)</td><td>1011-150700-u18wk0fi</td><td>2</td><td>WriteSerializable</td><td>true</td><td>Map(numFiles -> 1, numOutputRows -> 1, numOutputBytes -> 1066)</td><td>null</td><td>Databricks-Runtime/13.3.x-scala2.12</td></tr><tr><td>2</td><td>2024-10-12T04:53:56Z</td><td>2895352578531874</td><td>suryapulika38@gmail.com</td><td>WRITE</td><td>Map(mode -> Append, statsOnLoad -> false, partitionBy -> [])</td><td>null</td><td>List(4341422527294408)</td><td>1011-150700-u18wk0fi</td><td>1</td><td>WriteSerializable</td><td>true</td><td>Map(numFiles -> 1, numOutputRows -> 2, numOutputBytes -> 1080)</td><td>null</td><td>Databricks-Runtime/13.3.x-scala2.12</td></tr><tr><td>1</td><td>2024-10-12T04:53:55Z</td><td>2895352578531874</td><td>suryapulika38@gmail.com</td><td>WRITE</td><td>Map(mode -> Append, statsOnLoad -> false, partitionBy -> [])</td><td>null</td><td>List(4341422527294408)</td><td>1011-150700-u18wk0fi</td><td>0</td><td>WriteSerializable</td><td>true</td><td>Map(numFiles -> 1, numOutputRows -> 2, numOutputBytes -> 1076)</td><td>null</td><td>Databricks-Runtime/13.3.x-scala2.12</td></tr><tr><td>0</td><td>2024-10-12T04:52:39Z</td><td>2895352578531874</td><td>suryapulika38@gmail.com</td><td>CREATE TABLE</td><td>Map(partitionBy -> [], description -> null, isManaged -> true, properties -> {}, statsOnLoad -> false)</td><td>null</td><td>List(4341422527294408)</td><td>1011-150700-u18wk0fi</td><td>null</td><td>WriteSerializable</td><td>true</td><td>Map()</td><td>null</td><td>Databricks-Runtime/13.3.x-scala2.12</td></tr></tbody></table></div>"
      ]
     },
     "metadata": {
      "application/vnd.databricks.v1+output": {
       "addedWidgets": {},
       "aggData": [],
       "aggError": "",
       "aggOverflow": false,
       "aggSchema": [],
       "aggSeriesLimitReached": false,
       "aggType": "",
       "arguments": {},
       "columnCustomDisplayInfos": {},
       "data": [
        [
         5,
         "2024-10-12T04:55:00Z",
         "2895352578531874",
         "suryapulika38@gmail.com",
         "UPDATE",
         {
          "predicate": "[\"StartsWith(name#10523, A)\"]"
         },
         null,
         [
          "4341422527294408"
         ],
         "1011-150700-u18wk0fi",
         4,
         "WriteSerializable",
         false,
         {
          "executionTimeMs": "1375",
          "numAddedBytes": "2142",
          "numAddedChangeFiles": "0",
          "numAddedFiles": "2",
          "numCopiedRows": "1",
          "numDeletionVectorsAdded": "0",
          "numDeletionVectorsRemoved": "0",
          "numRemovedBytes": "2142",
          "numRemovedFiles": "2",
          "numUpdatedRows": "2",
          "rewriteTimeMs": "466",
          "scanTimeMs": "899"
         },
         null,
         "Databricks-Runtime/13.3.x-scala2.12"
        ],
        [
         4,
         "2024-10-12T04:53:58Z",
         "2895352578531874",
         "suryapulika38@gmail.com",
         "WRITE",
         {
          "mode": "Append",
          "partitionBy": "[]",
          "statsOnLoad": "false"
         },
         null,
         [
          "4341422527294408"
         ],
         "1011-150700-u18wk0fi",
         3,
         "WriteSerializable",
         true,
         {
          "numFiles": "1",
          "numOutputBytes": "1059",
          "numOutputRows": "1"
         },
         null,
         "Databricks-Runtime/13.3.x-scala2.12"
        ],
        [
         3,
         "2024-10-12T04:53:57Z",
         "2895352578531874",
         "suryapulika38@gmail.com",
         "WRITE",
         {
          "mode": "Append",
          "partitionBy": "[]",
          "statsOnLoad": "false"
         },
         null,
         [
          "4341422527294408"
         ],
         "1011-150700-u18wk0fi",
         2,
         "WriteSerializable",
         true,
         {
          "numFiles": "1",
          "numOutputBytes": "1066",
          "numOutputRows": "1"
         },
         null,
         "Databricks-Runtime/13.3.x-scala2.12"
        ],
        [
         2,
         "2024-10-12T04:53:56Z",
         "2895352578531874",
         "suryapulika38@gmail.com",
         "WRITE",
         {
          "mode": "Append",
          "partitionBy": "[]",
          "statsOnLoad": "false"
         },
         null,
         [
          "4341422527294408"
         ],
         "1011-150700-u18wk0fi",
         1,
         "WriteSerializable",
         true,
         {
          "numFiles": "1",
          "numOutputBytes": "1080",
          "numOutputRows": "2"
         },
         null,
         "Databricks-Runtime/13.3.x-scala2.12"
        ],
        [
         1,
         "2024-10-12T04:53:55Z",
         "2895352578531874",
         "suryapulika38@gmail.com",
         "WRITE",
         {
          "mode": "Append",
          "partitionBy": "[]",
          "statsOnLoad": "false"
         },
         null,
         [
          "4341422527294408"
         ],
         "1011-150700-u18wk0fi",
         0,
         "WriteSerializable",
         true,
         {
          "numFiles": "1",
          "numOutputBytes": "1076",
          "numOutputRows": "2"
         },
         null,
         "Databricks-Runtime/13.3.x-scala2.12"
        ],
        [
         0,
         "2024-10-12T04:52:39Z",
         "2895352578531874",
         "suryapulika38@gmail.com",
         "CREATE TABLE",
         {
          "description": null,
          "isManaged": "true",
          "partitionBy": "[]",
          "properties": "{}",
          "statsOnLoad": "false"
         },
         null,
         [
          "4341422527294408"
         ],
         "1011-150700-u18wk0fi",
         null,
         "WriteSerializable",
         true,
         {},
         null,
         "Databricks-Runtime/13.3.x-scala2.12"
        ]
       ],
       "datasetInfos": [],
       "dbfsResultPath": null,
       "isJsonSchema": true,
       "metadata": {
        "dataframeName": "_sqldf",
        "executionCount": 15
       },
       "overflow": false,
       "plotOptions": {
        "customPlotOptions": {},
        "displayType": "table",
        "pivotAggregation": null,
        "pivotColumns": null,
        "xColumns": null,
        "yColumns": null
       },
       "removedWidgets": [],
       "schema": [
        {
         "metadata": "{}",
         "name": "version",
         "type": "\"long\""
        },
        {
         "metadata": "{}",
         "name": "timestamp",
         "type": "\"timestamp\""
        },
        {
         "metadata": "{}",
         "name": "userId",
         "type": "\"string\""
        },
        {
         "metadata": "{}",
         "name": "userName",
         "type": "\"string\""
        },
        {
         "metadata": "{}",
         "name": "operation",
         "type": "\"string\""
        },
        {
         "metadata": "{}",
         "name": "operationParameters",
         "type": "{\"type\":\"map\",\"keyType\":\"string\",\"valueType\":\"string\",\"valueContainsNull\":true}"
        },
        {
         "metadata": "{}",
         "name": "job",
         "type": "{\"type\":\"struct\",\"fields\":[{\"name\":\"jobId\",\"type\":\"string\",\"nullable\":true,\"metadata\":{}},{\"name\":\"jobName\",\"type\":\"string\",\"nullable\":true,\"metadata\":{}},{\"name\":\"jobRunId\",\"type\":\"string\",\"nullable\":true,\"metadata\":{}},{\"name\":\"runId\",\"type\":\"string\",\"nullable\":true,\"metadata\":{}},{\"name\":\"jobOwnerId\",\"type\":\"string\",\"nullable\":true,\"metadata\":{}},{\"name\":\"triggerType\",\"type\":\"string\",\"nullable\":true,\"metadata\":{}}]}"
        },
        {
         "metadata": "{}",
         "name": "notebook",
         "type": "{\"type\":\"struct\",\"fields\":[{\"name\":\"notebookId\",\"type\":\"string\",\"nullable\":true,\"metadata\":{}}]}"
        },
        {
         "metadata": "{}",
         "name": "clusterId",
         "type": "\"string\""
        },
        {
         "metadata": "{}",
         "name": "readVersion",
         "type": "\"long\""
        },
        {
         "metadata": "{}",
         "name": "isolationLevel",
         "type": "\"string\""
        },
        {
         "metadata": "{}",
         "name": "isBlindAppend",
         "type": "\"boolean\""
        },
        {
         "metadata": "{}",
         "name": "operationMetrics",
         "type": "{\"type\":\"map\",\"keyType\":\"string\",\"valueType\":\"string\",\"valueContainsNull\":true}"
        },
        {
         "metadata": "{}",
         "name": "userMetadata",
         "type": "\"string\""
        },
        {
         "metadata": "{}",
         "name": "engineInfo",
         "type": "\"string\""
        }
       ],
       "type": "table"
      }
     },
     "output_type": "display_data"
    }
   ],
   "source": [
    "%sql\n",
    "DESCRIBE HISTORY employees"
   ]
  },
  {
   "cell_type": "markdown",
   "metadata": {
    "application/vnd.databricks.v1+cell": {
     "cellMetadata": {},
     "inputWidgets": {},
     "nuid": "df0d72ba-d806-464d-a34d-2dd1164db771",
     "showTitle": false,
     "title": ""
    }
   },
   "source": [
    "As you can see, there are three versions of the table starting from version zero where we created the table.\n",
    "\n",
    "The version number 1 represents our insert command.\n",
    "So it is a write operation.\n",
    "\n",
    "And finally, our update command.\n",
    "\n",
    "So as you can see, thanks to the transaction log, we have the full history of all operations that have happened on the table.\n",
    "\n"
   ]
  },
  {
   "cell_type": "markdown",
   "metadata": {
    "application/vnd.databricks.v1+cell": {
     "cellMetadata": {},
     "inputWidgets": {},
     "nuid": "231f07f2-cf1d-4837-b1d7-243958eb4cb1",
     "showTitle": false,
     "title": ""
    }
   },
   "source": [
    "The transaction log is located under the _delta_log folder in the table directory.\n",
    "\n",
    "Let us explore this folder.\n",
    "\n"
   ]
  },
  {
   "cell_type": "code",
   "execution_count": 0,
   "metadata": {
    "application/vnd.databricks.v1+cell": {
     "cellMetadata": {
      "byteLimit": 2048000,
      "rowLimit": 10000
     },
     "inputWidgets": {},
     "nuid": "f791a111-9f63-47c0-8536-f1cec5c50b0e",
     "showTitle": false,
     "title": ""
    },
    "vscode": {
     "languageId": "sql"
    }
   },
   "outputs": [
    {
     "data": {
      "text/html": [
       "<style scoped>\n",
       "  .table-result-container {\n",
       "    max-height: 300px;\n",
       "    overflow: auto;\n",
       "  }\n",
       "  table, th, td {\n",
       "    border: 1px solid black;\n",
       "    border-collapse: collapse;\n",
       "  }\n",
       "  th, td {\n",
       "    padding: 5px;\n",
       "  }\n",
       "  th {\n",
       "    text-align: left;\n",
       "  }\n",
       "</style><div class='table-result-container'><table class='table-result'><thead style='background-color: white'><tr><th>path</th><th>name</th><th>size</th><th>modificationTime</th></tr></thead><tbody><tr><td>dbfs:/user/hive/warehouse/employees/_delta_log/00000000000000000000.crc</td><td>00000000000000000000.crc</td><td>2048</td><td>1728708761000</td></tr><tr><td>dbfs:/user/hive/warehouse/employees/_delta_log/00000000000000000000.json</td><td>00000000000000000000.json</td><td>1056</td><td>1728708759000</td></tr><tr><td>dbfs:/user/hive/warehouse/employees/_delta_log/00000000000000000001.crc</td><td>00000000000000000001.crc</td><td>2578</td><td>1728708836000</td></tr><tr><td>dbfs:/user/hive/warehouse/employees/_delta_log/00000000000000000001.json</td><td>00000000000000000001.json</td><td>1110</td><td>1728708835000</td></tr><tr><td>dbfs:/user/hive/warehouse/employees/_delta_log/00000000000000000002.crc</td><td>00000000000000000002.crc</td><td>3104</td><td>1728708837000</td></tr><tr><td>dbfs:/user/hive/warehouse/employees/_delta_log/00000000000000000002.json</td><td>00000000000000000002.json</td><td>1111</td><td>1728708836000</td></tr><tr><td>dbfs:/user/hive/warehouse/employees/_delta_log/00000000000000000003.crc</td><td>00000000000000000003.crc</td><td>3628</td><td>1728708838000</td></tr><tr><td>dbfs:/user/hive/warehouse/employees/_delta_log/00000000000000000003.json</td><td>00000000000000000003.json</td><td>1109</td><td>1728708837000</td></tr><tr><td>dbfs:/user/hive/warehouse/employees/_delta_log/00000000000000000004.crc</td><td>00000000000000000004.crc</td><td>4150</td><td>1728708839000</td></tr><tr><td>dbfs:/user/hive/warehouse/employees/_delta_log/00000000000000000004.json</td><td>00000000000000000004.json</td><td>1107</td><td>1728708838000</td></tr><tr><td>dbfs:/user/hive/warehouse/employees/_delta_log/00000000000000000005.crc</td><td>00000000000000000005.crc</td><td>4150</td><td>1728708901000</td></tr><tr><td>dbfs:/user/hive/warehouse/employees/_delta_log/00000000000000000005.json</td><td>00000000000000000005.json</td><td>2647</td><td>1728708900000</td></tr><tr><td>dbfs:/user/hive/warehouse/employees/_delta_log/__tmp_path_dir/</td><td>__tmp_path_dir/</td><td>0</td><td>1728708759000</td></tr></tbody></table></div>"
      ]
     },
     "metadata": {
      "application/vnd.databricks.v1+output": {
       "addedWidgets": {},
       "aggData": [],
       "aggError": "",
       "aggOverflow": false,
       "aggSchema": [],
       "aggSeriesLimitReached": false,
       "aggType": "",
       "arguments": {},
       "columnCustomDisplayInfos": {},
       "data": [
        [
         "dbfs:/user/hive/warehouse/employees/_delta_log/00000000000000000000.crc",
         "00000000000000000000.crc",
         2048,
         1728708761000
        ],
        [
         "dbfs:/user/hive/warehouse/employees/_delta_log/00000000000000000000.json",
         "00000000000000000000.json",
         1056,
         1728708759000
        ],
        [
         "dbfs:/user/hive/warehouse/employees/_delta_log/00000000000000000001.crc",
         "00000000000000000001.crc",
         2578,
         1728708836000
        ],
        [
         "dbfs:/user/hive/warehouse/employees/_delta_log/00000000000000000001.json",
         "00000000000000000001.json",
         1110,
         1728708835000
        ],
        [
         "dbfs:/user/hive/warehouse/employees/_delta_log/00000000000000000002.crc",
         "00000000000000000002.crc",
         3104,
         1728708837000
        ],
        [
         "dbfs:/user/hive/warehouse/employees/_delta_log/00000000000000000002.json",
         "00000000000000000002.json",
         1111,
         1728708836000
        ],
        [
         "dbfs:/user/hive/warehouse/employees/_delta_log/00000000000000000003.crc",
         "00000000000000000003.crc",
         3628,
         1728708838000
        ],
        [
         "dbfs:/user/hive/warehouse/employees/_delta_log/00000000000000000003.json",
         "00000000000000000003.json",
         1109,
         1728708837000
        ],
        [
         "dbfs:/user/hive/warehouse/employees/_delta_log/00000000000000000004.crc",
         "00000000000000000004.crc",
         4150,
         1728708839000
        ],
        [
         "dbfs:/user/hive/warehouse/employees/_delta_log/00000000000000000004.json",
         "00000000000000000004.json",
         1107,
         1728708838000
        ],
        [
         "dbfs:/user/hive/warehouse/employees/_delta_log/00000000000000000005.crc",
         "00000000000000000005.crc",
         4150,
         1728708901000
        ],
        [
         "dbfs:/user/hive/warehouse/employees/_delta_log/00000000000000000005.json",
         "00000000000000000005.json",
         2647,
         1728708900000
        ],
        [
         "dbfs:/user/hive/warehouse/employees/_delta_log/__tmp_path_dir/",
         "__tmp_path_dir/",
         0,
         1728708759000
        ]
       ],
       "datasetInfos": [],
       "dbfsResultPath": null,
       "isJsonSchema": true,
       "metadata": {
        "isDbfsCommandResult": false
       },
       "overflow": false,
       "plotOptions": {
        "customPlotOptions": {},
        "displayType": "table",
        "pivotAggregation": null,
        "pivotColumns": null,
        "xColumns": null,
        "yColumns": null
       },
       "removedWidgets": [],
       "schema": [
        {
         "metadata": "{}",
         "name": "path",
         "type": "\"string\""
        },
        {
         "metadata": "{}",
         "name": "name",
         "type": "\"string\""
        },
        {
         "metadata": "{}",
         "name": "size",
         "type": "\"long\""
        },
        {
         "metadata": "{}",
         "name": "modificationTime",
         "type": "\"long\""
        }
       ],
       "type": "table"
      }
     },
     "output_type": "display_data"
    }
   ],
   "source": [
    "%fs ls 'dbfs:/user/hive/warehouse/employees/_delta_log'"
   ]
  },
  {
   "cell_type": "markdown",
   "metadata": {
    "application/vnd.databricks.v1+cell": {
     "cellMetadata": {},
     "inputWidgets": {},
     "nuid": "dbc42753-ae42-417a-864f-ee23d64d449f",
     "showTitle": false,
     "title": ""
    }
   },
   "source": [
    "Each transaction is a new JSON file being written to the Delta lake transaction log.\n",
    "\n",
    "Here you can see that there are three JSON files representing the three transactions we have made on the table.\n",
    "\n",
    "Starting from zero, the other file in the directory are just the checksum of the JSON files.\n",
    "\n",
    "Let us look inside the last file representing the update transaction.\n"
   ]
  },
  {
   "cell_type": "code",
   "execution_count": 0,
   "metadata": {
    "application/vnd.databricks.v1+cell": {
     "cellMetadata": {
      "byteLimit": 2048000,
      "rowLimit": 10000
     },
     "inputWidgets": {},
     "nuid": "eb8d8a21-b97e-4960-ab1a-0b0b257bf5e3",
     "showTitle": false,
     "title": ""
    },
    "vscode": {
     "languageId": "sql"
    }
   },
   "outputs": [
    {
     "data": {
      "text/html": [
       "<style scoped>\n",
       "  .ansiout {\n",
       "    display: block;\n",
       "    unicode-bidi: embed;\n",
       "    white-space: pre-wrap;\n",
       "    word-wrap: break-word;\n",
       "    word-break: break-all;\n",
       "    font-family: \"Menlo\", \"Monaco\", \"Consolas\", \"Ubuntu Mono\", \"Source Code Pro\", monospace;\n",
       "    font-size: 13px;\n",
       "    color: #555;\n",
       "    margin-left: 4px;\n",
       "    line-height: 19px;\n",
       "  }\n",
       "</style>\n",
       "<div class=\"ansiout\">{&quot;commitInfo&quot;:{&quot;timestamp&quot;:1728708900497,&quot;userId&quot;:&quot;2895352578531874&quot;,&quot;userName&quot;:&quot;suryapulika38@gmail.com&quot;,&quot;operation&quot;:&quot;UPDATE&quot;,&quot;operationParameters&quot;:{&quot;predicate&quot;:&quot;[\\&quot;StartsWith(name#10523, A)\\&quot;]&quot;},&quot;notebook&quot;:{&quot;notebookId&quot;:&quot;4341422527294408&quot;},&quot;clusterId&quot;:&quot;1011-150700-u18wk0fi&quot;,&quot;readVersion&quot;:4,&quot;isolationLevel&quot;:&quot;WriteSerializable&quot;,&quot;isBlindAppend&quot;:false,&quot;operationMetrics&quot;:{&quot;numRemovedFiles&quot;:&quot;2&quot;,&quot;numRemovedBytes&quot;:&quot;2142&quot;,&quot;numCopiedRows&quot;:&quot;1&quot;,&quot;numDeletionVectorsAdded&quot;:&quot;0&quot;,&quot;numDeletionVectorsRemoved&quot;:&quot;0&quot;,&quot;numAddedChangeFiles&quot;:&quot;0&quot;,&quot;executionTimeMs&quot;:&quot;1375&quot;,&quot;scanTimeMs&quot;:&quot;899&quot;,&quot;numAddedFiles&quot;:&quot;2&quot;,&quot;numUpdatedRows&quot;:&quot;2&quot;,&quot;numAddedBytes&quot;:&quot;2142&quot;,&quot;rewriteTimeMs&quot;:&quot;466&quot;},&quot;tags&quot;:{&quot;noRowsCopied&quot;:&quot;false&quot;,&quot;delta.rowTracking.preserved&quot;:&quot;false&quot;,&quot;restoresDeletedRows&quot;:&quot;false&quot;},&quot;engineInfo&quot;:&quot;Databricks-Runtime/13.3.x-scala2.12&quot;,&quot;txnId&quot;:&quot;547562fa-37a6-43ea-ab73-4b340f9011d6&quot;}}\n",
       "{&quot;remove&quot;:{&quot;path&quot;:&quot;part-00000-1ce54e7c-9ef3-4343-b8ed-7787e775fe0b-c000.snappy.parquet&quot;,&quot;deletionTimestamp&quot;:1728708900486,&quot;dataChange&quot;:true,&quot;extendedFileMetadata&quot;:true,&quot;partitionValues&quot;:{},&quot;size&quot;:1076,&quot;tags&quot;:{&quot;INSERTION_TIME&quot;:&quot;1728708835000000&quot;,&quot;MIN_INSERTION_TIME&quot;:&quot;1728708835000000&quot;,&quot;MAX_INSERTION_TIME&quot;:&quot;1728708835000000&quot;,&quot;OPTIMIZE_TARGET_SIZE&quot;:&quot;268435456&quot;}}}\n",
       "{&quot;remove&quot;:{&quot;path&quot;:&quot;part-00000-65976bba-d807-4f83-9b35-bfa88b852228-c000.snappy.parquet&quot;,&quot;deletionTimestamp&quot;:1728708900486,&quot;dataChange&quot;:true,&quot;extendedFileMetadata&quot;:true,&quot;partitionValues&quot;:{},&quot;size&quot;:1066,&quot;tags&quot;:{&quot;INSERTION_TIME&quot;:&quot;1728708837000000&quot;,&quot;MIN_INSERTION_TIME&quot;:&quot;1728708837000000&quot;,&quot;MAX_INSERTION_TIME&quot;:&quot;1728708837000000&quot;,&quot;OPTIMIZE_TARGET_SIZE&quot;:&quot;268435456&quot;}}}\n",
       "{&quot;add&quot;:{&quot;path&quot;:&quot;part-00000-7fec7995-32fc-4591-b2ce-c38399443529-c000.snappy.parquet&quot;,&quot;partitionValues&quot;:{},&quot;size&quot;:1076,&quot;modificationTime&quot;:1728708900000,&quot;dataChange&quot;:true,&quot;stats&quot;:&quot;{\\&quot;numRecords\\&quot;:2,\\&quot;minValues\\&quot;:{\\&quot;id\\&quot;:1,\\&quot;name\\&quot;:\\&quot;Adam\\&quot;,\\&quot;salary\\&quot;:3600.0},\\&quot;maxValues\\&quot;:{\\&quot;id\\&quot;:2,\\&quot;name\\&quot;:\\&quot;Sarah\\&quot;,\\&quot;salary\\&quot;:4020.5},\\&quot;nullCount\\&quot;:{\\&quot;id\\&quot;:0,\\&quot;name\\&quot;:0,\\&quot;salary\\&quot;:0}}&quot;,&quot;tags&quot;:{&quot;MAX_INSERTION_TIME&quot;:&quot;1728708835000000&quot;,&quot;INSERTION_TIME&quot;:&quot;1728708835000000&quot;,&quot;MIN_INSERTION_TIME&quot;:&quot;1728708835000000&quot;,&quot;OPTIMIZE_TARGET_SIZE&quot;:&quot;268435456&quot;}}}\n",
       "{&quot;add&quot;:{&quot;path&quot;:&quot;part-00001-f3a4dc82-ba54-4812-ab87-dfca50f7ba8f-c000.snappy.parquet&quot;,&quot;partitionValues&quot;:{},&quot;size&quot;:1066,&quot;modificationTime&quot;:1728708900000,&quot;dataChange&quot;:true,&quot;stats&quot;:&quot;{\\&quot;numRecords\\&quot;:1,\\&quot;minValues\\&quot;:{\\&quot;id\\&quot;:5,\\&quot;name\\&quot;:\\&quot;Anna\\&quot;,\\&quot;salary\\&quot;:2600.0},\\&quot;maxValues\\&quot;:{\\&quot;id\\&quot;:5,\\&quot;name\\&quot;:\\&quot;Anna\\&quot;,\\&quot;salary\\&quot;:2600.0},\\&quot;nullCount\\&quot;:{\\&quot;id\\&quot;:0,\\&quot;name\\&quot;:0,\\&quot;salary\\&quot;:0}}&quot;,&quot;tags&quot;:{&quot;MAX_INSERTION_TIME&quot;:&quot;1728708837000000&quot;,&quot;INSERTION_TIME&quot;:&quot;1728708837000000&quot;,&quot;MIN_INSERTION_TIME&quot;:&quot;1728708837000000&quot;,&quot;OPTIMIZE_TARGET_SIZE&quot;:&quot;268435456&quot;}}}\n",
       "\n",
       "</div>"
      ]
     },
     "metadata": {
      "application/vnd.databricks.v1+output": {
       "addedWidgets": {},
       "arguments": {},
       "data": "<div class=\"ansiout\">{&quot;commitInfo&quot;:{&quot;timestamp&quot;:1728708900497,&quot;userId&quot;:&quot;2895352578531874&quot;,&quot;userName&quot;:&quot;suryapulika38@gmail.com&quot;,&quot;operation&quot;:&quot;UPDATE&quot;,&quot;operationParameters&quot;:{&quot;predicate&quot;:&quot;[\\&quot;StartsWith(name#10523, A)\\&quot;]&quot;},&quot;notebook&quot;:{&quot;notebookId&quot;:&quot;4341422527294408&quot;},&quot;clusterId&quot;:&quot;1011-150700-u18wk0fi&quot;,&quot;readVersion&quot;:4,&quot;isolationLevel&quot;:&quot;WriteSerializable&quot;,&quot;isBlindAppend&quot;:false,&quot;operationMetrics&quot;:{&quot;numRemovedFiles&quot;:&quot;2&quot;,&quot;numRemovedBytes&quot;:&quot;2142&quot;,&quot;numCopiedRows&quot;:&quot;1&quot;,&quot;numDeletionVectorsAdded&quot;:&quot;0&quot;,&quot;numDeletionVectorsRemoved&quot;:&quot;0&quot;,&quot;numAddedChangeFiles&quot;:&quot;0&quot;,&quot;executionTimeMs&quot;:&quot;1375&quot;,&quot;scanTimeMs&quot;:&quot;899&quot;,&quot;numAddedFiles&quot;:&quot;2&quot;,&quot;numUpdatedRows&quot;:&quot;2&quot;,&quot;numAddedBytes&quot;:&quot;2142&quot;,&quot;rewriteTimeMs&quot;:&quot;466&quot;},&quot;tags&quot;:{&quot;noRowsCopied&quot;:&quot;false&quot;,&quot;delta.rowTracking.preserved&quot;:&quot;false&quot;,&quot;restoresDeletedRows&quot;:&quot;false&quot;},&quot;engineInfo&quot;:&quot;Databricks-Runtime/13.3.x-scala2.12&quot;,&quot;txnId&quot;:&quot;547562fa-37a6-43ea-ab73-4b340f9011d6&quot;}}\n{&quot;remove&quot;:{&quot;path&quot;:&quot;part-00000-1ce54e7c-9ef3-4343-b8ed-7787e775fe0b-c000.snappy.parquet&quot;,&quot;deletionTimestamp&quot;:1728708900486,&quot;dataChange&quot;:true,&quot;extendedFileMetadata&quot;:true,&quot;partitionValues&quot;:{},&quot;size&quot;:1076,&quot;tags&quot;:{&quot;INSERTION_TIME&quot;:&quot;1728708835000000&quot;,&quot;MIN_INSERTION_TIME&quot;:&quot;1728708835000000&quot;,&quot;MAX_INSERTION_TIME&quot;:&quot;1728708835000000&quot;,&quot;OPTIMIZE_TARGET_SIZE&quot;:&quot;268435456&quot;}}}\n{&quot;remove&quot;:{&quot;path&quot;:&quot;part-00000-65976bba-d807-4f83-9b35-bfa88b852228-c000.snappy.parquet&quot;,&quot;deletionTimestamp&quot;:1728708900486,&quot;dataChange&quot;:true,&quot;extendedFileMetadata&quot;:true,&quot;partitionValues&quot;:{},&quot;size&quot;:1066,&quot;tags&quot;:{&quot;INSERTION_TIME&quot;:&quot;1728708837000000&quot;,&quot;MIN_INSERTION_TIME&quot;:&quot;1728708837000000&quot;,&quot;MAX_INSERTION_TIME&quot;:&quot;1728708837000000&quot;,&quot;OPTIMIZE_TARGET_SIZE&quot;:&quot;268435456&quot;}}}\n{&quot;add&quot;:{&quot;path&quot;:&quot;part-00000-7fec7995-32fc-4591-b2ce-c38399443529-c000.snappy.parquet&quot;,&quot;partitionValues&quot;:{},&quot;size&quot;:1076,&quot;modificationTime&quot;:1728708900000,&quot;dataChange&quot;:true,&quot;stats&quot;:&quot;{\\&quot;numRecords\\&quot;:2,\\&quot;minValues\\&quot;:{\\&quot;id\\&quot;:1,\\&quot;name\\&quot;:\\&quot;Adam\\&quot;,\\&quot;salary\\&quot;:3600.0},\\&quot;maxValues\\&quot;:{\\&quot;id\\&quot;:2,\\&quot;name\\&quot;:\\&quot;Sarah\\&quot;,\\&quot;salary\\&quot;:4020.5},\\&quot;nullCount\\&quot;:{\\&quot;id\\&quot;:0,\\&quot;name\\&quot;:0,\\&quot;salary\\&quot;:0}}&quot;,&quot;tags&quot;:{&quot;MAX_INSERTION_TIME&quot;:&quot;1728708835000000&quot;,&quot;INSERTION_TIME&quot;:&quot;1728708835000000&quot;,&quot;MIN_INSERTION_TIME&quot;:&quot;1728708835000000&quot;,&quot;OPTIMIZE_TARGET_SIZE&quot;:&quot;268435456&quot;}}}\n{&quot;add&quot;:{&quot;path&quot;:&quot;part-00001-f3a4dc82-ba54-4812-ab87-dfca50f7ba8f-c000.snappy.parquet&quot;,&quot;partitionValues&quot;:{},&quot;size&quot;:1066,&quot;modificationTime&quot;:1728708900000,&quot;dataChange&quot;:true,&quot;stats&quot;:&quot;{\\&quot;numRecords\\&quot;:1,\\&quot;minValues\\&quot;:{\\&quot;id\\&quot;:5,\\&quot;name\\&quot;:\\&quot;Anna\\&quot;,\\&quot;salary\\&quot;:2600.0},\\&quot;maxValues\\&quot;:{\\&quot;id\\&quot;:5,\\&quot;name\\&quot;:\\&quot;Anna\\&quot;,\\&quot;salary\\&quot;:2600.0},\\&quot;nullCount\\&quot;:{\\&quot;id\\&quot;:0,\\&quot;name\\&quot;:0,\\&quot;salary\\&quot;:0}}&quot;,&quot;tags&quot;:{&quot;MAX_INSERTION_TIME&quot;:&quot;1728708837000000&quot;,&quot;INSERTION_TIME&quot;:&quot;1728708837000000&quot;,&quot;MIN_INSERTION_TIME&quot;:&quot;1728708837000000&quot;,&quot;OPTIMIZE_TARGET_SIZE&quot;:&quot;268435456&quot;}}}\n\n</div>",
       "datasetInfos": [],
       "metadata": {
        "isDbfsCommandResult": false
       },
       "removedWidgets": [],
       "type": "html"
      }
     },
     "output_type": "display_data"
    }
   ],
   "source": [
    "%fs head 'dbfs:/user/hive/warehouse/employees/_delta_log/00000000000000000005.json'"
   ]
  },
  {
   "cell_type": "markdown",
   "metadata": {
    "application/vnd.databricks.v1+cell": {
     "cellMetadata": {},
     "inputWidgets": {},
     "nuid": "c95e02bd-0175-4a63-9ea0-4f8018ed59f4",
     "showTitle": false,
     "title": ""
    }
   },
   "source": [
    "For example, with the \"add\" element, you can see the new files that have been written to our table.\n",
    "\n",
    "And with the \"remove\" tags, you can see the list of files that have been soft deleted from our table. \n",
    "It means the file that no longer should be included in the table.\n"
   ]
  }
 ],
 "metadata": {
  "application/vnd.databricks.v1+notebook": {
   "dashboards": [],
   "environmentMetadata": null,
   "language": "python",
   "notebookMetadata": {
    "mostRecentlyExecutedCommandWithImplicitDF": {
     "commandId": 4341422527294441,
     "dataframes": [
      "_sqldf"
     ]
    },
    "pythonIndentUnit": 4
   },
   "notebookName": "Lecture-11-understanding-delta-tables-hands-on",
   "widgets": {}
  },
  "language_info": {
   "name": "python"
  }
 },
 "nbformat": 4,
 "nbformat_minor": 0
}
