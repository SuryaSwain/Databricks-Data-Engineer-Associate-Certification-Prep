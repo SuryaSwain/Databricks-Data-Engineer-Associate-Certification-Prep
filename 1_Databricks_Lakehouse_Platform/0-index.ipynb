{
 "cells": [
  {
   "cell_type": "markdown",
   "metadata": {},
   "source": [
    "# Day 1: Understand the Databricks Lakehouse Platform\n",
    "\n",
    "On Day 1, we will dive into the foundational concepts of the Databricks Lakehouse Platform. \n",
    "\n",
    "\n",
    "- *Udemy Course: Databricks Certified Data Engineer Associate - Preparation* -- **Section 1: Introduction**\n",
    "  * [x] [Lesson 1. Course Overview](./lesson-1-course-overview.ipynb)\n",
    "  * [x] [Lesson 2. What is Databricks](./lesson-2-what-is-databricks.ipynb)\n",
    "  * [x] [Lesson 3. Get started with Community Edition](./lesson-3-get-started-with-community-edition.ipynb)\n",
    "  * [x] [Lesson 4. Free trial on Azure](./lesson-4-free-trial-on-azure.ipynb)\n",
    "  * [x] [Lesson 5. Exploring Workspace](./lesson-5-exploring-workspace.ipynb)\n",
    "  * [x] [Lesson 6. Course Materials](./lesson-6-course-materials.ipynb)\n",
    "  * [x] [Lesson 7. Creating Cluster](./lesson-7-creating-cluster.ipynb)\n",
    "  * [x] [Lesson 8. Notebooks Fundamentals](./lesson-8-notebooks-fundamentals.ipynb)\n",
    "  * [x] [Lesson 9. Databricks Repos (Git folders)](./lesson-9-databricks-repos-git-folders.ipynb)\n",
    "\n",
    "\n",
    "- *Udemy Course: Databricks Certified Data Engineer Associate - Preparation* -- **Section 2: Databricks Lakehouse Platform**\n",
    "  * [ ] [Lesson 10. Delta Lake](./lesson-10-delta-lake.ipynb)\n",
    "  * [ ] [Lesson 11. Understanding Delta Tables (Hands On)](./lesson-11-understanding-delta-tables-hands-on.ipynb)\n",
    "  * [ ] [Lesson 12. Advanced Delta Lake Features](./lesson-12-advanced-delta-lake-features.ipynb)\n",
    "  * [ ] [Lesson 13. Apply Advanced Delta Features (Hands On)](./lesson-13-apply-advanced-delta-features-hands-on.ipynb)\n",
    "  * [ ] [Lesson 14. Relational entities](./lesson-14-relational-entities.ipynb)\n",
    "  * [ ] [Lesson 15. Databases and Tables on Databricks (Hands On)](./lesson-15-databases-and-tables-on-databricks-hands-on.ipynb)\n",
    "  * [ ] [Lesson 16. Set Up Delta Tables](./lesson-16-set-up-delta-tables.ipynb)\n",
    "  * [ ] [Lesson 17. Views](./lesson-17-views.ipynb)\n",
    "  * [ ] [Lesson 18. Working with Views (Hands On)](./lesson-18-working-with-views-hands-on.ipynb)\n",
    "\n"
   ]
  }
 ],
 "metadata": {
  "language_info": {
   "name": "python"
  }
 },
 "nbformat": 4,
 "nbformat_minor": 2
}
