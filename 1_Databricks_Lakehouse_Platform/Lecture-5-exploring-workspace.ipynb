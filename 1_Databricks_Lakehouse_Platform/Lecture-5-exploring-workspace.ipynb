{
 "cells": [
  {
   "cell_type": "markdown",
   "metadata": {},
   "source": [
    "# Lesson 5. Exploring Workspace\n",
    "\n"
   ]
  },
  {
   "cell_type": "markdown",
   "metadata": {},
   "source": [
    "## Azure Databricks platform home (dashboard)\n",
    "<div style=\"text-align: center;\">\n",
    "<img src=\"../images/Azure Databricks platform - full sidebar.jpg\" style=\"width:960px\" >\n",
    "</div>\n",
    "\n"
   ]
  },
  {
   "cell_type": "markdown",
   "metadata": {},
   "source": [
    "## Azure Databricks platform:  Workspace/ Home vs Users\n",
    "\n",
    "<div style=\"text-align: center;\">\n",
    "<img src=\"../images/Azure Databricks platform - Workspace Home&Users.jpg\" style=\"width:960px\" >\n",
    "</div>\n",
    "\n"
   ]
  },
  {
   "cell_type": "markdown",
   "metadata": {},
   "source": [
    "## Azure Databricks platform:  Workspace/ Repos\n",
    "\n",
    "<div style=\"text-align: center;\">\n",
    "<img src=\"../images/Azure Databricks platform - Workspace - Repos.jpg\" style=\"width:960px\" >\n",
    "</div>\n"
   ]
  },
  {
   "cell_type": "markdown",
   "metadata": {},
   "source": [
    "## [Watch Video](https://external-teksystems.udemy.com/course/databricks-certified-data-engineer-associate/learn/lecture/34727098#overview)\n",
    "\n",
    "\n"
   ]
  }
 ],
 "metadata": {
  "language_info": {
   "name": "python"
  }
 },
 "nbformat": 4,
 "nbformat_minor": 2
}
