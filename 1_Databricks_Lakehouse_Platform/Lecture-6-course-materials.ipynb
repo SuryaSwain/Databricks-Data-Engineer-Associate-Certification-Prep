{
 "cells": [
  {
   "cell_type": "markdown",
   "metadata": {},
   "source": [
    "# Lesson 6. Course Materials\n",
    "\n",
    "## Resources\n",
    "  - Github Repository: https://github.com/derar-alhussein/Databricks-Certified-Data-Engineer-Associate\n",
    "\n",
    "  - [Course Materials DBC](../resources/Course-Materials.dbc)\n",
    "\n"
   ]
  },
  {
   "cell_type": "markdown",
   "metadata": {},
   "source": [
    "## How to Clone Github repository into Databricks Repos\n",
    "\n",
    "  * Workspace/Home - Create/Git Folder\n",
    "    <div style=\"text-align: center;\">\n",
    "    <img src=\"../images/Azure Databricks platform - Workspace Home - Create Git Folder.jpg\" style=\"width:960px\" >\n",
    "    </div>\n",
    "  \n",
    "  * Create Git Folder Modal\n",
    "    <div style=\"text-align: center;\">\n",
    "    <img src=\"../images/Azure Databricks platform - Workspace Home - Create Git Folder Modal.jpg\" style=\"width:960px\" >\n",
    "    </div>\n",
    "\n",
    "  * Create Git Folder result\n",
    "    <div style=\"text-align: center;\">\n",
    "    <img src=\"../images/Azure Databricks platform - Workspace Home - Create Git Folder result.jpg\" style=\"width:960px\" >\n",
    "    </div>\n"
   ]
  },
  {
   "cell_type": "markdown",
   "metadata": {},
   "source": [
    "## [Watch Video](https://external-teksystems.udemy.com/course/databricks-certified-data-engineer-associate/learn/lecture/34742090#overview)\n",
    "\n",
    "\n"
   ]
  }
 ],
 "metadata": {
  "language_info": {
   "name": "python"
  }
 },
 "nbformat": 4,
 "nbformat_minor": 2
}
