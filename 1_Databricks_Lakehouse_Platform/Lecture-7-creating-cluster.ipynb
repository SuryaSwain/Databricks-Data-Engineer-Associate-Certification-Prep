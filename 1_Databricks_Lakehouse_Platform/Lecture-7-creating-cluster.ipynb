{
 "cells": [
  {
   "cell_type": "markdown",
   "metadata": {},
   "source": [
    "# Udemy Course: Databricks Certified Data Engineer Associate - Preparation\n",
    "\n",
    "## Section 1: Introduction"
   ]
  },
  {
   "cell_type": "markdown",
   "metadata": {},
   "source": [
    "### Lesson 7. Creating Cluster\n",
    "\n",
    "  - Navigate to \"Compute\" in the left side bar. ...\n",
    "\n",
    "  - A *cluster* is a set of nodes or computers working together like a single entity. \n",
    "  It consists of a master node called the *driver* and some other *worker* nodes.\n",
    "  The driver node is responsible for coordinating the workers and their parallel execution of tasks.\n",
    "\n",
    "  - Your cluster could be multi node, that is having multiple workers, or simply a single node. \n",
    "  A single node cluster, has no workers and run Spark jobs on the driver node.\n",
    "\n",
    "  - For the *access mode*, you can allow your cluster to be shared by multiple users. \n",
    "  However, only SQL and Python workloads will be supported.\n",
    "\n",
    "  - *Databricks Runtime* is the virtual machine's image that comes with preinstalled libraries, \n",
    "  which has a specific version of Spark, Scala and other libraries.\n",
    "\n",
    "  - In addition, you can choose to activate *Photon*, \n",
    "  which is a vectorized query engine developed in C++ to enhance Spark performance.\n",
    "\n",
    "  - You can select the configuration of your worker nodes. \n",
    "  These are different virtual machine sizes provided by your cloud provider,\n",
    "\n",
    "  - *DBU* stands for Databricks Unit and it is a unit of a processing capability per hour\n",
    "\n",
    "  - Changing the cluster configuration may require a restart of the cluster.\n",
    "\n",
    "  - In the cluster page, you can notice two things.\n",
    "    \n",
    "    * The *event log*, that shows all the events that have happened with the cluster. \n",
    "    For example, when the cluster was created or terminated, if it is edited or if it is running fine. \n",
    "    This helps to track the activity on a cluster.\n",
    "\n",
    "    * In the *driver log*, you will get the log generated within the cluster notebooks and libraries.\n",
    "\n",
    "  - [Watch Video](https://external-teksystems.udemy.com/course/databricks-certified-data-engineer-associate/learn/lecture/34728190)\n",
    "\n",
    "\n"
   ]
  }
 ],
 "metadata": {
  "language_info": {
   "name": "python"
  }
 },
 "nbformat": 4,
 "nbformat_minor": 2
}
