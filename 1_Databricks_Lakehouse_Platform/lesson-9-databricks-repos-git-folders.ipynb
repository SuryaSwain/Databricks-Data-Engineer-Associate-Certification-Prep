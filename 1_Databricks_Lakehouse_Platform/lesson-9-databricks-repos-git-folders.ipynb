{
 "cells": [
  {
   "cell_type": "markdown",
   "metadata": {},
   "source": [
    "# Udemy Course: Databricks Certified Data Engineer Associate - Preparation\n",
    "\n",
    "## Section 1: Introduction"
   ]
  },
  {
   "cell_type": "markdown",
   "metadata": {},
   "source": [
    "### Lesson 9. Databricks Repos (Git folders)\n",
    "\n",
    "  - Databricks Repos provides source control for your data projects by integrating with GitHub providers.\n",
    "\n",
    "  - In order to work with Databricks Repos, we must first configure git integration in your workspace.\n",
    "\n",
    "  - [Watch Video](https://external-teksystems.udemy.com/course/databricks-certified-data-engineer-associate/learn/lecture/34844752#overview)\n"
   ]
  }
 ],
 "metadata": {
  "language_info": {
   "name": "python"
  }
 },
 "nbformat": 4,
 "nbformat_minor": 2
}
