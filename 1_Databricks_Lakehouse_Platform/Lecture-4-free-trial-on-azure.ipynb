{
 "cells": [
  {
   "cell_type": "markdown",
   "metadata": {},
   "source": [
    "# Udemy Course: Databricks Certified Data Engineer Associate - Preparation\n",
    "\n",
    "## Section 1: Introduction"
   ]
  },
  {
   "cell_type": "markdown",
   "metadata": {},
   "source": [
    "### Lesson 4. Free trial on Azure\n",
    "\n",
    "  - If you have a cloud account, you can use it to register for a 14-day Databricks full trial.\n",
    "\n",
    "  - A full trial in your cloud is recommended \n",
    "  since it includes production grade functionalities \n",
    "  that are not available in the limited community edition.\n",
    "\n",
    "  - Microsoft offers a free tier for 12 months, \n",
    "  allowing you to explore and try out Azure services \n",
    "  free of charge and up to specified limits for each service.\n",
    "\n",
    "  - [Watch Video](https://external-teksystems.udemy.com/course/databricks-certified-data-engineer-associate/learn/lecture/34725890#overview)\n",
    "\n",
    "\n"
   ]
  }
 ],
 "metadata": {
  "language_info": {
   "name": "python"
  }
 },
 "nbformat": 4,
 "nbformat_minor": 2
}
